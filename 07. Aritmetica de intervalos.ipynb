{
 "cells": [
  {
   "cell_type": "markdown",
   "metadata": {},
   "source": [
    "# Intervalos"
   ]
  },
  {
   "cell_type": "markdown",
   "metadata": {},
   "source": [
    "Como vimos en el notebook anterior, trabajaremos con intervalos.\n",
    "\n",
    "Recordemos que un *intervalo* $[a,b] \\subseteq \\mathbb{R^*}$ es el conjunto \n",
    "\n",
    "$$[a, b] := \\{x \\in \\mathbb{R}^* : a \\le x \\le b \\}$$."
   ]
  },
  {
   "cell_type": "markdown",
   "metadata": {},
   "source": [
    "## Intervalos en Julia"
   ]
  },
  {
   "cell_type": "markdown",
   "metadata": {},
   "source": [
    "[1] (i) Define un tipo compósito de Julia `Intervalo` para representar un intervalo de dos números reales, que incluya redondeo dirigido. Por el momento supongamos que todos los elementos serán de tipo `BigFloat`.\n",
    "\n",
    "Para ello, deberás definir constructores que acepten cadenas y/o números.\n",
    "\n",
    "(ii) Implementa las operaciones básicas sobre intervalos.\n",
    "\n",
    "(iii) Limpia tu código para reducir la repetición de código, al sacar cada vez código en común a una función por separado.\n",
    "\n",
    "[2] Haz un *módulo* de Julia llamado `Intervalos` en un archivo `intervalos.jl`, que contiene todas las definiciones anteriores. \n",
    "\n",
    "[3] (i) Escribe *tests* (\"pruebas\") usando [`FactCheck.jl`](https://github.com/JuliaLang/FactCheck.jl).\n",
    "\n",
    "Estos tests se deberán correr cada vez que modifiques tu código, ¡para verificar que no lo hayas estropeado entre tanto!\n",
    "\n",
    "(ii) ¡Intenta destruir el código de alguien más! O sea, escribe tests que realmente prueben el código del otro."
   ]
  },
  {
   "cell_type": "markdown",
   "metadata": {},
   "source": [
    "## Problema #1"
   ]
  },
  {
   "cell_type": "code",
   "execution_count": 136,
   "metadata": {
    "collapsed": false
   },
   "outputs": [],
   "source": [
    "workspace()"
   ]
  },
  {
   "cell_type": "code",
   "execution_count": 137,
   "metadata": {
    "collapsed": false
   },
   "outputs": [
    {
     "name": "stderr",
     "output_type": "stream",
     "text": [
      "Warning: Method definition IPv4(String,) in module Compat at /home/estudiante/.julia/v0.3/Compat/src/Compat.jl:31 overwritten in module Compat at /home/estudiante/.julia/v0.3/Compat/src/Compat.jl:31.\n",
      "Warning: Method definition IPv6(String,) in module Compat at /home/estudiante/.julia/v0.3/Compat/src/Compat.jl:32 overwritten in module Compat at /home/estudiante/.julia/v0.3/Compat/src/Compat.jl:32.\n",
      "Warning: Method definition isless(T<:IpAddr,T<:IpAddr) in module Compat at /home/estudiante/.julia/v0.3/Compat/src/Compat.jl:37 overwritten in module Compat at /home/estudiante/.julia/v0.3/Compat/src/Compat.jl:37.\n",
      "Warning: Method definition Dict(Any,) in module Compat at /home/estudiante/.julia/v0.3/Compat/src/Compat.jl:49 overwritten in module Compat at /home/estudiante/.julia/v0.3/Compat/src/Compat.jl:49.\n",
      "Warning: Method definition round(Type{T<:Integer},Integer) in module Compat at /home/estudiante/.julia/v0.3/Compat/src/Compat.jl:65 overwritten in module Compat at /home/estudiante/.julia/v0.3/Compat/src/Compat.jl:65.\n",
      "Warning: Method definition round(Type{T<:Integer},Any) in module Compat at /home/estudiante/.julia/v0.3/Compat/src/Compat.jl:66 overwritten in module Compat at /home/estudiante/.julia/v0.3/Compat/src/Compat.jl:66.\n",
      "Warning: Method definition round(Type{T<:Integer},Rational{T<:Integer}) in module Compat at /home/estudiante/.julia/v0.3/Compat/src/Compat.jl:67 overwritten in module Compat at /home/estudiante/.julia/v0.3/Compat/src/Compat.jl:67.\n",
      "Warning: Method definition ceil(Type{T<:Integer},Integer) in module Compat at /home/estudiante/.julia/v0.3/Compat/src/Compat.jl:65 overwritten in module Compat at /home/estudiante/.julia/v0.3/Compat/src/Compat.jl:65.\n",
      "Warning: Method definition ceil(Type{T<:Integer},Any) in module Compat at /home/estudiante/.julia/v0.3/Compat/src/Compat.jl:66 overwritten in module Compat at /home/estudiante/.julia/v0.3/Compat/src/Compat.jl:66.\n",
      "Warning: Method definition ceil(Type{T<:Integer},Rational{T<:Integer}) in module Compat at /home/estudiante/.julia/v0.3/Compat/src/Compat.jl:67 overwritten in module Compat at /home/estudiante/.julia/v0.3/Compat/src/Compat.jl:67.\n",
      "Warning: Method definition floor(Type{T<:Integer},Integer) in module Compat at /home/estudiante/.julia/v0.3/Compat/src/Compat.jl:65 overwritten in module Compat at /home/estudiante/.julia/v0.3/Compat/src/Compat.jl:65.\n",
      "Warning: Method definition floor(Type{T<:Integer},Any) in module Compat at /home/estudiante/.julia/v0.3/Compat/src/Compat.jl:66 overwritten in module Compat at /home/estudiante/.julia/v0.3/Compat/src/Compat.jl:66.\n",
      "Warning: Method definition floor(Type{T<:Integer},Rational{T<:Integer}) in module Compat at /home/estudiante/.julia/v0.3/Compat/src/Compat.jl:67 overwritten in module Compat at /home/estudiante/.julia/v0.3/Compat/src/Compat.jl:67.\n",
      "Warning: Method definition trunc(Type{T<:Integer},Integer) in module Compat at /home/estudiante/.julia/v0.3/Compat/src/Compat.jl:65 overwritten in module Compat at /home/estudiante/.julia/v0.3/Compat/src/Compat.jl:65.\n",
      "Warning: Method definition trunc(Type{T<:Integer},Any) in module Compat at /home/estudiante/.julia/v0.3/Compat/src/Compat.jl:66 overwritten in module Compat at /home/estudiante/.julia/v0.3/Compat/src/Compat.jl:66.\n",
      "Warning: Method definition trunc(Type{T<:Integer},Rational{T<:Integer}) in module Compat at /home/estudiante/.julia/v0.3/Compat/src/Compat.jl:67 overwritten in module Compat at /home/estudiante/.julia/v0.3/Compat/src/Compat.jl:67.\n",
      "Warning: Method definition rand(Type{Bool},) in module Compat at /home/estudiante/.julia/v0.3/Compat/src/Compat.jl:173 overwritten in module Compat at /home/estudiante/.julia/v0.3/Compat/src/Compat.jl:173.\n",
      "Warning: Method definition parse(Type{T<:Integer},Char) in module Compat at /home/estudiante/.julia/v0.3/Compat/src/Compat.jl:194 overwritten in module Compat at /home/estudiante/.julia/v0.3/Compat/src/Compat.jl:194.\n",
      "Warning: Method definition parse(Type{T<:Integer},Char,Integer) in module Compat at /home/estudiante/.julia/v0.3/Compat/src/Compat.jl:195 overwritten in module Compat at /home/estudiante/.julia/v0.3/Compat/src/Compat.jl:195.\n",
      "Warning: Method definition parse(Type{T<:Integer},String) in module Compat at /home/estudiante/.julia/v0.3/Compat/src/Compat.jl:196 overwritten in module Compat at /home/estudiante/.julia/v0.3/Compat/src/Compat.jl:196.\n",
      "Warning: Method definition parse(Type{T<:Integer},String,Integer) in module Compat at /home/estudiante/.julia/v0.3/Compat/src/Compat.jl:197 overwritten in module Compat at /home/estudiante/.julia/v0.3/Compat/src/Compat.jl:197.\n",
      "Warning: Method definition parse(Type{T<:Union(Float32,Float64)},String) in module Compat at /home/estudiante/.julia/v0.3/Compat/src/Compat.jl:198 overwritten in module Compat at /home/estudiante/.julia/v0.3/Compat/src/Compat.jl:198.\n",
      "Warning: Method definition show() in module PyPlot at /home/estudiante/.julia/v0.3/PyPlot/src/PyPlot.jl:360 overwritten in module PyPlot at /home/estudiante/.julia/v0.3/PyPlot/src/PyPlot.jl:360.\n",
      "Warning: Method definition step(Any,Any) in module PyPlot at /home/estudiante/.julia/v0.3/PyPlot/src/PyPlot.jl:374 overwritten in module PyPlot at /home/estudiante/.julia/v0.3/PyPlot/src/PyPlot.jl:374.\n",
      "Warning: Method definition step(Array{T,N},Any,Any) in module PyPlot overwritten in module PyPlot.\n",
      "Warning: New definition \n",
      "    close(Union(Symbol,Figure,Integer,String),) at /home/estudiante/.julia/v0.3/PyPlot/src/PyPlot.jl:376\n",
      "is ambiguous with: \n",
      "    close(Union(Symbol,Figure,Integer,String),) at /home/estudiante/.julia/v0.3/PyPlot/src/PyPlot.jl:376.\n",
      "To fix, define \n",
      "    close(Union(Symbol,Integer,String),)\n",
      "before the new definition.\n",
      "Warning: New definition \n",
      "    close(Union(Symbol,Figure,Integer,String),) at /home/estudiante/.julia/v0.3/PyPlot/src/PyPlot.jl:376\n",
      "is ambiguous with: \n",
      "    close(Union(Symbol,Figure,Integer,String),) at /home/estudiante/.julia/v0.3/PyPlot/src/PyPlot.jl:376.\n",
      "To fix, define \n",
      "    close(Union(Symbol,Integer,String),)\n",
      "before the new definition.\n",
      "Warning: New definition \n",
      "    close(Union(Symbol,Figure,Integer,String),) at /home/estudiante/.julia/v0.3/PyPlot/src/PyPlot.jl:376\n",
      "is ambiguous with: \n",
      "    close(Union(Symbol,Figure,Integer,String),) at /home/estudiante/.julia/v0.3/PyPlot/src/PyPlot.jl:376.\n",
      "To fix, define \n",
      "    close(Union(Symbol,Integer,String),)\n",
      "before the new definition.\n",
      "Warning: New definition \n",
      "    close(Union(Symbol,Figure,Integer,String),) at /home/estudiante/.julia/v0.3/PyPlot/src/PyPlot.jl:376\n",
      "is ambiguous with: \n",
      "    close(Union(Symbol,Figure,Integer,String),) at /home/estudiante/.julia/v0.3/PyPlot/src/PyPlot.jl:376.\n",
      "To fix, define \n",
      "    close(Union(Symbol,Integer,String),)\n",
      "before the new definition.\n",
      "Warning: New definition \n",
      "    close(Union(Symbol,Figure,Integer,String),) at /home/estudiante/.julia/v0.3/PyPlot/src/PyPlot.jl:376\n",
      "is ambiguous with: \n",
      "    close(Union(Symbol,Integer,String,Figure),) at /home/estudiante/.julia/v0.3/PyPlot/src/PyPlot.jl:376.\n",
      "To fix, define \n",
      "    close(Union(Symbol,Integer,String),)\n",
      "before the new definition.\n",
      "Warning: New definition \n",
      "    close(Union(Symbol,Figure,Integer,String),) at /home/estudiante/.julia/v0.3/PyPlot/src/PyPlot.jl:376\n",
      "is ambiguous with: \n",
      "    close(Union(Symbol,Figure,Integer,String),) at /home/estudiante/.julia/v0.3/PyPlot/src/PyPlot.jl:376.\n",
      "To fix, define \n",
      "    close(Union(Symbol,Integer,String),)\n",
      "before the new definition.\n",
      "Warning: New definition \n",
      "    close(Union(Symbol,Figure,Integer,String),) at /home/estudiante/.julia/v0.3/PyPlot/src/PyPlot.jl:376\n",
      "is ambiguous with: \n",
      "    close(Union(Symbol,Figure,Integer,String),) at /home/estudiante/.julia/v0.3/PyPlot/src/PyPlot.jl:376.\n",
      "To fix, define \n",
      "    close(Union(Symbol,Integer,String),)\n",
      "before the new definition.\n",
      "Warning: New definition \n",
      "    close(Union(Symbol,Figure,Integer,String),) at /home/estudiante/.julia/v0.3/PyPlot/src/PyPlot.jl:376\n",
      "is ambiguous with: \n",
      "    close(Union(Symbol,Figure,Integer,String),) at /home/estudiante/.julia/v0.3/PyPlot/src/PyPlot.jl:376.\n",
      "To fix, define \n",
      "    close(Union(Symbol,Integer,String),)\n",
      "before the new definition.\n",
      "Warning: New definition \n",
      "    close(Union(Symbol,Figure,Integer,String),) at /home/estudiante/.julia/v0.3/PyPlot/src/PyPlot.jl:376\n",
      "is ambiguous with: \n",
      "    close(Union(Figure,Symbol,Integer,String),) at /home/estudiante/.julia/v0.3/PyPlot/src/PyPlot.jl:376.\n",
      "To fix, define \n",
      "    close(Union(Symbol,Integer,String),)\n",
      "before the new definition.\n",
      "Warning: New definition \n",
      "    close(Union(Symbol,Figure,Integer,String),) at /home/estudiante/.julia/v0.3/PyPlot/src/PyPlot.jl:376\n",
      "is ambiguous with: \n",
      "    close(Union(Symbol,Figure,Integer,String),) at /home/estudiante/.julia/v0.3/PyPlot/src/PyPlot.jl:376.\n",
      "To fix, define \n",
      "    close(Union(Symbol,Integer,String),)\n",
      "before the new definition.\n",
      "Warning: New definition \n",
      "    close(Union(Symbol,Figure,Integer,String),) at /home/estudiante/.julia/v0.3/PyPlot/src/PyPlot.jl:376\n",
      "is ambiguous with: \n",
      "    close(Union(Symbol,Figure,Integer,String),) at /home/estudiante/.julia/v0.3/PyPlot/src/PyPlot.jl:376.\n",
      "To fix, define \n",
      "    close(Union(Symbol,Integer,String),)\n",
      "before the new definition.\n",
      "Warning: Method definition close() in module PyPlot at /home/estudiante/.julia/v0.3/PyPlot/src/PyPlot.jl:377 overwritten in module PyPlot at /home/estudiante/.julia/v0.3/PyPlot/src/PyPlot.jl:377.\n",
      "Warning: Method definition connect(Union(Symbol,String),Function) in module PyPlot at /home/estudiante/.julia/v0.3/PyPlot/src/PyPlot.jl:379 overwritten in module PyPlot at /home/estudiante/.julia/v0.3/PyPlot/src/PyPlot.jl:379.\n",
      "Warning: Method definition fill(AbstractArray{T,N},AbstractArray{T,N},Any...) in module PyPlot at /home/estudiante/.julia/v0.3/PyPlot/src/PyPlot.jl:381 overwritten in module PyPlot at /home/estudiante/.julia/v0.3/PyPlot/src/PyPlot.jl:381.\n",
      "Warning: Method definition fill(Array{T,N},AbstractArray{T,N},AbstractArray{T,N},Any...) in module PyPlot overwritten in module PyPlot.\n"
     ]
    }
   ],
   "source": [
    "\n",
    "using Intervals; #Utilizo my modulo de intervalos\n",
    "using FactCheck;\n",
    "using PyPlot;"
   ]
  },
  {
   "cell_type": "code",
   "execution_count": 46,
   "metadata": {
    "collapsed": false
   },
   "outputs": [
    {
     "data": {
      "text/plain": [
       "true"
      ]
     },
     "execution_count": 46,
     "metadata": {},
     "output_type": "execute_result"
    }
   ],
   "source": []
  },
  {
   "cell_type": "code",
   "execution_count": 9,
   "metadata": {
    "collapsed": false,
    "scrolled": true
   },
   "outputs": [
    {
     "ename": "StackOverflowError",
     "evalue": "stack overflow",
     "output_type": "error",
     "traceback": [
      "stack overflow",
      "",
      " in inbase at methodshow.jl:76 (repeats 342 times)"
     ]
    }
   ],
   "source": []
  },
  {
   "cell_type": "code",
   "execution_count": 122,
   "metadata": {
    "collapsed": false
   },
   "outputs": [
    {
     "data": {
      "text/plain": [
       "Interval(-2.1,-1.1)"
      ]
     },
     "execution_count": 122,
     "metadata": {},
     "output_type": "execute_result"
    }
   ],
   "source": [
    "Interval(-1.1,-2.1)"
   ]
  },
  {
   "cell_type": "code",
   "execution_count": 121,
   "metadata": {
    "collapsed": false
   },
   "outputs": [
    {
     "name": "stdout",
     "output_type": "stream",
     "text": [
      "Pruebas Básicas\n",
      "13 facts verified.\n"
     ]
    },
    {
     "data": {
      "text/plain": [
       "delayed_handler (generic function with 4 methods)"
      ]
     },
     "execution_count": 121,
     "metadata": {},
     "output_type": "execute_result"
    }
   ],
   "source": [
    "facts(\"Pruebas Básicas\") do\n",
    "    A = Interval(1,2)\n",
    "    B = Interval(3,4)\n",
    "    C = Interval(4.0,6.0)\n",
    "    D = Interval(-1,1)\n",
    "    \n",
    "    @fact A + B => C\n",
    "    @fact A - B => Interval(-2.0,-2.0)\n",
    "    @fact A*B => Interval(3,8)\n",
    "    @fact A/B => Interval(.25,0.6666666666666667)\n",
    "    @fact midpoint(C) => 5\n",
    "    @fact contains(B, 1.0) => false\n",
    "    @fact contains(B, midpoint(B)) => true\n",
    "    @fact D^2 => Interval(0,1)\n",
    "    @fact D^3 => Interval(-1,1)\n",
    "    @fact A+2.0 => Interval(3,4)\n",
    "    @fact 2.0B => Interval(6,8)\n",
    "    @fact contains(Interval(0.1,.1),0.1) => true\n",
    "    @fact Interval(2,1) => Interval(1,2)\n",
    "end\n"
   ]
  },
  {
   "cell_type": "markdown",
   "metadata": {},
   "source": [
    "## Operaciones con intervalos "
   ]
  },
  {
   "cell_type": "markdown",
   "metadata": {},
   "source": [
    "El propósito de trabajar con intervalos es, por supuesto, el poder *usarlos* para llevar a cabo cálculos."
   ]
  },
  {
   "cell_type": "markdown",
   "metadata": {},
   "source": [
    "[4] Utiliza tu código para rehacer el cálculo de $\\pi$ del notebook 5. Ahora, ¡deberá ser mucho más fácil! \n",
    "\n",
    "¿Cuál es la diferencia entre el cálculo mediante intervalos y el cálculo original que hicimos?"
   ]
  },
  {
   "cell_type": "code",
   "execution_count": 3,
   "metadata": {
    "collapsed": false
   },
   "outputs": [
    {
     "data": {
      "text/plain": [
       "Interval(1.6406768220756305,1.649767731166541)"
      ]
     },
     "execution_count": 3,
     "metadata": {},
     "output_type": "execute_result"
    }
   ],
   "source": [
    "function SumToPi(n)\n",
    "    \n",
    "    finito = Interval(0,0)\n",
    "    \n",
    "    for i = 1:n\n",
    "        finito += Interval(1,1)/Interval(i^2,i^2)\n",
    "    end\n",
    "    \n",
    "    finito += Interval(1,1)/Interval(n,n+1) \n",
    "end\n",
    "        \n",
    "         \n",
    "SumToPi(10) \n",
    "    "
   ]
  },
  {
   "cell_type": "code",
   "execution_count": 14,
   "metadata": {
    "collapsed": false
   },
   "outputs": [
    {
     "data": {
      "text/plain": [
       "131"
      ]
     },
     "execution_count": 14,
     "metadata": {},
     "output_type": "execute_result"
    }
   ],
   "source": [
    "UpPi = Float64[]\n",
    "DownPi = Float64[]\n",
    "Pi=Float64[]\n",
    "n = [i for i in 20:150]\n",
    "\n",
    "for i in 20:150\n",
    "    push!(UpPi,sqrt(6*SumToPi(i).b))\n",
    "    push!(DownPi,sqrt(6*SumToPi(i).a))\n",
    "    push!(Pi,pi)\n",
    "end\n",
    "\n",
    "\n",
    "length(n)"
   ]
  },
  {
   "cell_type": "code",
   "execution_count": 220,
   "metadata": {
    "collapsed": false
   },
   "outputs": [
    {
     "data": {
      "text/plain": [
       "31-element Array{Int64,1}:\n",
       " 20\n",
       " 21\n",
       " 22\n",
       " 23\n",
       " 24\n",
       " 25\n",
       " 26\n",
       " 27\n",
       " 28\n",
       " 29\n",
       " 30\n",
       " 31\n",
       " 32\n",
       "  ⋮\n",
       " 39\n",
       " 40\n",
       " 41\n",
       " 42\n",
       " 43\n",
       " 44\n",
       " 45\n",
       " 46\n",
       " 47\n",
       " 48\n",
       " 49\n",
       " 50"
      ]
     },
     "execution_count": 220,
     "metadata": {},
     "output_type": "execute_result"
    }
   ],
   "source": [
    "n"
   ]
  },
  {
   "cell_type": "code",
   "execution_count": 15,
   "metadata": {
    "collapsed": false
   },
   "outputs": [
    {
     "data": {
      "image/png": "[encoded data removed]",
      "text/plain": [
       "Figure(PyObject <matplotlib.figure.Figure object at 0x7f6cb553cb10>)"
      ]
     },
     "metadata": {},
     "output_type": "display_data"
    },
    {
     "data": {
      "text/plain": [
       "3-element Array{Any,1}:\n",
       " PyObject <matplotlib.lines.Line2D object at 0x7f6cb360a350>\n",
       " PyObject <matplotlib.lines.Line2D object at 0x7f6cb360a5d0>\n",
       " PyObject <matplotlib.lines.Line2D object at 0x7f6cb360ac90>"
      ]
     },
     "execution_count": 15,
     "metadata": {},
     "output_type": "execute_result"
    }
   ],
   "source": [
    "plot(n,DownPi,n,UpPi,n,Pi)"
   ]
  },
  {
   "cell_type": "code",
   "execution_count": 17,
   "metadata": {
    "collapsed": false
   },
   "outputs": [
    {
     "data": {
      "text/plain": [
       "true"
      ]
     },
     "execution_count": 17,
     "metadata": {},
     "output_type": "execute_result"
    }
   ],
   "source": [
    "isodd(3)"
   ]
  },
  {
   "cell_type": "markdown",
   "metadata": {},
   "source": [
    "Sin embargo, hay sutilezas con las operaciones con intervalos:"
   ]
  },
  {
   "cell_type": "markdown",
   "metadata": {},
   "source": [
    "[5] (i) Define la potencia para intervalos.\n",
    "\n",
    "(ii) Para el intervalo $X = [-1,1]$, calcula $X \\cdot X$ y $X^2$ (donde $\\cdot$ denota la multiplicación de intervalos). ¿Qué observas? "
   ]
  },
  {
   "cell_type": "code",
   "execution_count": 74,
   "metadata": {
    "collapsed": false
   },
   "outputs": [
    {
     "data": {
      "text/plain": [
       "Interval(-1.0,1.0)"
      ]
     },
     "execution_count": 74,
     "metadata": {},
     "output_type": "execute_result"
    }
   ],
   "source": [
    "X = Interval(-1,1)\n"
   ]
  },
  {
   "cell_type": "code",
   "execution_count": 58,
   "metadata": {
    "collapsed": false
   },
   "outputs": [
    {
     "data": {
      "text/plain": [
       "Interval(-1.0,1.0)"
      ]
     },
     "execution_count": 58,
     "metadata": {},
     "output_type": "execute_result"
    }
   ],
   "source": [
    "X*X"
   ]
  },
  {
   "cell_type": "code",
   "execution_count": 60,
   "metadata": {
    "collapsed": false
   },
   "outputs": [
    {
     "data": {
      "text/plain": [
       "Interval(0.0,1.0)"
      ]
     },
     "execution_count": 60,
     "metadata": {},
     "output_type": "execute_result"
    }
   ],
   "source": [
    "X^2"
   ]
  },
  {
   "cell_type": "markdown",
   "metadata": {},
   "source": [
    "Se vé claramente la diferencia. $X^2$ contiene el cuadrado de todos los números en $X$ mientras que $X*X$ contiene los productos. El primer intervalo necesariamente es estrictamente positivo mientras que el segundo es de hecho igual a $X$"
   ]
  },
  {
   "cell_type": "markdown",
   "metadata": {},
   "source": [
    "(iii) Calcula $[-1,1] \\cdot \\left([-1,0] + [3,4]\\right)$ y $[-1,1]\\cdot [-1,0] + [-1,1] \\cdot [3,4]$. ¿Qué observas?"
   ]
  },
  {
   "cell_type": "code",
   "execution_count": 62,
   "metadata": {
    "collapsed": false
   },
   "outputs": [
    {
     "data": {
      "text/plain": [
       "Interval(-4.0,4.0)"
      ]
     },
     "execution_count": 62,
     "metadata": {},
     "output_type": "execute_result"
    }
   ],
   "source": [
    "Interval(-1,1)*(Interval(-1,0)+Interval(3,4))"
   ]
  },
  {
   "cell_type": "code",
   "execution_count": 64,
   "metadata": {
    "collapsed": false
   },
   "outputs": [
    {
     "data": {
      "text/plain": [
       "Interval(-5.0,5.0)"
      ]
     },
     "execution_count": 64,
     "metadata": {},
     "output_type": "execute_result"
    }
   ],
   "source": [
    "Interval(-1,1)*Interval(-1,0)+Interval(-1,1)*Interval(3,4)\n"
   ]
  },
  {
   "cell_type": "markdown",
   "metadata": {},
   "source": [
    "Claramente, la multiplicación de intervalos no es asociativa!"
   ]
  },
  {
   "cell_type": "code",
   "execution_count": 138,
   "metadata": {
    "collapsed": false
   },
   "outputs": [
    {
     "data": {
      "text/plain": [
       "Interval(-0.0,6.0)"
      ]
     },
     "execution_count": 138,
     "metadata": {},
     "output_type": "execute_result"
    }
   ],
   "source": [
    "function p1(x)\n",
    "    \n",
    "    return((x-1.0)*(x-2.0))\n",
    "    \n",
    "end\n",
    "X1=Interval(-1,1)\n",
    "X2=Interval(1,3)\n",
    "X3=Interval(3,5)\n",
    "\n",
    "p1(X1)"
   ]
  },
  {
   "cell_type": "code",
   "execution_count": 139,
   "metadata": {
    "collapsed": false
   },
   "outputs": [
    {
     "data": {
      "text/plain": [
       "1-element Array{Any,1}:\n",
       " PyObject <matplotlib.lines.Line2D object at 0x7f56ac4fa690>"
      ]
     },
     "execution_count": 139,
     "metadata": {},
     "output_type": "execute_result"
    }
   ],
   "source": [
    "y1=[p1(i) for i in X1.a:+.1:X1.b]\n",
    "x1=[i for i in X1.a:+.1:X1.b]\n",
    "\n",
    "y2=[p1(i) for i in X2.a:+.1:X2.b]\n",
    "x2=[i for i in X2.a:+.1:X2.b]\n",
    "\n",
    "y3=[p1(i) for i in X3.a:+.1:X3.b]\n",
    "x3=[i for i in X3.a:+.1:X3.b]\n",
    "\n",
    "plot(x1,y1)"
   ]
  },
  {
   "cell_type": "markdown",
   "metadata": {},
   "source": [
    "[6] Con las operaciones definidas en Julia, podemos insertar intervalos en cálculos sencillos.\n",
    "\n",
    "(i) Define una función polinomial $p_1(x) := (x-1)(x-2)$. \n",
    "\n",
    "(ii) ¿Cómo se puede mandar a $p_1$ un intervalo como argumento?\n",
    "\n",
    "(iii) ¿Qué representa el resultado?\n",
    "\n",
    "(iv) Juega con distintos intervalos como entrada y dibuja los resultados.\n",
    "\n",
    "(v) Haz lo mismo para $p_2(x) := x^2 -2$.\n",
    "\n",
    "(vi) Pensando en estos ejemplos de polinomios, ¿para qué nos podrán servir los intervalos?"
   ]
  },
  {
   "cell_type": "markdown",
   "metadata": {},
   "source": [
    "[7] Haz una implementación de tu idea de la pregunta [6]."
   ]
  }
 ],
 "metadata": {
  "kernelspec": {
   "display_name": "Julia 0.3.6",
   "language": "julia",
   "name": "julia 0.3"
  },
  "language": "Julia",
  "language_info": {
   "name": "julia",
   "version": "0.3.6"
  }
 },
 "nbformat": 4,
 "nbformat_minor": 0
}
