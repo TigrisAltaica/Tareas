{
 "metadata": {
  "kernelspec": {
   "display_name": "Julia 0.3.7-pre",
   "language": "julia",
   "name": "julia 0.3"
  },
  "language": "Julia",
  "language_info": {
   "name": "julia",
   "version": "0.3.7"
  },
  "name": "",
  "signature": "sha256:a9935bda30f63b13a78e84b06d2cacb8899c767db95a54b68a90dd0b9f8cc27e"
 },
 "nbformat": 3,
 "nbformat_minor": 0,
 "worksheets": [
  {
   "cells": [
    {
     "cell_type": "heading",
     "level": 1,
     "metadata": {},
     "source": [
      "Tipos comp\u00f3sitos"
     ]
    },
    {
     "cell_type": "markdown",
     "metadata": {},
     "source": [
      "[1] (i) \u00bfC\u00f3mo representar\u00edas a una part\u00edcula en 1D con posici\u00f3n, velocidad y masa en Julia?\n",
      "\n",
      "(ii) \u00bfC\u00f3mo mover\u00edas la part\u00edcula en un paso $\\delta t$?\n",
      "\n",
      "(iii) \u00bfSi necesitas otra part\u00edcula con las mismas propiedades, qu\u00e9 har\u00edas?\n",
      "\n",
      "(iv) Para $N$ tales part\u00edculas, \u00bfqu\u00e9 podr\u00edas hacer?\n"
     ]
    },
    {
     "cell_type": "markdown",
     "metadata": {},
     "source": [
      "Crear\u00eda tres variables, una para cada cantidad. Para moverla utilizar\u00eda una funci\u00f3n que tome la posici\u00f3n, la velocidad y un par\u00e1metro t para hacer la evoluci\u00f3n de x. Para 2 part\u00edculas creo otro juego de tres variables. Si aumento a N part\u00edculas, habr\u00eda que pensar en utilizar arreglos para cada cantidad, en lugar de un juego de tres variables para cada part\u00edcula."
     ]
    },
    {
     "cell_type": "markdown",
     "metadata": {},
     "source": [
      "El problema aqu\u00ed es que la representaci\u00f3n del concepto \"part\u00edcula\" est\u00e1 repartida en distintas variables. Julia provee una manera de recolectar la informaci\u00f3n de un \"objeto\", al definir un *tipo comp\u00f3sito* (\"composite type\"):"
     ]
    },
    {
     "cell_type": "code",
     "collapsed": false,
     "input": [
      "type MiTipo\n",
      "    a\n",
      "    b::Int\n",
      "end"
     ],
     "language": "python",
     "metadata": {},
     "outputs": [],
     "prompt_number": 2
    },
    {
     "cell_type": "markdown",
     "metadata": {},
     "source": [
      "Esto define un tipo de objeto llamado `MiTipo`. Cada objeto de este tipo tendr\u00e1 *adentro* su propia copia de una variable llamada `a` y otra llamada `b`. En este caso, no hemos especificado ning\u00fan tipo para `a`, mientras que `b` est\u00e1 forzado a tener el tipo `Int`. \n",
      "\n",
      "[En general, en Julia, para *anotar* a una variable con un tipo dado, usamos esta notaci\u00f3n con `::`.]"
     ]
    },
    {
     "cell_type": "markdown",
     "metadata": {},
     "source": [
      "[2] Define un tipo que se llama `Particula`, que tiene variables para la posici\u00f3n, velocidad y masa en una dimensi\u00f3n."
     ]
    },
    {
     "cell_type": "code",
     "collapsed": false,
     "input": [
      "type Particula\n",
      "    x\n",
      "    v\n",
      "    m\n",
      "end\n",
      "    \n",
      "    "
     ],
     "language": "python",
     "metadata": {},
     "outputs": [],
     "prompt_number": 2
    },
    {
     "cell_type": "markdown",
     "metadata": {},
     "source": [
      "[3] Experimenta para ver c\u00f3mo crear un objeto de tipo `Particula`.  [Pista: piensa en funciones]"
     ]
    },
    {
     "cell_type": "code",
     "collapsed": false,
     "input": [
      "P1 = Particula(0,1,6.78)"
     ],
     "language": "python",
     "metadata": {},
     "outputs": [
      {
       "metadata": {},
       "output_type": "pyout",
       "prompt_number": 3,
       "text": [
        "Particula(0,1,6.78)"
       ]
      }
     ],
     "prompt_number": 3
    },
    {
     "cell_type": "markdown",
     "metadata": {},
     "source": [
      "[4] \u00bfC\u00f3mo podemos definir una funci\u00f3n `mover` que mueve la part\u00edcula en un paso de tiempo $\\delta t$? [Pista: Para especificar que un objeto `t` es de tipo `MiTipo`, usamos la sintaxis `t::MiTipo`.]"
     ]
    },
    {
     "cell_type": "code",
     "collapsed": false,
     "input": [
      "function MoveParticle(P::Particula, t)\n",
      "    \n",
      "    P.x += P.v*t\n",
      "    \n",
      "end "
     ],
     "language": "python",
     "metadata": {},
     "outputs": [
      {
       "metadata": {},
       "output_type": "pyout",
       "prompt_number": 4,
       "text": [
        "MoveParticle (generic function with 1 method)"
       ]
      }
     ],
     "prompt_number": 4
    },
    {
     "cell_type": "code",
     "collapsed": false,
     "input": [
      "MoveParticle(P1,1)"
     ],
     "language": "python",
     "metadata": {},
     "outputs": [
      {
       "metadata": {},
       "output_type": "pyout",
       "prompt_number": 7,
       "text": [
        "3"
       ]
      }
     ],
     "prompt_number": 7
    },
    {
     "cell_type": "markdown",
     "metadata": {},
     "source": [
      "[5] Define un objeto `Gas` que representa $N$ part\u00edculas, as\u00ed como una funci\u00f3n `mover` que mueve el gas."
     ]
    },
    {
     "cell_type": "code",
     "collapsed": false,
     "input": [
      "type Gas\n",
      "    \n",
      "    x::Array\n",
      "    v::Array\n",
      "    m::Array\n",
      "    \n",
      "end\n",
      "    "
     ],
     "language": "python",
     "metadata": {},
     "outputs": [],
     "prompt_number": 9
    },
    {
     "cell_type": "code",
     "collapsed": false,
     "input": [
      "function MakeGas(N::Int)\n",
      "    \n",
      "    X1 = zeros(N)\n",
      "    V1 = randn(N)\n",
      "    M1 = 5.0*ones(N)\n",
      "\n",
      "     \n",
      "    Gas(X1,V1,M1)\n",
      "end\n",
      "\n",
      "G1 = MakeGas(10000)\n",
      "    \n"
     ],
     "language": "python",
     "metadata": {},
     "outputs": [
      {
       "metadata": {},
       "output_type": "pyout",
       "prompt_number": 40,
       "text": [
        "Gas([0.0,0.0,0.0,0.0,0.0,0.0,0.0,0.0,0.0,0.0  \u2026  0.0,0.0,0.0,0.0,0.0,0.0,0.0,0.0,0.0,0.0],[1.62559,0.813127,-0.0104645,-0.739149,-0.200715,0.735529,-0.154394,-1.05695,-0.371601,0.00829169  \u2026  -0.376593,0.334667,0.756233,-0.711739,0.384645,0.0552918,1.4145,0.452084,-1.12922,-0.486809],[5.0,5.0,5.0,5.0,5.0,5.0,5.0,5.0,5.0,5.0  \u2026  5.0,5.0,5.0,5.0,5.0,5.0,5.0,5.0,5.0,5.0])"
       ]
      }
     ],
     "prompt_number": 40
    },
    {
     "cell_type": "code",
     "collapsed": false,
     "input": [
      "function MoveGas(G::Gas,t)\n",
      "    \n",
      "    for i = 1:length(G.x)\n",
      "        \n",
      "        G.x += G.v*t\n",
      "        \n",
      "    end\n",
      "end\n",
      "    "
     ],
     "language": "python",
     "metadata": {},
     "outputs": [
      {
       "metadata": {},
       "output_type": "pyout",
       "prompt_number": 15,
       "text": [
        "MoveGas (generic function with 1 method)"
       ]
      }
     ],
     "prompt_number": 15
    },
    {
     "cell_type": "code",
     "collapsed": false,
     "input": [
      "MoveGas(G1,1)"
     ],
     "language": "python",
     "metadata": {},
     "outputs": [],
     "prompt_number": 38
    },
    {
     "cell_type": "code",
     "collapsed": false,
     "input": [
      "G1.x"
     ],
     "language": "python",
     "metadata": {},
     "outputs": [
      {
       "metadata": {},
       "output_type": "pyout",
       "prompt_number": 39,
       "text": [
        "1000-element Array{Float64,1}:\n",
        "  -4779.18 \n",
        "   3769.27 \n",
        "   1802.54 \n",
        "  -2654.73 \n",
        "  -1272.41 \n",
        "  -5069.03 \n",
        "  -4310.12 \n",
        "    531.596\n",
        "  -4388.54 \n",
        " -10364.2  \n",
        "   2387.86 \n",
        "  -6066.26 \n",
        "   2713.43 \n",
        "      \u22ee    \n",
        "   3936.16 \n",
        "  -1367.32 \n",
        "   1826.65 \n",
        "   1008.25 \n",
        "   -215.056\n",
        "  -6098.35 \n",
        "   2200.99 \n",
        "   3227.19 \n",
        "  -8489.57 \n",
        "  -4879.53 \n",
        "   1369.47 \n",
        "    895.217"
       ]
      }
     ],
     "prompt_number": 39
    },
    {
     "cell_type": "markdown",
     "metadata": {},
     "source": [
      "[6] Considera una estructura compuesta que denotaremos\n",
      "${\\overline v} = (f_v, d_v)$, que consta de dos campos `f_v` y `d_v`, que son flotantes. Esta estructura est\u00e1 definida de tal manera que se cumplen las siguientes propiedades:\n",
      "\n",
      "\\begin{align}\n",
      "{\\overline c} &= (c,0), &\\textrm{ para toda constante $c$},\\\\\n",
      "{\\overline x} &= (x_0,1), &\\textrm{para toda variable independiente $x = x_0$},\\\\\n",
      "{\\overline v} \\pm {\\overline w} & =  (f_v \\pm f_w, d_v \\pm d_w),\\\\\n",
      "{\\overline v} \\cdot {\\overline w} & =  (f_v \\cdot f_w, f_v \\cdot d_w + d_v \\cdot f_w),\\\\\n",
      "\\frac{{\\overline v}}{{\\overline w}} & =  \n",
      "\\left( \\frac{f_v}{f_w}, \\frac{d_v \\cdot f_w - f_v \\cdot d_w}{f_w^2} \\right),\\\\\n",
      "{\\overline u}^\\alpha &= (f_u^\\alpha, \\alpha f_u^{\\alpha-1} d_u), &\\textrm{donde $\\alpha$ \n",
      "es un n\u00famero real}.\n",
      "\\end{align}\n",
      "\n",
      "\n",
      "i. Implementa esto usando Julia.\n",
      "\n",
      "ii. Define un polinomio $p(x)$ cuya variable independiente es $x$. Eval\u00faa el polinomio en ${\\overline x}$ (variable independiente $x$), en $x_0=0$. \u00bfQu\u00e9 interpretaci\u00f3n tiene *el valor* obtenido para $d_x$? Y si en lugar de un polinomio utilizas un cociente de polinomios $r({\\overline x}) = p({\\overline x}) / q({\\overline x})$?\n",
      "\n",
      "iii. Pensando en la interpretaci\u00f3n que le diste a $d_x$, c\u00f3mo definir\u00edas la acci\u00f3n sobre ${\\overline x}$ de las siguientes funciones:\n",
      "- $\\exp(\\,{\\overline x}\\,)$\n",
      "- $\\log(\\,{\\overline x}\\,)$\n",
      "- $\\sin(\\,{\\overline x}\\,)$\n",
      "- $\\cos(\\,{\\overline x}\\,)$\n",
      "- $\\tan(\\,{\\overline x}\\,)$\n",
      "\n",
      "iv. \u00bfC\u00f3mo podemos definir las cosas en Julia de tal manera que ${\\overline v} + c$, y las dem\u00e1s posibles operaciones\n",
      "entre una variable comp\u00f3sita y un flotante $c$, tengan sentido?\n"
     ]
    },
    {
     "cell_type": "code",
     "collapsed": false,
     "input": [],
     "language": "python",
     "metadata": {},
     "outputs": [],
     "prompt_number": 30
    },
    {
     "cell_type": "code",
     "collapsed": false,
     "input": [
      "type V\n",
      "    \n",
      "    f::Float64\n",
      "    d::Float64\n",
      "    \n",
      "    \n",
      "    V(f,d) = new (f,d)\n",
      "    V(f) = new(f,0)\n",
      "end\n",
      "    \n"
     ],
     "language": "python",
     "metadata": {},
     "outputs": [],
     "prompt_number": 1
    },
    {
     "cell_type": "code",
     "collapsed": false,
     "input": [
      "v = V(1,2)\n",
      "w = V(3,4)"
     ],
     "language": "python",
     "metadata": {},
     "outputs": [
      {
       "metadata": {},
       "output_type": "pyout",
       "prompt_number": 2,
       "text": [
        "V(3.0,4.0)"
       ]
      }
     ],
     "prompt_number": 2
    },
    {
     "cell_type": "code",
     "collapsed": false,
     "input": [
      "#Redefino las operaciones aritm\u00e9ticas siguiendo las convenciones de arriba\n",
      "\n",
      "\n",
      "function +(v::V,w::V)\n",
      "    \n",
      "    y=V(0,0)\n",
      "    \n",
      "    y.f = (v.f+w.f)\n",
      "    y.d = (v.d+w.d)\n",
      "    \n",
      "    y\n",
      "end\n",
      "\n",
      "function +(v::Real,w::V)\n",
      "    \n",
      "    y=V(0,0)\n",
      "    \n",
      "    y.f = (w.f+v)\n",
      "    y.d = (w.d+v)\n",
      "    \n",
      "    y\n",
      "end\n",
      "\n",
      "function +(v::V,w::Int)\n",
      "    \n",
      "    y=V(0,0)\n",
      "    \n",
      "    y.f = (v.f+w)\n",
      "    y.d = (v.d+w)\n",
      "    \n",
      "    y\n",
      "end\n",
      "\n",
      "function +(v::V,w::Real)\n",
      "    \n",
      "    y=V(0,0)\n",
      "    \n",
      "    y.f = (v.f+w)\n",
      "    y.d = (v.d+w)\n",
      "    \n",
      "    y\n",
      "end\n",
      "\n",
      "function -(v::V,w::V)\n",
      "    \n",
      "    y=V(0,0)\n",
      "    \n",
      "    y.f = (v.f-w.f)\n",
      "    y.d = (v.d-w.d)\n",
      "    \n",
      "    y\n",
      "end\n",
      "\n",
      "function -(v::Real,w::V)\n",
      "    \n",
      "    y=V(0,0)\n",
      "    \n",
      "    y.f = (v-w.f)\n",
      "    y.d = (w.d)\n",
      "    \n",
      "    y\n",
      "end\n",
      "\n",
      "function -(v::V,w::Real)\n",
      "    \n",
      "    y=V(0,0)\n",
      "    \n",
      "    y.f = (v.f-w)\n",
      "    y.d = (v.d)\n",
      "    \n",
      "    y\n",
      "end\n",
      "\n",
      "function *(v::V,w::V)\n",
      "    \n",
      "    y=V(0,0)\n",
      "    \n",
      "    y.f = (v.f*w.f)\n",
      "    y.d = (v.d*w.f+v.f+w.d)\n",
      "    \n",
      "    y\n",
      "end\n",
      "\n",
      "function *(c::Real,v::V)\n",
      "    y=V(0,0)\n",
      "    \n",
      "    y.f = v.f*c\n",
      "    y.d = v.d*c\n",
      "    \n",
      "    y\n",
      "end\n",
      "\n",
      "\n",
      "function /(v::V,w::V)\n",
      "    \n",
      "    y=V(0,0)\n",
      "    \n",
      "    y.f = (v.f/w.f)\n",
      "    y.d = (v.d*w.f-w.d*v.f)/(w.f)^2\n",
      "    \n",
      "    y\n",
      "end\n",
      "\n",
      "function ^(v::V,c::Real)\n",
      "    \n",
      "    y=V(0,0)\n",
      "    \n",
      "    y.f = v.f^c\n",
      "    y.d = c*(v.f^(c-1.0))*v.d\n",
      "    \n",
      "    y\n",
      "end\n",
      "\n",
      "function ^(v::V,c::Real)\n",
      "    \n",
      "    y=V(0,0)\n",
      "    \n",
      "    y.f = v.f^c\n",
      "    y.d = c*(v.f^(c-1.0))*v.d\n",
      "    \n",
      "    y\n",
      "end\n",
      "\n",
      "\n",
      "    \n",
      "    \n",
      "\n",
      "function makex(x)\n",
      "    \n",
      "    y = V(x,1)\n",
      "end\n"
     ],
     "language": "python",
     "metadata": {},
     "outputs": [
      {
       "metadata": {},
       "output_type": "pyout",
       "prompt_number": 4,
       "text": [
        "makex (generic function with 1 method)"
       ]
      }
     ],
     "prompt_number": 4
    },
    {
     "cell_type": "code",
     "collapsed": false,
     "input": [
      "x = makex(pi/4)"
     ],
     "language": "python",
     "metadata": {},
     "outputs": [
      {
       "metadata": {},
       "output_type": "pyout",
       "prompt_number": 5,
       "text": [
        "V(0.7853981633974483,1.0)"
       ]
      }
     ],
     "prompt_number": 5
    },
    {
     "cell_type": "code",
     "collapsed": false,
     "input": [
      "f(x) = 2.0x^4.0 -3.0*x^2-15.0\n"
     ],
     "language": "python",
     "metadata": {},
     "outputs": [
      {
       "metadata": {},
       "output_type": "pyout",
       "prompt_number": 6,
       "text": [
        "f (generic function with 1 method)"
       ]
      }
     ],
     "prompt_number": 6
    },
    {
     "cell_type": "code",
     "collapsed": false,
     "input": [
      "f(x) # D me da el valor de la derivada evaluada en X"
     ],
     "language": "python",
     "metadata": {},
     "outputs": [
      {
       "metadata": {},
       "output_type": "pyout",
       "prompt_number": 8,
       "text": [
        "V(-16.089542301501112,-3.8366043953472126)"
       ]
      }
     ],
     "prompt_number": 8
    },
    {
     "cell_type": "code",
     "collapsed": false,
     "input": [
      "#Ahora redefino las funciones trigonom\u00e9tricas etc para que funciones con mi nuevo tipo\n",
      "\n",
      "function Base.sin(v::V)\n",
      "    \n",
      "    y=V(0,0)\n",
      "    \n",
      "    y.f = sin(v.f)\n",
      "    y.d = -cos(v.f)*v.d\n",
      "    \n",
      "    y\n",
      "end\n",
      "\n",
      "function Base.cos(v::V)\n",
      "    \n",
      "    y=V(0,0)\n",
      "    \n",
      "    y.f = cos(v.f)\n",
      "    y.d = sin(v.f)*v.d\n",
      "    \n",
      "    y\n",
      "end\n",
      "\n",
      "function Base.tan(v::V)\n",
      "     \n",
      "    y=V(0,0)\n",
      "    \n",
      "    y.f = tan(v.f)\n",
      "    v.d = v.d*sec(v.f)^2\n",
      "    \n",
      "    y\n",
      "end   \n",
      "\n",
      "function Base.exp(v::V)\n",
      "    \n",
      "    y=V(0,0)\n",
      "    \n",
      "    y.f = exp(v.f)\n",
      "    v.d = v.d*exp(v.f)\n",
      "    \n",
      "    y\n",
      "end\n",
      "\n",
      "function Base.log(v::V)\n",
      "     \n",
      "    y=V(0,0)\n",
      "    \n",
      "    y.f = log(v.f)\n",
      "    v.d = v.d/(v.f)\n",
      "    \n",
      "    y\n",
      "end   \n",
      "    "
     ],
     "language": "python",
     "metadata": {},
     "outputs": [
      {
       "metadata": {},
       "output_type": "pyout",
       "prompt_number": 10,
       "text": [
        "log (generic function with 16 methods)"
       ]
      }
     ],
     "prompt_number": 10
    },
    {
     "cell_type": "markdown",
     "metadata": {},
     "source": [
      "[7] En el resto del curso, trataremos con *aritm\u00e9tica de intervalos*. En este nuevo tipo de aritm\u00e9tica, ocupamos intervalos $[a,b]$ de la recta real, que es el conjunto \n",
      "\n",
      "$$[a, b] := \\{x : a \\le x \\le b \\}$$\n",
      "\n",
      "(i) Define un tipo composito para representar un intervalo de dos n\u00fameros reales.\n",
      "\n",
      "(ii) \u00bfC\u00f3mo podr\u00edamos tener operaciones sensatas sobre los intervalos? La idea b\u00e1sica es que el resultado de la operaci\u00f3n sobre dos intervalos contenga los valores posibles resultantes de operar con los miembros de los dos intervalos respectivos.\n",
      "\n",
      "(iii) Implementa estas operaciones, sin tomar en cuenta cuestiones de redondeo.\n",
      "\n",
      "(iv) \u00bfC\u00f3mo nos puede ayudar el redondeo? Implem\u00e9ntalo."
     ]
    },
    {
     "cell_type": "code",
     "collapsed": false,
     "input": [
      "type Interval\n",
      "    \n",
      "    a::Float64\n",
      "    b::Float64\n",
      "    \n",
      "end\n",
      "    \n",
      "    "
     ],
     "language": "python",
     "metadata": {},
     "outputs": [],
     "prompt_number": 1
    },
    {
     "cell_type": "code",
     "collapsed": false,
     "input": [
      "A = Interval(0,1)\n",
      "B = Interval(1,3)"
     ],
     "language": "python",
     "metadata": {},
     "outputs": [
      {
       "metadata": {},
       "output_type": "pyout",
       "prompt_number": 4,
       "text": [
        "Interval(1.0,3.0)"
       ]
      }
     ],
     "prompt_number": 4
    },
    {
     "cell_type": "code",
     "collapsed": false,
     "input": [
      "#Ahora voy a tratar las posibles operaciones artim\u00e9ticas sobre dos intervalos\n",
      "\n",
      "function +(x::Interval, y::Interval)\n",
      "    \n",
      "    z = Interval(0,0)\n",
      "    \n",
      "    z.a = x.a+ y.a\n",
      "    z.b = x.b + y.b\n",
      "    \n",
      "    z\n",
      "    \n",
      "end\n",
      "\n",
      "function -(x::Interval, y::Interval)\n",
      "    \n",
      "    z = Interval(0,0)\n",
      "    \n",
      "    z.a = x.a - y.a\n",
      "    z.b = x.b - y.b\n",
      "    \n",
      "    z\n",
      "    \n",
      "end\n",
      "\n",
      "#para la multiplicaci\u00f3n y la divisi\u00f3n es un poco m\u00e1s complejo, as\u00ed que tomo el intervalo m\u00e1s amplio posible, es decir, el m'inimo de las multiplicaciones \n",
      "#posibles como a y el m\u00e1ximo como b, y as\u00ed mismo para la divisi\u00f3n\n",
      "\n",
      "\n",
      "function *(x::Interval, y::Interval)\n",
      "    \n",
      "    z = Interval(0,0)\n",
      "    \n",
      "    z.a = min(x.a*y.a,x.a*y.b,x.b*y.a,x.b*y.b)\n",
      "    z.b = max(x.a*y.a,x.a*y.b,x.b*y.a,x.b*y.b)\n",
      "    \n",
      "    z\n",
      "    \n",
      "end\n",
      "\n",
      "function /(x::Interval, y::Interval)\n",
      "    \n",
      "    z = Interval(0,0)\n",
      "    \n",
      "    z.a = min(x.a/y.a,x.a/y.b,x.b/y.a,x.b/y.b)\n",
      "    z.b = max(x.a/y.a,x.a/y.b,x.b/y.a,x.b/y.b)\n",
      "    \n",
      "    z\n",
      "    \n",
      "end"
     ],
     "language": "python",
     "metadata": {},
     "outputs": [
      {
       "metadata": {},
       "output_type": "pyout",
       "prompt_number": 17,
       "text": [
        "/ (generic function with 47 methods)"
       ]
      }
     ],
     "prompt_number": 17
    },
    {
     "cell_type": "code",
     "collapsed": false,
     "input": [
      "A+B"
     ],
     "language": "python",
     "metadata": {},
     "outputs": [
      {
       "metadata": {},
       "output_type": "pyout",
       "prompt_number": 19,
       "text": [
        "Interval(2,4)"
       ]
      }
     ],
     "prompt_number": 19
    },
    {
     "cell_type": "code",
     "collapsed": false,
     "input": [
      "A-B"
     ],
     "language": "python",
     "metadata": {},
     "outputs": [
      {
       "metadata": {},
       "output_type": "pyout",
       "prompt_number": 22,
       "text": [
        "Interval(-2,-2)"
       ]
      }
     ],
     "prompt_number": 22
    },
    {
     "cell_type": "code",
     "collapsed": false,
     "input": [
      "A*B"
     ],
     "language": "python",
     "metadata": {},
     "outputs": [
      {
       "metadata": {},
       "output_type": "pyout",
       "prompt_number": 23,
       "text": [
        "Interval(0,3)"
       ]
      }
     ],
     "prompt_number": 23
    },
    {
     "cell_type": "code",
     "collapsed": false,
     "input": [
      "A/B"
     ],
     "language": "python",
     "metadata": {},
     "outputs": [
      {
       "metadata": {},
       "output_type": "pyout",
       "prompt_number": 24,
       "text": [
        "Interval(0.0,0.5)"
       ]
      }
     ],
     "prompt_number": 24
    },
    {
     "cell_type": "code",
     "collapsed": false,
     "input": [
      "B/A"
     ],
     "language": "python",
     "metadata": {},
     "outputs": [
      {
       "metadata": {},
       "output_type": "pyout",
       "prompt_number": 25,
       "text": [
        "Interval(2.0,Inf)"
       ]
      }
     ],
     "prompt_number": 25
    },
    {
     "cell_type": "code",
     "collapsed": false,
     "input": [
      "#Ahora quiero implementar redondeo. lo m\u00e1s l\u00f3gico es redondear el primer n\u00famero para abajo y el segundo para arriba\n",
      "type Interval\n",
      "    \n",
      "    a::Float64\n",
      "    b::Float64\n",
      "    \n",
      "end\n",
      "    \n",
      "\n",
      "\n",
      "function UpSum(x,y)\n",
      "    with_rounding(Float64,RoundUp) do\n",
      "        x+y\n",
      "    end\n",
      "end\n",
      "\n",
      "function DownSum(x,y)\n",
      "    with_rounding(Float64,RoundDown) do\n",
      "        x+y\n",
      "    end\n",
      "end\n",
      "\n",
      "function UpSubs(x,y)\n",
      "    with_rounding(Float64,RoundUp) do\n",
      "        x-y\n",
      "    end\n",
      "end\n",
      "\n",
      "function DownSubs(x,y)\n",
      "    with_rounding(Float64,RoundDown) do\n",
      "        x-y\n",
      "    end\n",
      "end\n",
      "\n",
      "function UpProd(x,y)\n",
      "    with_rounding(Float64,RoundUp) do\n",
      "        x*y\n",
      "    end\n",
      "end\n",
      "\n",
      "function DownProd(x,y)\n",
      "    with_rounding(Float64,RoundDown) do\n",
      "        x*y\n",
      "    end\n",
      "end\n",
      "\n",
      "function UpDiv(x,y)\n",
      "    with_rounding(Float64,RoundUp) do\n",
      "        x/y\n",
      "    end\n",
      "end\n",
      "\n",
      "function DownDiv(x,y)\n",
      "    with_rounding(Float64,RoundDown) do\n",
      "        x/y\n",
      "    end\n",
      "end\n",
      "\n",
      "function +(x::Interval, y::Interval)\n",
      "    \n",
      "    z=Interval(UpSum(x.a,y.a),UpSum(x.b,y.b))\n",
      "    \n",
      "end\n",
      "\n",
      "\n",
      "function -(x::Interval, y::Interval)\n",
      "    \n",
      "    z=Interval(UpSubs(x.a,y.a),UpSubs(x.b,y.b))\n",
      "    \n",
      "end\n",
      "\n",
      "\n",
      "#para la multiplicaci\u00f3n y la divisi\u00f3n es un poco m\u00e1s complejo, as\u00ed que tomo el intervalo m\u00e1s amplio posible, es decir, el m'inimo de las multiplicaciones \n",
      "#posibles como a y el m\u00e1ximo como b, y as\u00ed mismo para la divisi\u00f3n\n",
      "\n",
      "\n",
      "function *(x::Interval, y::Interval)\n",
      "    \n",
      "    z=Interval(min(DownProd(x.a,y.a),DownProd(x.a,y.b),DownProd(x.b,y.a),DownProd(x.b,y.b)),max(UpProd(x.a,y.a),UpProd(x.a,y.b),UpProd(x.b,y.a),UpProd(x.b,y.b)))\n",
      "    \n",
      "end\n",
      "\n",
      "function /(x::Interval, y::Interval)\n",
      "    \n",
      "    \n",
      "    z=Interval(min(DownDiv(x.a,y.a),DownDiv(x.a,y.b),DownDiv(x.b,y.a),DownDiv(x.b,y.b)),max(UpDiv(x.a,y.a),UpDiv(x.a,y.b),UpDiv(x.b,y.a),UpDiv(x.b,y.b)))\n",
      "    \n",
      "end"
     ],
     "language": "python",
     "metadata": {},
     "outputs": [
      {
       "metadata": {},
       "output_type": "pyout",
       "prompt_number": 5,
       "text": [
        "/ (generic function with 46 methods)"
       ]
      }
     ],
     "prompt_number": 5
    },
    {
     "cell_type": "code",
     "collapsed": false,
     "input": [
      "A+B"
     ],
     "language": "python",
     "metadata": {},
     "outputs": [
      {
       "metadata": {},
       "output_type": "pyout",
       "prompt_number": 11,
       "text": [
        "Interval(1.0,4.0)"
       ]
      }
     ],
     "prompt_number": 11
    },
    {
     "cell_type": "code",
     "collapsed": false,
     "input": [
      "with_rounding(Float64,RoundUp) do \n",
      "    1.1+3.3 \n",
      "end"
     ],
     "language": "python",
     "metadata": {},
     "outputs": [
      {
       "metadata": {},
       "output_type": "pyout",
       "prompt_number": 34,
       "text": [
        "4.4"
       ]
      }
     ],
     "prompt_number": 34
    },
    {
     "cell_type": "code",
     "collapsed": false,
     "input": [],
     "language": "python",
     "metadata": {},
     "outputs": []
    }
   ],
   "metadata": {}
  }
 ]
}