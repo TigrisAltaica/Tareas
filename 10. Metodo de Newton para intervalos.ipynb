{
 "cells": [
  {
   "cell_type": "markdown",
   "metadata": {},
   "source": [
    "# El método de Newton para intervalos"
   ]
  },
  {
   "cell_type": "code",
   "execution_count": 100,
   "metadata": {
    "collapsed": false
   },
   "outputs": [],
   "source": [
    "using PyPlot"
   ]
  },
  {
   "cell_type": "code",
   "execution_count": 1,
   "metadata": {
    "collapsed": false
   },
   "outputs": [
    {
     "name": "stderr",
     "output_type": "stream",
     "text": [
      "Warning: New definition \n",
      "    ^(Derive,Real) at /home/estudiante/MetodosNumericosAvanzados/Tareas/Derivatives.jl:93\n",
      "is ambiguous with: \n",
      "    ^(Any,Integer) at intfuncs.jl:86.\n",
      "To fix, define \n",
      "    ^(Derive,Integer)\n",
      "before the new definition.\n"
     ]
    },
    {
     "name": "stdout",
     "output_type": "stream",
     "text": [
      "Prueba básicas de derivación:\n",
      "10 facts verified.\n",
      "Prueba básicas de Intervalos:\n",
      "Solo se utilizó la parte no negativa del intervalo\n",
      "26 facts verified.\n"
     ]
    }
   ],
   "source": [
    "using Intervals\n",
    "using FactCheck\n",
    "using Derivatives\n",
    "using DerivativesTest\n",
    "using IntervalsTest"
   ]
  },
  {
   "cell_type": "markdown",
   "metadata": {},
   "source": [
    "Igual que en la clase anterior, supondremos que $f(x)$ es una función continuamente diferenciable y que existe un valor $x^*$ donde $f(x^*)=0$ (es decir, $x^*$ es una raíz de $f$). Aquí abordaremos de nuevo cómo encontrar las raíces de $f$ dentro de un intervalo inicial $X$. Supondremos además que existe una extensión del intervalo $F'$ para la derivada $f'$, y que (por el momento) éste no contiene al cero: $0\\notin F'(X)$.\n",
    "\n",
    "La clave del método de Newton para intervalos está en aplicar el *teorema del valor medio*, que nos asegura que para cualquier $x\\in X$ se cumple que\n",
    "\n",
    "\\begin{equation}\n",
    "f(x) = f(x^*) + f'(\\xi) \\cdot (x-x^*),\n",
    "\\end{equation}\n",
    "\n",
    "para algúna $\\xi$ entre $x$ y $x^*$. Aquí, $\\xi$ es un valor desconocido, pero podemos utilizar el hecho de que está contenido en el intervalo: $\\xi \\in X$."
   ]
  },
  {
   "cell_type": "markdown",
   "metadata": {},
   "source": [
    "Por lo tanto, obtenemos \n",
    "\n",
    "\\begin{equation}\n",
    "x^* = x - \\frac{f(x)}{f'(\\xi)} \\in x - \\frac{f(x)}{F'(X)} =: N(X,x),\n",
    "\\end{equation}\n",
    "donde hemos definido un operador $N$ que actúa sobre un intervalo y *cualquier* punto en el intervalo.\n",
    "\n",
    "Si suponemos que $x^*\\in X$, entonces $x^* \\in N(X,x)\\cap X$ para toda $x\\in X$.\n",
    "\n",
    "Una elección particular es $x = m := \\mathrm{mid}(X)$, el punto medio del intervalo $X$. Entonces obtenemos el llamado *operador de Newton para intervalos*:\n",
    "\n",
    "\\begin{equation}\n",
    "N(X) := N(X,m) = m - \\frac{f(m)}{F'(X)}.\n",
    "\\end{equation}\n",
    "\n",
    "Nota que cuando implementamos esto en la computadora, en general $f(m)$ no se podrá calcular exactamente, por lo cual es necesario convertir $m$ en un intervalo $M := [m,m]$, y usar la extensión natural $F(M)$, así que tenemos finalmente \n",
    "\n",
    "\\begin{equation}\n",
    "N(X) := M - \\frac{F(M)}{F'(X)},\n",
    "\\end{equation}\n",
    "donde ahora todos son intervalos."
   ]
  },
  {
   "cell_type": "markdown",
   "metadata": {},
   "source": [
    "Ahora podemos definir una sucesión de intervalos a partir de un intervalo inicial $X_0$, dada por $X_{k+1} := X_k \\cap N(X_k)$. Por construcción, si $x^*\\in X_0$ entonces $x^*\\in X_k$ para toda $k$. Entonces, si $X_0$ contiene a una raíz, la raíz se mantiene dentro de la secuencia de intervalos, que de hecho forman una secuencia anidada que converge a $x^*$. Entonces, si controlamos que de alguna manera el diámetro de los intervalos $x_k$ disminuya, obtendremos cotas precisas para $x^*$. Esto es el contenido del **Teorema del método de Newton para intervalos**."
   ]
  },
  {
   "cell_type": "markdown",
   "metadata": {},
   "source": [
    "Más aún, si $f(x)$ es doblemente continua y diferenciable y $N(X)$ está bien definida en el intervalo $X$, se puede demostrar que \n",
    "\n",
    "1. Si $N(X)\\cap X = \\emptyset$, es decir, $N(X)$ no se intersecta con $X$, entonces $X$ no contiene ninguna raíz de $f$.\n",
    "\n",
    "2. Si $N(X) \\subseteq X$, entonces $X$ contiene exactamente una raíz de $f$.\n",
    "\n"
   ]
  },
  {
   "cell_type": "markdown",
   "metadata": {},
   "source": [
    "[1] Escribe una función que calcule el operador de Newton para un intervalo $X$, dadas $f(x)$ y $f'(x)$.\n",
    "\n",
    "[2] Implementa el método de Newton para intervalos para encontrar las raíces de $f(x) = x^3 - 1$ a partir de $X=[-3,3]$. Muestra gráficamente la implementación del método. En cada iteración subsecuente del método, ilustra qué le pasa al diámetro de la refincación del intervalo que vas obteniendo.\n"
   ]
  },
  {
   "cell_type": "markdown",
   "metadata": {},
   "source": [
    "Implemento la división extendida desde el inicio para poder trabajar con los intervalos proporcionados en el problema."
   ]
  },
  {
   "cell_type": "code",
   "execution_count": 21,
   "metadata": {
    "collapsed": false
   },
   "outputs": [
    {
     "data": {
      "text/plain": [
       "remake_newton_interval (generic function with 2 methods)"
      ]
     },
     "execution_count": 21,
     "metadata": {},
     "output_type": "execute_result"
    }
   ],
   "source": [
    "function remake_newton_interval(X::Interval, Y)\n",
    "   \n",
    "    temp=Interval[]\n",
    "    \n",
    "    for i=1:length(Y)\n",
    "        push!(temp,extended_division(df,X))\n",
    "    end\n",
    "    \n",
    "    return(temp)\n",
    "    \n",
    "end"
   ]
  },
  {
   "cell_type": "code",
   "execution_count": 146,
   "metadata": {
    "collapsed": false
   },
   "outputs": [
    {
     "name": "stdout",
     "output_type": "stream",
     "text": [
      "X => Interval(-4.0,4.0)\n",
      "j => 1\n",
      "Y => [Interval(-Inf,-0.01694915254237288),Interval(0.009900990099009901,Inf)]\n"
     ]
    },
    {
     "ename": "LoadError",
     "evalue": "`-` has no method matching -(::Interval, ::Array{Interval,1})\nwhile loading In[146], in expression starting on line 61",
     "output_type": "error",
     "traceback": [
      "`-` has no method matching -(::Interval, ::Array{Interval,1})\nwhile loading In[146], in expression starting on line 61",
      "",
      " in NewtonIntervalMethod at In[146]:31"
     ]
    }
   ],
   "source": [
    "f(x) = (x-1)*(x-2)*(x-3)\n",
    "\n",
    "\n",
    "\n",
    "\n",
    "function NewtonIntervalMethod(F::Function,X::Interval,tol)\n",
    "\n",
    "end\n",
    "\n",
    "NewtonIntervalMethod(f,Interval(-4,4),1e-15)"
   ]
  },
  {
   "cell_type": "markdown",
   "metadata": {},
   "source": [
    "[3] Usando tu implementación, *demuestra* que en el mismo intervalo $X=[-3,3]$ que $g(x) = x^2+1$ no tiene ninguna raíz. Ilustra gráficamente esto.\n",
    "\n",
    "Hint: En el caso en que $0\\in F'(x)$ las hipótesis del teorema no se cumplen. En ese caso hay que dividir el intervalo (bisección por ejemplo) y tratar de que las hipótesis del teorema se cumplan, para poder aplicarlo. Extiende tus funciones para que incluyan esta situación. En ese caso, cada subdivisión debe ser probada si puede o no tener una raíz."
   ]
  },
  {
   "cell_type": "code",
   "execution_count": 54,
   "metadata": {
    "collapsed": false
   },
   "outputs": [
    {
     "data": {
      "text/plain": [
       "2-element Array{Interval,1}:\n",
       " Interval(-2.0,-2.0)\n",
       " Interval(2.0,2.0)  "
      ]
     },
     "execution_count": 54,
     "metadata": {},
     "output_type": "execute_result"
    }
   ],
   "source": [
    "f(x) = x^2-4\n",
    "\n",
    "NewtonIntervalMethod(f,Interval(-3,3),1e-15)"
   ]
  },
  {
   "cell_type": "code",
   "execution_count": 134,
   "metadata": {
    "collapsed": false
   },
   "outputs": [
    {
     "data": {
      "image/png": "[encoded data removed]",
      "text/plain": [
       "Figure(PyObject <matplotlib.figure.Figure object at 0x7f0d7f499350>)"
      ]
     },
     "metadata": {},
     "output_type": "display_data"
    },
    {
     "data": {
      "text/plain": [
       "1-element Array{Any,1}:\n",
       " PyObject <matplotlib.lines.Line2D object at 0x7f0d7f496610>"
      ]
     },
     "execution_count": 134,
     "metadata": {},
     "output_type": "execute_result"
    }
   ],
   "source": [
    "x = -3:.0625:3\n",
    "ff=[wilkinson(i,3) for i in x]\n",
    "dff=[wilkinson(makex(i),3).d for i in x]\n",
    "w=1./dff\n",
    "\n",
    "plot(x,w)\n"
   ]
  },
  {
   "cell_type": "code",
   "execution_count": 147,
   "metadata": {
    "collapsed": false
   },
   "outputs": [
    {
     "data": {
      "text/plain": [
       "97-element Array{Any,1}:\n",
       "  0.0144928\n",
       "  0.0148811\n",
       "  0.0152854\n",
       "  0.0157065\n",
       "  0.0161453\n",
       "  0.0166029\n",
       "  0.0170803\n",
       "  0.0175788\n",
       "  0.0180995\n",
       "  0.0186439\n",
       "  0.0192134\n",
       "  0.0198096\n",
       "  0.0204342\n",
       "  ⋮        \n",
       " -2.53465  \n",
       " -4.92308  \n",
       " 85.3333   \n",
       "  4.0      \n",
       "  1.9542   \n",
       "  1.2549   \n",
       "  0.904594 \n",
       "  0.695652 \n",
       "  0.557734 \n",
       "  0.460432 \n",
       "  0.388467 \n",
       "  0.333333 "
      ]
     },
     "execution_count": 147,
     "metadata": {},
     "output_type": "execute_result"
    }
   ],
   "source": [
    "w"
   ]
  },
  {
   "cell_type": "markdown",
   "metadata": {},
   "source": [
    "La función nunca es cero, el mínimo es 1."
   ]
  },
  {
   "cell_type": "code",
   "execution_count": 107,
   "metadata": {
    "collapsed": false
   },
   "outputs": [
    {
     "data": {
      "text/plain": [
       "25-element Array{Union(Derive,Int64),1}:\n",
       " Derive(-120.0,69.0)        \n",
       " Derive(-102.421875,61.9375)\n",
       " Derive(-86.625,55.25)      \n",
       " Derive(-72.515625,48.9375) \n",
       " Derive(-60.0,43.0)         \n",
       " Derive(-48.984375,37.4375) \n",
       " Derive(-39.375,32.25)      \n",
       " Derive(-31.078125,27.4375) \n",
       " Derive(-24.0,23.0)         \n",
       " Derive(-18.046875,18.9375) \n",
       " Derive(-13.125,15.25)      \n",
       " Derive(-9.140625,11.9375)  \n",
       " Derive(-6.0,9.0)           \n",
       " Derive(-3.609375,6.4375)   \n",
       " Derive(-1.875,4.25)        \n",
       " Derive(-0.703125,2.4375)   \n",
       " Derive(0.0,1.0)            \n",
       " Derive(0.328125,-0.0625)   \n",
       " Derive(0.375,-0.75)        \n",
       " Derive(0.234375,-1.0625)   \n",
       " Derive(-0.0,-1.0)          \n",
       " Derive(-0.234375,-0.5625)  \n",
       " Derive(-0.375,0.25)        \n",
       " Derive(-0.328125,1.4375)   \n",
       " Derive(0.0,3.0)            "
      ]
     },
     "execution_count": 107,
     "metadata": {},
     "output_type": "execute_result"
    }
   ],
   "source": [
    "dff"
   ]
  },
  {
   "cell_type": "code",
   "execution_count": 149,
   "metadata": {
    "collapsed": false
   },
   "outputs": [
    {
     "data": {
      "text/plain": [
       "2-element Array{Interval,1}:\n",
       " Interval(-Inf,-1.0)\n",
       " Interval(1.0,Inf)  "
      ]
     },
     "execution_count": 149,
     "metadata": {},
     "output_type": "execute_result"
    }
   ],
   "source": [
    "g(x) = wilkinson(x,3)\n",
    "dg(x) = wilkinson(makex(x),3).d\n",
    "A=Interval(-4,4)\n",
    "\n",
    "function extended_division(X::Interval,Y::Interval)\n",
    "    \n",
    "    a=X.a\n",
    "    b=X.b\n",
    "    c=Y.a\n",
    "    d=Y.b\n",
    "    \n",
    "    if (c==0 && d>0)\n",
    "        return([Interval(1/d,Inf)])\n",
    "    end\n",
    "    \n",
    "    if (d==0 && d<0)\n",
    "        return([Interval(1/c,Inf)])\n",
    "    end\n",
    "    \n",
    "    if (c < 0 && d > 0)\n",
    "        return([Interval(1/c,-Inf),Interval(1/d,Inf)])\n",
    "    end\n",
    "        \n",
    "    \n",
    "end\n",
    "\n",
    "extended_division(Interval(1,-1),Interval(1,-1))\n",
    "\n",
    "\n",
    "\n"
   ]
  },
  {
   "cell_type": "markdown",
   "metadata": {},
   "source": [
    "[4] Considera la familia de polinomios de Wilkinson definidos por $W_n(x) = \\prod_{i=1}^n(x-i)$. Partiendo de un intervalo simétrico alrededor de cero, implementa el método de Newton para encontrar sus raíces, utilizando diferenciación automática."
   ]
  },
  {
   "cell_type": "code",
   "execution_count": 101,
   "metadata": {
    "collapsed": false
   },
   "outputs": [
    {
     "data": {
      "text/plain": [
       "wilkinson (generic function with 1 method)"
      ]
     },
     "execution_count": 101,
     "metadata": {},
     "output_type": "execute_result"
    }
   ],
   "source": [
    "function wilkinson(x,n)\n",
    "    \n",
    "    w=1\n",
    "    \n",
    "    for i = 1:n\n",
    "        w=w*(x-i)\n",
    "    end\n",
    "    \n",
    "    return(w)\n",
    "end\n"
   ]
  },
  {
   "cell_type": "code",
   "execution_count": 61,
   "metadata": {
    "collapsed": false
   },
   "outputs": [
    {
     "name": "stdout",
     "output_type": "stream",
     "text": [
      "12345123451234512345123451234512345123451234512345"
     ]
    }
   ],
   "source": [
    "for i=1:10\n",
    "    for j=1:10\n",
    "        print(j)\n",
    "        if j==5\n",
    "            break\n",
    "        end\n",
    "    end\n",
    "end"
   ]
  },
  {
   "cell_type": "markdown",
   "metadata": {},
   "source": [
    "Por el momento el código solo encuentra raíces pares para los polinomios de wilkinson. No logro refinarlo para que funcione mejor."
   ]
  },
  {
   "cell_type": "markdown",
   "metadata": {},
   "source": [
    "## División extendida "
   ]
  },
  {
   "cell_type": "markdown",
   "metadata": {},
   "source": [
    "Hasta ahora, sólo hemos podido tratar el caso en el cual la derivada $F'(X)$ no contiene $0$. Sin embargo, resulta que es posible tratar también este caso, mediante \"división extendida\".\n",
    "\n",
    "[5] Supón que $F'(X)$ sea un intervalo, digamos $F'(X) = [-a, b]$, que contiene $0$ (con $a, b > 0$). \n",
    "\n",
    "(i) Definiendo $1/A$ como el conjunto $\\{1/x: x \\in A \\}$, evalúa $1/F'(X)$. \n",
    "\n",
    "(ii) Define una función que implementa esta \"división extendida\" de intervalos (o, más bien, inversa extendida).\n",
    "\n",
    "[6] Resulta que el método de Newton sigue funcionando si utilizamos esta división extendida cuándo sea apropiado. Impleméntalo para encontrar *todas* las raíces de una función en un intervalo dado.\n",
    "\n",
    "Nota que hay casos en los cuales no ocurre ninguna de las posibilidades (1) ni (2) en el teorema del método de Newton para intervalos. ¿Qué se puede hacer en este caso?\n",
    "\n",
    "[7] Implementa pruebas (tests) para tu código."
   ]
  }
 ],
 "metadata": {
  "kernelspec": {
   "display_name": "Julia 0.3.6",
   "language": "julia",
   "name": "julia 0.3"
  },
  "language_info": {
   "name": "julia",
   "version": "0.3.6"
  }
 },
 "nbformat": 4,
 "nbformat_minor": 0
}
