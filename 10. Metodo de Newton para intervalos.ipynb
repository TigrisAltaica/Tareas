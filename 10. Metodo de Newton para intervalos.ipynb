{
 "cells": [
  {
   "cell_type": "markdown",
   "metadata": {},
   "source": [
    "# El método de Newton para intervalos"
   ]
  },
  {
   "cell_type": "code",
   "execution_count": 88,
   "metadata": {
    "collapsed": true
   },
   "outputs": [],
   "source": [
    "workspace()"
   ]
  },
  {
   "cell_type": "code",
   "execution_count": 89,
   "metadata": {
    "collapsed": false
   },
   "outputs": [
    {
     "name": "stderr",
     "output_type": "stream",
     "text": [
      "Warning: Method definition IPv4(String,) in module Compat at /home/estudiante/.julia/v0.3/Compat/src/Compat.jl:36 overwritten in module Compat at /home/estudiante/.julia/v0.3/Compat/src/Compat.jl:36.\n",
      "Warning: Method definition IPv6(String,) in module Compat at /home/estudiante/.julia/v0.3/Compat/src/Compat.jl:37 overwritten in module Compat at /home/estudiante/.julia/v0.3/Compat/src/Compat.jl:37.\n",
      "Warning: Method definition isless(T<:IpAddr,T<:IpAddr) in module Compat at /home/estudiante/.julia/v0.3/Compat/src/Compat.jl:42 overwritten in module Compat at /home/estudiante/.julia/v0.3/Compat/src/Compat.jl:42.\n",
      "Warning: Method definition Dict(Any,) in module Compat at /home/estudiante/.julia/v0.3/Compat/src/Compat.jl:54 overwritten in module Compat at /home/estudiante/.julia/v0.3/Compat/src/Compat.jl:54.\n",
      "Warning: Method definition round(Type{T<:Integer},Integer) in module Compat at /home/estudiante/.julia/v0.3/Compat/src/Compat.jl:70 overwritten in module Compat at /home/estudiante/.julia/v0.3/Compat/src/Compat.jl:70.\n",
      "Warning: Method definition round(Type{T<:Integer},Real) in module Compat at /home/estudiante/.julia/v0.3/Compat/src/Compat.jl:71 overwritten in module Compat at /home/estudiante/.julia/v0.3/Compat/src/Compat.jl:71.\n",
      "Warning: Method definition round(Type{T<:Integer},Rational{T<:Integer}) in module Compat at /home/estudiante/.julia/v0.3/Compat/src/Compat.jl:72 overwritten in module Compat at /home/estudiante/.julia/v0.3/Compat/src/Compat.jl:72.\n",
      "Warning: Method definition round(Type{T},AbstractArray{R,1}) in module Compat at /home/estudiante/.julia/v0.3/Compat/src/Compat.jl:74 overwritten in module Compat at /home/estudiante/.julia/v0.3/Compat/src/Compat.jl:74.\n",
      "Warning: Method definition round(Type{T},AbstractArray{R,2}) in module Compat at /home/estudiante/.julia/v0.3/Compat/src/Compat.jl:77 overwritten in module Compat at /home/estudiante/.julia/v0.3/Compat/src/Compat.jl:77.\n",
      "Warning: Method definition round(Type{T},AbstractArray{T,N}) in module Compat at /home/estudiante/.julia/v0.3/Compat/src/Compat.jl:80 overwritten in module Compat at /home/estudiante/.julia/v0.3/Compat/src/Compat.jl:80.\n",
      "Warning: Method definition ceil(Type{T<:Integer},Integer) in module Compat at /home/estudiante/.julia/v0.3/Compat/src/Compat.jl:70 overwritten in module Compat at /home/estudiante/.julia/v0.3/Compat/src/Compat.jl:70.\n",
      "Warning: Method definition ceil(Type{T<:Integer},Real) in module Compat at /home/estudiante/.julia/v0.3/Compat/src/Compat.jl:71 overwritten in module Compat at /home/estudiante/.julia/v0.3/Compat/src/Compat.jl:71.\n",
      "Warning: Method definition ceil(Type{T<:Integer},Rational{T<:Integer}) in module Compat at /home/estudiante/.julia/v0.3/Compat/src/Compat.jl:72 overwritten in module Compat at /home/estudiante/.julia/v0.3/Compat/src/Compat.jl:72.\n",
      "Warning: Method definition ceil(Type{T},AbstractArray{R,1}) in module Compat at /home/estudiante/.julia/v0.3/Compat/src/Compat.jl:74 overwritten in module Compat at /home/estudiante/.julia/v0.3/Compat/src/Compat.jl:74.\n",
      "Warning: Method definition ceil(Type{T},AbstractArray{R,2}) in module Compat at /home/estudiante/.julia/v0.3/Compat/src/Compat.jl:77 overwritten in module Compat at /home/estudiante/.julia/v0.3/Compat/src/Compat.jl:77.\n",
      "Warning: Method definition ceil(Type{T},AbstractArray{T,N}) in module Compat at /home/estudiante/.julia/v0.3/Compat/src/Compat.jl:80 overwritten in module Compat at /home/estudiante/.julia/v0.3/Compat/src/Compat.jl:80.\n",
      "Warning: Method definition floor(Type{T<:Integer},Integer) in module Compat at /home/estudiante/.julia/v0.3/Compat/src/Compat.jl:70 overwritten in module Compat at /home/estudiante/.julia/v0.3/Compat/src/Compat.jl:70.\n",
      "Warning: Method definition floor(Type{T<:Integer},Real) in module Compat at /home/estudiante/.julia/v0.3/Compat/src/Compat.jl:71 overwritten in module Compat at /home/estudiante/.julia/v0.3/Compat/src/Compat.jl:71.\n",
      "Warning: Method definition floor(Type{T<:Integer},Rational{T<:Integer}) in module Compat at /home/estudiante/.julia/v0.3/Compat/src/Compat.jl:72 overwritten in module Compat at /home/estudiante/.julia/v0.3/Compat/src/Compat.jl:72.\n",
      "Warning: Method definition floor(Type{T},AbstractArray{R,1}) in module Compat at /home/estudiante/.julia/v0.3/Compat/src/Compat.jl:74 overwritten in module Compat at /home/estudiante/.julia/v0.3/Compat/src/Compat.jl:74.\n",
      "Warning: Method definition floor(Type{T},AbstractArray{R,2}) in module Compat at /home/estudiante/.julia/v0.3/Compat/src/Compat.jl:77 overwritten in module Compat at /home/estudiante/.julia/v0.3/Compat/src/Compat.jl:77.\n",
      "Warning: Method definition floor(Type{T},AbstractArray{T,N}) in module Compat at /home/estudiante/.julia/v0.3/Compat/src/Compat.jl:80 overwritten in module Compat at /home/estudiante/.julia/v0.3/Compat/src/Compat.jl:80.\n",
      "Warning: Method definition trunc(Type{T<:Integer},Integer) in module Compat at /home/estudiante/.julia/v0.3/Compat/src/Compat.jl:70 overwritten in module Compat at /home/estudiante/.julia/v0.3/Compat/src/Compat.jl:70.\n",
      "Warning: Method definition trunc(Type{T<:Integer},Real) in module Compat at /home/estudiante/.julia/v0.3/Compat/src/Compat.jl:71 overwritten in module Compat at /home/estudiante/.julia/v0.3/Compat/src/Compat.jl:71.\n",
      "Warning: Method definition trunc(Type{T<:Integer},Rational{T<:Integer}) in module Compat at /home/estudiante/.julia/v0.3/Compat/src/Compat.jl:72 overwritten in module Compat at /home/estudiante/.julia/v0.3/Compat/src/Compat.jl:72.\n",
      "Warning: Method definition trunc(Type{T},AbstractArray{R,1}) in module Compat at /home/estudiante/.julia/v0.3/Compat/src/Compat.jl:74 overwritten in module Compat at /home/estudiante/.julia/v0.3/Compat/src/Compat.jl:74.\n",
      "Warning: Method definition trunc(Type{T},AbstractArray{R,2}) in module Compat at /home/estudiante/.julia/v0.3/Compat/src/Compat.jl:77 overwritten in module Compat at /home/estudiante/.julia/v0.3/Compat/src/Compat.jl:77.\n",
      "Warning: Method definition trunc(Type{T},AbstractArray{T,N}) in module Compat at /home/estudiante/.julia/v0.3/Compat/src/Compat.jl:80 overwritten in module Compat at /home/estudiante/.julia/v0.3/Compat/src/Compat.jl:80.\n",
      "Warning: Method definition rand(Type{Bool},) in module Compat at /home/estudiante/.julia/v0.3/Compat/src/Compat.jl:187 overwritten in module Compat at /home/estudiante/.julia/v0.3/Compat/src/Compat.jl:187.\n",
      "Warning: Method definition parse(Type{T<:Integer},Char) in module Compat at /home/estudiante/.julia/v0.3/Compat/src/Compat.jl:208 overwritten in module Compat at /home/estudiante/.julia/v0.3/Compat/src/Compat.jl:208.\n",
      "Warning: Method definition parse(Type{T<:Integer},Char,Integer) in module Compat at /home/estudiante/.julia/v0.3/Compat/src/Compat.jl:209 overwritten in module Compat at /home/estudiante/.julia/v0.3/Compat/src/Compat.jl:209.\n",
      "Warning: Method definition parse(Type{T<:Integer},String) in module Compat at /home/estudiante/.julia/v0.3/Compat/src/Compat.jl:210 overwritten in module Compat at /home/estudiante/.julia/v0.3/Compat/src/Compat.jl:210.\n",
      "Warning: Method definition parse(Type{T<:Integer},String,Integer) in module Compat at /home/estudiante/.julia/v0.3/Compat/src/Compat.jl:211 overwritten in module Compat at /home/estudiante/.julia/v0.3/Compat/src/Compat.jl:211.\n",
      "Warning: Method definition parse(Type{T<:Union(Float64,Float32)},String) in module Compat at /home/estudiante/.julia/v0.3/Compat/src/Compat.jl:212 overwritten in module Compat at /home/estudiante/.julia/v0.3/Compat/src/Compat.jl:212.\n",
      "Warning: New definition \n",
      "    ^(Derive,Real) at /home/estudiante/MetodosNumericosAvanzados/Tareas/Derivatives.jl:93\n",
      "is ambiguous with: \n",
      "    ^(Any,Integer) at intfuncs.jl:86.\n",
      "To fix, define \n",
      "    ^(Derive,Integer)\n",
      "before the new definition.\n"
     ]
    },
    {
     "name": "stdout",
     "output_type": "stream",
     "text": [
      "Prueba básicas de derivación:\n",
      "10 facts verified.\n",
      "Prueba básicas de Intervalos:\n",
      "Solo se utilizó la parte no negativa del intervalo\n",
      "26 facts verified.\n"
     ]
    }
   ],
   "source": [
    "using Intervals\n",
    "using FactCheck\n",
    "using Derivatives\n",
    "using DerivativesTest\n",
    "using IntervalsTest"
   ]
  },
  {
   "cell_type": "markdown",
   "metadata": {},
   "source": [
    "Igual que en la clase anterior, supondremos que $f(x)$ es una función continuamente diferenciable y que existe un valor $x^*$ donde $f(x^*)=0$ (es decir, $x^*$ es una raíz de $f$). Aquí abordaremos de nuevo cómo encontrar las raíces de $f$ dentro de un intervalo inicial $X$. Supondremos además que existe una extensión del intervalo $F'$ para la derivada $f'$, y que (por el momento) éste no contiene al cero: $0\\notin F'(X)$.\n",
    "\n",
    "La clave del método de Newton para intervalos está en aplicar el *teorema del valor medio*, que nos asegura que para cualquier $x\\in X$ se cumple que\n",
    "\n",
    "\\begin{equation}\n",
    "f(x) = f(x^*) + f'(\\xi) \\cdot (x-x^*),\n",
    "\\end{equation}\n",
    "\n",
    "para algúna $\\xi$ entre $x$ y $x^*$. Aquí, $\\xi$ es un valor desconocido, pero podemos utilizar el hecho de que está contenido en el intervalo: $\\xi \\in X$."
   ]
  },
  {
   "cell_type": "markdown",
   "metadata": {},
   "source": [
    "Por lo tanto, obtenemos \n",
    "\n",
    "\\begin{equation}\n",
    "x^* = x - \\frac{f(x)}{f'(\\xi)} \\in x - \\frac{f(x)}{F'(X)} =: N(X,x),\n",
    "\\end{equation}\n",
    "donde hemos definido un operador $N$ que actúa sobre un intervalo y *cualquier* punto en el intervalo.\n",
    "\n",
    "Si suponemos que $x^*\\in X$, entonces $x^* \\in N(X,x)\\cap X$ para toda $x\\in X$.\n",
    "\n",
    "Una elección particular es $x = m := \\mathrm{mid}(X)$, el punto medio del intervalo $X$. Entonces obtenemos el llamado *operador de Newton para intervalos*:\n",
    "\n",
    "\\begin{equation}\n",
    "N(X) := N(X,m) = m - \\frac{f(m)}{F'(X)}.\n",
    "\\end{equation}\n",
    "\n",
    "Nota que cuando implementamos esto en la computadora, en general $f(m)$ no se podrá calcular exactamente, por lo cual es necesario convertir $m$ en un intervalo $M := [m,m]$, y usar la extensión natural $F(M)$, así que tenemos finalmente \n",
    "\n",
    "\\begin{equation}\n",
    "N(X) := M - \\frac{F(M)}{F'(X)},\n",
    "\\end{equation}\n",
    "donde ahora todos son intervalos."
   ]
  },
  {
   "cell_type": "markdown",
   "metadata": {},
   "source": [
    "Ahora podemos definir una sucesión de intervalos a partir de un intervalo inicial $X_0$, dada por $X_{k+1} := X_k \\cap N(X_k)$. Por construcción, si $x^*\\in X_0$ entonces $x^*\\in X_k$ para toda $k$. Entonces, si $X_0$ contiene a una raíz, la raíz se mantiene dentro de la secuencia de intervalos, que de hecho forman una secuencia anidada que converge a $x^*$. Entonces, si controlamos que de alguna manera el diámetro de los intervalos $x_k$ disminuya, obtendremos cotas precisas para $x^*$. Esto es el contenido del **Teorema del método de Newton para intervalos**."
   ]
  },
  {
   "cell_type": "markdown",
   "metadata": {},
   "source": [
    "Más aún, si $f(x)$ es doblemente continua y diferenciable y $N(X)$ está bien definida en el intervalo $X$, se puede demostrar que \n",
    "\n",
    "1. Si $N(X)\\cap X = \\emptyset$, es decir, $N(X)$ no se intersecta con $X$, entonces $X$ no contiene ninguna raíz de $f$.\n",
    "\n",
    "2. Si $N(X) \\subseteq X$, entonces $X$ contiene exactamente una raíz de $f$.\n",
    "\n"
   ]
  },
  {
   "cell_type": "markdown",
   "metadata": {},
   "source": [
    "[1] Escribe una función que calcule el operador de Newton para un intervalo $X$, dadas $f(x)$ y $f'(x)$.\n",
    "\n",
    "[2] Implementa el método de Newton para intervalos para encontrar las raíces de $f(x) = x^3 - 1$ a partir de $X=[-3,3]$. Muestra gráficamente la implementación del método. En cada iteración subsecuente del método, ilustra qué le pasa al diámetro de la refincación del intervalo que vas obteniendo.\n"
   ]
  },
  {
   "cell_type": "code",
   "execution_count": 64,
   "metadata": {
    "collapsed": false
   },
   "outputs": [
    {
     "name": "stdout",
     "output_type": "stream",
     "text": [
      "Interval(1.8875,3.0)\n",
      "Interval(1.893060247747747,2.1381171875000007)\n",
      "Interval(1.9987160945392723,2.0012401834202493)\n",
      "Interval(1.9999999817813114,2.0000000185682474)\n",
      "Interval(1.9999999999999993,2.000000000000001)\n",
      "Interval(1.9999999999999993,2.000000000000001)\n",
      "Interval(1.9999999999999993,2.000000000000001)\n",
      "Interval(1.9999999999999993,2.000000000000001)\n",
      "Interval(1.9999999999999993,2.000000000000001)\n",
      "Interval(1.9999999999999993,2.000000000000001)\n",
      "Interval(1.9999999999999993,2.000000000000001)\n",
      "Interval(1.9999999999999993,2.000000000000001)\n",
      "Interval(1.9999999999999993,2.000000000000001)\n",
      "Interval(1.9999999999999993,2.000000000000001)\n",
      "Interval(1.9999999999999993,2.000000000000001)\n",
      "Interval(1.9999999999999993,2.000000000000001)\n",
      "Interval(1.9999999999999993,2.000000000000001)\n",
      "Interval(1.9999999999999993,2.000000000000001)\n",
      "Interval(1.9999999999999993,2.000000000000001)\n",
      "Interval(1.9999999999999993,2.000000000000001)\n",
      "Interval(1.9999999999999993,2.000000000000001)\n",
      "Interval(1.9999999999999993,2.000000000000001)\n",
      "Interval(1.9999999999999993,2.000000000000001)\n",
      "Interval(1.9999999999999993,2.000000000000001)\n",
      "Interval(1.9999999999999993,2.000000000000001)\n",
      "Interval(1.9999999999999993,2.000000000000001)\n",
      "Interval(1.9999999999999993,2.000000000000001)\n",
      "Interval(1.9999999999999993,2.000000000000001)\n",
      "Interval(1.9999999999999993,2.000000000000001)\n",
      "Interval(1.9999999999999993,2.000000000000001)\n",
      "Interval(1.9999999999999993,2.000000000000001)\n",
      "Interval(1.9999999999999993,2.000000000000001)\n",
      "Interval(1.9999999999999993,2.000000000000001)\n",
      "Interval(1.9999999999999993,2.000000000000001)\n",
      "Interval(1.9999999999999993,2.000000000000001)\n",
      "Interval(1.9999999999999993,2.000000000000001)\n",
      "Interval(1.9999999999999993,2.000000000000001)\n",
      "Interval(1.9999999999999993,2.000000000000001)\n",
      "Interval(1.9999999999999993,2.000000000000001)\n",
      "Interval(1.9999999999999993,2.000000000000001)\n",
      "Interval(1.9999999999999993,2.000000000000001)\n",
      "Interval(1.9999999999999993,2.000000000000001)\n",
      "Interval(1.9999999999999993,2.000000000000001)\n",
      "Interval(1.9999999999999993,2.000000000000001)\n",
      "Interval(1.9999999999999993,2.000000000000001)\n",
      "Interval(1.9999999999999993,2.000000000000001)\n",
      "Interval(1.9999999999999993,2.000000000000001)\n",
      "Interval(1.9999999999999993,2.000000000000001)\n",
      "Interval(1.9999999999999993,2.000000000000001)\n",
      "Interval(1.9999999999999993,2.000000000000001)\n"
     ]
    }
   ],
   "source": [
    "f(x) = x^2-x-2\n",
    "\n",
    "\n",
    "function NewtonIntervalMethod(F::Function,X::Interval,tol)\n",
    "    \n",
    "    i=0\n",
    "    \n",
    "    while(IntervalLength(X)>tol)\n",
    "        \n",
    "        \n",
    "        X=Intersection(NewtonOperator(F,GetDerivativeValue(F,X),X),X)\n",
    "        \n",
    "        if(X==nothing)\n",
    "            return(\"No hay raíces en el intervalo\")\n",
    "        end\n",
    "        \n",
    "        i+=1\n",
    "        println(X)\n",
    "            \n",
    "        if(i == 50)\n",
    "            break\n",
    "        end\n",
    "    end\n",
    "end\n",
    "\n",
    "NewtonIntervalMethod(f,Interval(.5+1e-15,3),1e-15)"
   ]
  },
  {
   "cell_type": "code",
   "execution_count": 107,
   "metadata": {
    "collapsed": false
   },
   "outputs": [
    {
     "data": {
      "text/html": [
       "4 methods for generic function <b>append!</b>:<ul><li> append!(A::<b>Array{Bool,1}</b>,items::<b>BitArray{1}</b>) at <a href=\"https://github.com/JuliaLang/julia/tree/a05f87b79ad62beb033817fdfdefa270c9557aaf/base/bitarray.jl#L489\" target=\"_blank\">bitarray.jl:489</a><li> append!<i>{T}</i>(a::<b>Array{T,1}</b>,items::<b>AbstractArray{T,1}</b>) at <a href=\"https://github.com/JuliaLang/julia/tree/a05f87b79ad62beb033817fdfdefa270c9557aaf/base/array.jl#L473\" target=\"_blank\">array.jl:473</a><li> append!(B::<b>BitArray{1}</b>,items::<b>BitArray{1}</b>) at <a href=\"https://github.com/JuliaLang/julia/tree/a05f87b79ad62beb033817fdfdefa270c9557aaf/base/bitarray.jl#L471\" target=\"_blank\">bitarray.jl:471</a><li> append!(B::<b>BitArray{1}</b>,items::<b>AbstractArray{Bool,1}</b>) at <a href=\"https://github.com/JuliaLang/julia/tree/a05f87b79ad62beb033817fdfdefa270c9557aaf/base/bitarray.jl#L488\" target=\"_blank\">bitarray.jl:488</a></ul>"
      ],
      "text/plain": [
       "# 4 methods for generic function \"append!\":\n",
       "append!(A::Array{Bool,1},items::BitArray{1}) at bitarray.jl:489\n",
       "append!{T}(a::Array{T,1},items::AbstractArray{T,1}) at array.jl:473\n",
       "append!(B::BitArray{1},items::BitArray{1}) at bitarray.jl:471\n",
       "append!(B::BitArray{1},items::AbstractArray{Bool,1}) at bitarray.jl:488"
      ]
     },
     "execution_count": 107,
     "metadata": {},
     "output_type": "execute_result"
    }
   ],
   "source": [
    "Intersection"
   ]
  },
  {
   "cell_type": "code",
   "execution_count": 172,
   "metadata": {
    "collapsed": false
   },
   "outputs": [
    {
     "data": {
      "text/plain": [
       "Interval(0.3333333333333333,1.0)"
      ]
     },
     "execution_count": 172,
     "metadata": {},
     "output_type": "execute_result"
    }
   ],
   "source": [
    "f(x)=x+2\n",
    "\n",
    "\n",
    "function extended_division(F::Function,X::Interval)\n",
    "    \n",
    "    \n",
    "    if(contains(F(X),0)==false)\n",
    "        return(1/F(X))\n",
    "    end\n",
    "\n",
    "    \n",
    "end\n",
    "\n",
    "extended_division(f,Interval(-1,1))\n"
   ]
  },
  {
   "cell_type": "code",
   "execution_count": 159,
   "metadata": {
    "collapsed": false
   },
   "outputs": [
    {
     "data": {
      "text/plain": [
       "2-element Array{Interval,1}:\n",
       " Interval(1.0,9.0) \n",
       " Interval(-3.0,3.0)"
      ]
     },
     "execution_count": 159,
     "metadata": {},
     "output_type": "execute_result"
    }
   ],
   "source": [
    "A=Interval(1,3)\n",
    "B=Interval(1,-1)\n",
    "\n",
    "[A].*[A,B]"
   ]
  },
  {
   "cell_type": "code",
   "execution_count": null,
   "metadata": {
    "collapsed": true
   },
   "outputs": [],
   "source": [
    "function NewtonIntervalMethod(F::Function,X::Interval,tol)\n",
    "    \n",
    "    i=0\n",
    "    \n",
    "    while(IntervalLength(X)>tol)\n",
    "        \n",
    "        \n",
    "        X=Intersection(NewtonOperator(F,GetDerivativeValue(F,X),X),X)\n",
    "        \n",
    "        if(X==nothing)\n",
    "            return(\"No hay raíces en el intervalo\")\n",
    "        end\n",
    "        \n",
    "        i+=1\n",
    "        println(X)\n",
    "            \n",
    "        if(i == 50)\n",
    "            break\n",
    "        end\n",
    "    end\n",
    "end\n",
    "\n",
    "\n"
   ]
  },
  {
   "cell_type": "markdown",
   "metadata": {},
   "source": [
    "[3] Usando tu implementación, *demuestra* que en el mismo intervalo $X=[-3,3]$ que $g(x) = x^2+1$ no tiene ninguna raíz. Ilustra gráficamente esto.\n",
    "\n",
    "Hint: En el caso en que $0\\in F'(x)$ las hipótesis del teorema no se cumplen. En ese caso hay que dividir el intervalo (bisección por ejemplo) y tratar de que las hipótesis del teorema se cumplan, para poder aplicarlo. Extiende tus funciones para que incluyan esta situación. En ese caso, cada subdivisión debe ser probada si puede o no tener una raíz."
   ]
  },
  {
   "cell_type": "markdown",
   "metadata": {},
   "source": [
    "[4] Considera la familia de polinomios de Wilkinson definidos por $W_n(x) = \\prod_{i=1}^n(x-i)$. Partiendo de un intervalo simétrico alrededor de cero, implementa el método de Newton para encontrar sus raíces, utilizando diferenciación automática."
   ]
  },
  {
   "cell_type": "markdown",
   "metadata": {},
   "source": [
    "## División extendida "
   ]
  },
  {
   "cell_type": "markdown",
   "metadata": {},
   "source": [
    "Hasta ahora, sólo hemos podido tratar el caso en el cual la derivada $F'(X)$ no contiene $0$. Sin embargo, resulta que es posible tratar también este caso, mediante \"división extendida\".\n",
    "\n",
    "[5] Supón que $F'(X)$ sea un intervalo, digamos $F'(X) = [-a, b]$, que contiene $0$ (con $a, b > 0$). \n",
    "\n",
    "(i) Definiendo $1/A$ como el conjunto $\\{1/x: x \\in A \\}$, evalúa $1/F'(X)$. \n",
    "\n",
    "(ii) Define una función que implementa esta \"división extendida\" de intervalos (o, más bien, inversa extendida).\n",
    "\n",
    "[6] Resulta que el método de Newton sigue funcionando si utilizamos esta división extendida cuándo sea apropiado. Impleméntalo para encontrar *todas* las raíces de una función en un intervalo dado.\n",
    "\n",
    "Nota que hay casos en los cuales no ocurre ninguna de las posibilidades (1) ni (2) en el teorema del método de Newton para intervalos. ¿Qué se puede hacer en este caso?\n",
    "\n",
    "[7] Implementa pruebas (tests) para tu código."
   ]
  }
 ],
 "metadata": {
  "kernelspec": {
   "display_name": "Julia 0.3.6",
   "language": "julia",
   "name": "julia 0.3"
  },
  "language_info": {
   "name": "julia",
   "version": "0.3.6"
  }
 },
 "nbformat": 4,
 "nbformat_minor": 0
}
