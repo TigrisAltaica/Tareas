{
 "cells": [
  {
   "cell_type": "markdown",
   "metadata": {},
   "source": [
    "# El método de Newton para intervalos"
   ]
  },
  {
   "cell_type": "code",
   "execution_count": 44,
   "metadata": {
    "collapsed": true
   },
   "outputs": [],
   "source": [
    "workspace()"
   ]
  },
  {
   "cell_type": "code",
   "execution_count": 3,
   "metadata": {
    "collapsed": false
   },
   "outputs": [
    {
     "name": "stderr",
     "output_type": "stream",
     "text": [
      "Warning: New definition \n",
      "    ^(Derive,Real) at /home/pablo1/Documents/Tareas/TareasMetodosNumericosAvanzados/Derivatives.jl:93\n",
      "is ambiguous with: \n",
      "    ^(Any,Integer) at intfuncs.jl:86.\n",
      "To fix, define \n",
      "    ^(Derive,Integer)\n",
      "before the new definition.\n"
     ]
    },
    {
     "name": "stdout",
     "output_type": "stream",
     "text": [
      "Prueba básicas de derivación:\n",
      "10 facts verified.\n",
      "Prueba básicas de Intervalos:\n",
      "Solo se utilizó la parte no negativa del intervalo\n",
      "26 facts verified.\n"
     ]
    }
   ],
   "source": [
    "using Intervals\n",
    "using FactCheck\n",
    "using Derivatives\n",
    "using DerivativesTest\n",
    "using IntervalsTest"
   ]
  },
  {
   "cell_type": "markdown",
   "metadata": {},
   "source": [
    "Igual que en la clase anterior, supondremos que $f(x)$ es una función continuamente diferenciable y que existe un valor $x^*$ donde $f(x^*)=0$ (es decir, $x^*$ es una raíz de $f$). Aquí abordaremos de nuevo cómo encontrar las raíces de $f$ dentro de un intervalo inicial $X$. Supondremos además que existe una extensión del intervalo $F'$ para la derivada $f'$, y que (por el momento) éste no contiene al cero: $0\\notin F'(X)$.\n",
    "\n",
    "La clave del método de Newton para intervalos está en aplicar el *teorema del valor medio*, que nos asegura que para cualquier $x\\in X$ se cumple que\n",
    "\n",
    "\\begin{equation}\n",
    "f(x) = f(x^*) + f'(\\xi) \\cdot (x-x^*),\n",
    "\\end{equation}\n",
    "\n",
    "para algúna $\\xi$ entre $x$ y $x^*$. Aquí, $\\xi$ es un valor desconocido, pero podemos utilizar el hecho de que está contenido en el intervalo: $\\xi \\in X$."
   ]
  },
  {
   "cell_type": "markdown",
   "metadata": {},
   "source": [
    "Por lo tanto, obtenemos \n",
    "\n",
    "\\begin{equation}\n",
    "x^* = x - \\frac{f(x)}{f'(\\xi)} \\in x - \\frac{f(x)}{F'(X)} =: N(X,x),\n",
    "\\end{equation}\n",
    "donde hemos definido un operador $N$ que actúa sobre un intervalo y *cualquier* punto en el intervalo.\n",
    "\n",
    "Si suponemos que $x^*\\in X$, entonces $x^* \\in N(X,x)\\cap X$ para toda $x\\in X$.\n",
    "\n",
    "Una elección particular es $x = m := \\mathrm{mid}(X)$, el punto medio del intervalo $X$. Entonces obtenemos el llamado *operador de Newton para intervalos*:\n",
    "\n",
    "\\begin{equation}\n",
    "N(X) := N(X,m) = m - \\frac{f(m)}{F'(X)}.\n",
    "\\end{equation}\n",
    "\n",
    "Nota que cuando implementamos esto en la computadora, en general $f(m)$ no se podrá calcular exactamente, por lo cual es necesario convertir $m$ en un intervalo $M := [m,m]$, y usar la extensión natural $F(M)$, así que tenemos finalmente \n",
    "\n",
    "\\begin{equation}\n",
    "N(X) := M - \\frac{F(M)}{F'(X)},\n",
    "\\end{equation}\n",
    "donde ahora todos son intervalos."
   ]
  },
  {
   "cell_type": "markdown",
   "metadata": {},
   "source": [
    "Ahora podemos definir una sucesión de intervalos a partir de un intervalo inicial $X_0$, dada por $X_{k+1} := X_k \\cap N(X_k)$. Por construcción, si $x^*\\in X_0$ entonces $x^*\\in X_k$ para toda $k$. Entonces, si $X_0$ contiene a una raíz, la raíz se mantiene dentro de la secuencia de intervalos, que de hecho forman una secuencia anidada que converge a $x^*$. Entonces, si controlamos que de alguna manera el diámetro de los intervalos $x_k$ disminuya, obtendremos cotas precisas para $x^*$. Esto es el contenido del **Teorema del método de Newton para intervalos**."
   ]
  },
  {
   "cell_type": "markdown",
   "metadata": {},
   "source": [
    "Más aún, si $f(x)$ es doblemente continua y diferenciable y $N(X)$ está bien definida en el intervalo $X$, se puede demostrar que \n",
    "\n",
    "1. Si $N(X)\\cap X = \\emptyset$, es decir, $N(X)$ no se intersecta con $X$, entonces $X$ no contiene ninguna raíz de $f$.\n",
    "\n",
    "2. Si $N(X) \\subseteq X$, entonces $X$ contiene exactamente una raíz de $f$.\n",
    "\n"
   ]
  },
  {
   "cell_type": "markdown",
   "metadata": {},
   "source": [
    "[1] Escribe una función que calcule el operador de Newton para un intervalo $X$, dadas $f(x)$ y $f'(x)$.\n",
    "\n",
    "[2] Implementa el método de Newton para intervalos para encontrar las raíces de $f(x) = x^3 - 1$ a partir de $X=[-3,3]$. Muestra gráficamente la implementación del método. En cada iteración subsecuente del método, ilustra qué le pasa al diámetro de la refincación del intervalo que vas obteniendo.\n"
   ]
  },
  {
   "cell_type": "code",
   "execution_count": 10,
   "metadata": {
    "collapsed": false
   },
   "outputs": [
    {
     "name": "stdout",
     "output_type": "stream",
     "text": [
      "[Interval(0.034482758620689655,Inf)]\n",
      "Interval(2.5129310344827585,5.0)\n",
      "Interval(2.5129310344827585,3.6301713393798094)\n",
      "Interval(2.5129310344827585,3.0660743799521564)\n",
      "Interval(2.7997576797180064,3.0660743799521564)\n",
      "Interval(2.9370873766769647,3.0660743799521564)\n",
      "Interval(2.9370873766769647,3.0014715935521905)\n",
      "Interval(2.9713015117405552,3.0014715935521905)\n",
      "Interval(2.987306326432088,3.0014715935521905)\n",
      "Interval(2.994772677418432,3.0014715935521905)\n",
      "Interval(2.9982512788137945,3.0014715935521905)\n",
      "Interval(2.999870990322195,3.0014715935521905)\n",
      "Interval(2.999870990322195,3.0006249493139)\n",
      "Interval(2.999870990322195,3.000230862089826)\n",
      "Interval(2.999870990322195,3.0000474137855764)\n",
      "Interval(2.999962015533157,3.0000474137855764)\n",
      "Interval(2.999962015533157,3.000004389508146)\n",
      "Interval(2.9999843609383143,3.000004389508146)\n",
      "Interval(2.999994763135596,3.000004389508146)\n",
      "Interval(2.9999996055410336,3.000004389508146)\n",
      "Interval(2.9999996055410336,3.0000018597638607)\n",
      "Interval(2.9999996055410336,3.0000006821246368)\n",
      "Interval(2.9999996055410336,3.0000001339133275)\n",
      "Interval(2.9999998787115105,3.0000001339133275)\n",
      "Interval(2.9999998787115105,3.00000000587708)\n",
      "Interval(2.9999999462739986,3.00000000587708)\n",
      "Interval(2.9999999777255018,3.00000000587708)\n",
      "Interval(2.999999992366719,3.00000000587708)\n",
      "Interval(2.9999999991824575,3.00000000587708)\n",
      "Interval(2.9999999991824575,3.000000002355302)\n",
      "Interval(2.9999999991824575,3.000000000715854)\n",
      "Interval(2.999999999952662,3.000000000715854)\n",
      "Interval(2.999999999952662,3.0000000003112057)\n",
      "Interval(2.999999999952662,3.0000000001228355)\n",
      "Interval(2.999999999952662,3.0000000000351457)\n",
      "Interval(2.9999999999943237,3.0000000000351457)\n",
      "Interval(2.9999999999943237,3.000000000013719)\n",
      "Interval(2.9999999999943237,3.000000000003744)\n",
      "Interval(2.9999999999991,3.000000000003744)\n",
      "Interval(2.9999999999991,3.0000000000013243)\n",
      "Interval(2.9999999999991,3.000000000000198)\n",
      "Interval(2.9999999999996727,3.000000000000198)\n",
      "Interval(2.999999999999939,3.000000000000198)\n",
      "Interval(2.999999999999939,3.0000000000000644)\n",
      "Interval(2.999999999999939,3.0000000000000018)\n",
      "Interval(2.999999999999972,3.0000000000000018)\n",
      "Interval(2.999999999999987,3.0000000000000018)\n",
      "Interval(2.9999999999999942,3.0000000000000018)\n",
      "Interval(2.999999999999998,3.0000000000000018)\n",
      "Interval(2.9999999999999996,3.0000000000000018)\n",
      "Interval(2.9999999999999996,3.000000000000001)\n",
      "------------------------\n"
     ]
    }
   ],
   "source": [
    "f(x) = (x-1)*(x-2)*(x-3)\n",
    "\n",
    "\n",
    "\n",
    "function NewtonIntervalMethod(F::Function,X::Interval,tol)\n",
    "    \n",
    "    \n",
    "    Y= Interval[]\n",
    "    A=X\n",
    "    \n",
    "    function df(x)\n",
    "        return(GetDerivativeValue(f,x))\n",
    "    end\n",
    "    \n",
    "    append!(Y,extended_division(df,X))\n",
    "    n=length(Y)\n",
    "    println(Y)\n",
    "    for j=1:n\n",
    "        \n",
    "        X=A\n",
    "        \n",
    "        for l = 1:50\n",
    "        \n",
    "            \n",
    "            X=Intersection(midpoint(X)-F(midpoint(X))*Y[j],X)\n",
    "        \n",
    "            if(X==nothing)\n",
    "                return(\"No hay raíces en el intervalo\")\n",
    "            end\n",
    "        \n",
    "            println(X)\n",
    "            \n",
    "        end\n",
    "        \n",
    "        println(\"------------------------\")\n",
    "    end\n",
    "end\n",
    "\n",
    "NewtonIntervalMethod(f,Interval(0,5),1e-15)"
   ]
  },
  {
   "cell_type": "markdown",
   "metadata": {},
   "source": [
    "[3] Usando tu implementación, *demuestra* que en el mismo intervalo $X=[-3,3]$ que $g(x) = x^2+1$ no tiene ninguna raíz. Ilustra gráficamente esto.\n",
    "\n",
    "Hint: En el caso en que $0\\in F'(x)$ las hipótesis del teorema no se cumplen. En ese caso hay que dividir el intervalo (bisección por ejemplo) y tratar de que las hipótesis del teorema se cumplan, para poder aplicarlo. Extiende tus funciones para que incluyan esta situación. En ese caso, cada subdivisión debe ser probada si puede o no tener una raíz."
   ]
  },
  {
   "cell_type": "code",
   "execution_count": 5,
   "metadata": {
    "collapsed": false
   },
   "outputs": [
    {
     "data": {
      "text/plain": [
       "2-element Array{Interval,1}:\n",
       " Interval(1.0,Inf)  \n",
       " Interval(-Inf,-0.5)"
      ]
     },
     "execution_count": 5,
     "metadata": {},
     "output_type": "execute_result"
    }
   ],
   "source": [
    "f(x) = x^3\n",
    "df(x) = -1*x\n",
    "A=Interval(-1,2)\n",
    "\n",
    "function extended_division(f::Function,x::Interval)\n",
    "    \n",
    "    if contains(f(x),0) == false\n",
    "        return(1/f(x))\n",
    "    end\n",
    "    \n",
    "    if f(x.a) < 0 && f(x.b) < 0\n",
    "        return([Interval(max(1/f(x.a),1/f(x.b)),-Inf)])\n",
    "    end\n",
    "    \n",
    "    if f(x.a) > 0 && f(x.b) > 0\n",
    "        return([Interval(min(1/f(x.a),1/f(x.b)),Inf)])\n",
    "    end   \n",
    "    \n",
    "      \n",
    "    if f(x.a) < 0 && f(x.b) > 0\n",
    "        return([Interval(1/f(x.a),-Inf),Interval(1/f(x.b),Inf)])\n",
    "    end\n",
    "    \n",
    "    \n",
    "    if f(x.a) > 0 && f(x.b) < 0\n",
    "        return([Interval(1/f(x.a),Inf),Interval(1/f(x.b),-Inf)])\n",
    "    end\n",
    "    \n",
    "    \n",
    "end\n",
    "\n",
    "extended_division(df,A)\n",
    "\n",
    "\n",
    "\n",
    "    "
   ]
  },
  {
   "cell_type": "markdown",
   "metadata": {},
   "source": [
    "[4] Considera la familia de polinomios de Wilkinson definidos por $W_n(x) = \\prod_{i=1}^n(x-i)$. Partiendo de un intervalo simétrico alrededor de cero, implementa el método de Newton para encontrar sus raíces, utilizando diferenciación automática."
   ]
  },
  {
   "cell_type": "markdown",
   "metadata": {},
   "source": [
    "## División extendida "
   ]
  },
  {
   "cell_type": "markdown",
   "metadata": {},
   "source": [
    "Hasta ahora, sólo hemos podido tratar el caso en el cual la derivada $F'(X)$ no contiene $0$. Sin embargo, resulta que es posible tratar también este caso, mediante \"división extendida\".\n",
    "\n",
    "[5] Supón que $F'(X)$ sea un intervalo, digamos $F'(X) = [-a, b]$, que contiene $0$ (con $a, b > 0$). \n",
    "\n",
    "(i) Definiendo $1/A$ como el conjunto $\\{1/x: x \\in A \\}$, evalúa $1/F'(X)$. \n",
    "\n",
    "(ii) Define una función que implementa esta \"división extendida\" de intervalos (o, más bien, inversa extendida).\n",
    "\n",
    "[6] Resulta que el método de Newton sigue funcionando si utilizamos esta división extendida cuándo sea apropiado. Impleméntalo para encontrar *todas* las raíces de una función en un intervalo dado.\n",
    "\n",
    "Nota que hay casos en los cuales no ocurre ninguna de las posibilidades (1) ni (2) en el teorema del método de Newton para intervalos. ¿Qué se puede hacer en este caso?\n",
    "\n",
    "[7] Implementa pruebas (tests) para tu código."
   ]
  }
 ],
 "metadata": {
  "kernelspec": {
   "display_name": "Julia 0.3.7",
   "language": "julia",
   "name": "julia 0.3"
  },
  "language_info": {
   "name": "julia",
   "version": "0.3.7"
  }
 },
 "nbformat": 4,
 "nbformat_minor": 0
}
