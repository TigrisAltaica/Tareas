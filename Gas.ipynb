{
 "metadata": {
  "language": "Julia",
  "name": ""
 },
 "nbformat": 3,
 "nbformat_minor": 0,
 "worksheets": [
  {
   "cells": [
    {
     "cell_type": "markdown",
     "metadata": {},
     "source": [
      "Primero, defino los dos tipos de variables que pienso utilizar: Un tipo part\u00edcula y un tipo gas. Luego hago una funci\u00f3n que construya un gas y otra que lo mueva dentro de una caja."
     ]
    },
    {
     "cell_type": "code",
     "collapsed": false,
     "input": [
      "workspace()"
     ],
     "language": "python",
     "metadata": {},
     "outputs": [],
     "prompt_number": 66
    },
    {
     "cell_type": "code",
     "collapsed": false,
     "input": [
      "type Part ##Para almacenar la info de cada part\u00edcula\n",
      "    posx\n",
      "    posy\n",
      "    velx\n",
      "    vely\n",
      "end\n",
      "\n",
      "type Gas ##El gas tiene N part\u00edculas\n",
      "    N::Int\n",
      "    part::Vector{Part}\n",
      "end"
     ],
     "language": "python",
     "metadata": {},
     "outputs": [],
     "prompt_number": 1
    },
    {
     "cell_type": "code",
     "collapsed": false,
     "input": [],
     "language": "python",
     "metadata": {},
     "outputs": [
      {
       "metadata": {},
       "output_type": "pyout",
       "prompt_number": 2,
       "text": [
        "MakeGas (generic function with 1 method)"
       ]
      }
     ],
     "prompt_number": 2
    },
    {
     "cell_type": "code",
     "collapsed": false,
     "input": [
      "function MakeGas(N::Int) #Mi funci\u00f3n construye un gas de N part\u00edculas con posici\u00f3n inicial 0 y velocidad inicial aleatoria   \n",
      "    Gas(N,[Part(0,0,randn(),randn()) for i in 1:N])\n",
      "end\n",
      "\n",
      "function MovePartRight!(P::Part,t,L) #esta funci\u00f3n mueve una part\u00edcula a la derecha, asumiendo que hay una pared que la rebota en L\n",
      "   \n",
      "    a = P.posx + P.velx*t\n",
      "    \n",
      "    if a <=L\n",
      "    \n",
      "        P.posx += P.velx*t\n",
      "    \n",
      "    else \n",
      "        \n",
      "        P.posx+=P.velx*t\n",
      "        Reversevelx(P)\n",
      "        b=P.posx-L\n",
      "        P.posx-=2b\n",
      "    end \n",
      "        \n",
      "end\n",
      "\n",
      "function MovePartLeft!(P::Part,t,L) #esta funci\u00f3n mueve una part\u00edcula espec\u00edfica hacia la izquierda, asumiendo que hay una pared que la rebota en -L\n",
      "   \n",
      "    a = P.posx + P.velx*t\n",
      "    \n",
      "    if a >= -L\n",
      "    \n",
      "        P.posx += P.velx*t\n",
      "    \n",
      "    else \n",
      "        \n",
      "        P.posx+=P.velx*t\n",
      "        Reversevelx(P)\n",
      "        b=abs(P.posx)-L\n",
      "        P.posx+=2b\n",
      "    end    \n",
      "end\n",
      "\n",
      "\n",
      "function MovePartUp!(P::Part,t,L) #esta funci\u00f3n mueve una part\u00edcula espec\u00edfica hacia arriba, asumiendo que hay una pared que la rebota en L\n",
      "   \n",
      "       \n",
      "    a = P.posy + P.vely*t\n",
      "    \n",
      "    if a <=L\n",
      "    \n",
      "        P.posy += P.vely*t\n",
      "    \n",
      "    else \n",
      "        P.posy+=P.vely*t\n",
      "        Reversevely(P)\n",
      "        b=P.posy-L\n",
      "        P.posy-=2b\n",
      "    end \n",
      "\n",
      "end\n",
      "\n",
      "\n",
      "function MovePartDown!(P::Part,t,L) #esta funci\u00f3n mueve una part\u00edcula espec\u00edfica hac\u00eda abajo, asumiendo que hay una pared que la rebota en -L\n",
      "   \n",
      "    a = P.posy + P.vely*t\n",
      "    \n",
      "    if a >= -L\n",
      "    \n",
      "        P.posy += P.vely*t\n",
      "    \n",
      "    else \n",
      "        \n",
      "        P.posy+=P.vely*t\n",
      "        Reversevely(P)\n",
      "        b=abs(P.posy)-L\n",
      "        P.posy+=2b\n",
      "    end \n",
      "    P.posy\n",
      "    \n",
      "end\n",
      " \n",
      "\n",
      "function Reversevelx(P::Part) #Esta funci\u00f3n refleja la velocidad de la part\u00edcula en el eje x\n",
      "    \n",
      "    P.velx=-P.velx\n",
      "    \n",
      "end\n",
      "\n",
      "function Reversevely(P::Part) #Esta funci\u00f3n refleja la velocidad de la part\u00edcula en el eje y\n",
      "    \n",
      "    P.vely=-P.vely\n",
      "    \n",
      "end\n",
      "   \n",
      "function MoveGas!(G::Gas, t, L) #Esta funci\u00f3n mueve el gas moviendo cada part\u00edcula individual en funci\u00f3n de su velocidad\n",
      "    \n",
      "    for i = 1:G.N\n",
      "        \n",
      "        if G.part[i].velx > 0\n",
      "            MovePartRight!(G.part[i],t,L)\n",
      "        else\n",
      "            MovePartLeft!(G.part[i],t,L)\n",
      "        end\n",
      "        \n",
      "        if G.part[i].vely > 0\n",
      "            MovePartUp!(G.part[i],t,L)\n",
      "        else\n",
      "            MovePartDown!(G.part[i],t,L)\n",
      "        end\n",
      "        println(\"La part\u00edcula $i ahora est\u00e1 en ($(G.part[i].posx),$(G.part[i].posy))\")\n",
      "    end\n",
      "    \n",
      "end\n",
      "\n",
      "    \n",
      "    "
     ],
     "language": "python",
     "metadata": {},
     "outputs": [
      {
       "metadata": {},
       "output_type": "pyout",
       "prompt_number": 340,
       "text": [
        "MoveGas! (generic function with 1 method)"
       ]
      }
     ],
     "prompt_number": 340
    },
    {
     "cell_type": "code",
     "collapsed": false,
     "input": [
      "G=MakeGas(4)"
     ],
     "language": "python",
     "metadata": {},
     "outputs": [
      {
       "metadata": {},
       "output_type": "pyout",
       "prompt_number": 357,
       "text": [
        "Gas(4,[Part(0,0,-0.7771025804289339,-0.4858911399117758),Part(0,0,0.029111798532553832,0.8659206104282096),Part(0,0,0.02605197770451895,1.181938963932049),Part(0,0,0.852640470857646,0.45075916330688615)])"
       ]
      }
     ],
     "prompt_number": 357
    },
    {
     "cell_type": "code",
     "collapsed": false,
     "input": [
      "P = Part(0,0,-2,-2)"
     ],
     "language": "python",
     "metadata": {},
     "outputs": [
      {
       "metadata": {},
       "output_type": "pyout",
       "prompt_number": 330,
       "text": [
        "Part(0,0,-2,-2)"
       ]
      }
     ],
     "prompt_number": 330
    },
    {
     "cell_type": "code",
     "collapsed": false,
     "input": [
      "MoveGas!(G,1,3)"
     ],
     "language": "python",
     "metadata": {},
     "outputs": [
      {
       "output_type": "stream",
       "stream": "stdout",
       "text": [
        "La part\u00edcula 1 ahora est\u00e1 en (2.674769034852793,-0.1693063210586896)\n"
       ]
      },
      {
       "output_type": "stream",
       "stream": "stdout",
       "text": [
        "La part\u00edcula 2 ahora est\u00e1 en (0.34934158239064605,-1.608952674861485)\n",
        "La part\u00edcula 3 ahora est\u00e1 en (0.3126237324542274,2.183267567184588)\n",
        "La part\u00edcula 4 ahora est\u00e1 en (-1.7683143497082476,0.5908900403173671)\n"
       ]
      }
     ],
     "prompt_number": 369
    },
    {
     "cell_type": "code",
     "collapsed": false,
     "input": [],
     "language": "python",
     "metadata": {},
     "outputs": [],
     "prompt_number": 277
    },
    {
     "cell_type": "code",
     "collapsed": false,
     "input": [],
     "language": "python",
     "metadata": {},
     "outputs": []
    }
   ],
   "metadata": {}
  }
 ]
}