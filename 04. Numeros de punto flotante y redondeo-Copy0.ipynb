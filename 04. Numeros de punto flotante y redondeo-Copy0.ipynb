{
 "metadata": {
  "language": "Julia",
  "name": "",
  "signature": "sha256:2783c4b349a72ad8424bb6be93ef56754e1108fb816b419c282bc4239ed287bb"
 },
 "nbformat": 3,
 "nbformat_minor": 0,
 "worksheets": [
  {
   "cells": [
    {
     "cell_type": "markdown",
     "metadata": {},
     "source": [
      "# 04. N\u00fameros de punto flotante y redondeo"
     ]
    },
    {
     "cell_type": "markdown",
     "metadata": {},
     "source": [
      "### 1. N\u00fameros de punto flotante y la normal IEEE 744"
     ]
    },
    {
     "cell_type": "markdown",
     "metadata": {},
     "source": [
      "Los n\u00fameros de punto flotante son n\u00fameros reales que tienen la forma:\n",
      "\n",
      "\\begin{equation}\n",
      "x = (-1)^\\sigma m \\times \\beta^e,\n",
      "\\end{equation}\n",
      "donde $\\beta\\geq 2$ es un entero mayor que define la *base*, $m = (b_0.b_1\\, b_2\\, b_3\\dots)_\\beta$ es la *mantisa* o *significante* escrita en la base $\\beta$, donde $b_i = {0, 1, \\dots, \\beta-1}$, y $\\sigma$ sirve para definir el signo. Finalmente, $e$, el exponente, es un n\u00famero entero. Para evitar *las colas infinitas de nueves*, que en binario son las de unos, uno adem\u00e1s pide que $0\\leq \\beta_i \\leq \\beta-2$ para un n\u00famero infinito de $i$'s.\n",
      "\n",
      "Este conjunto es *no numerable*, como los reales. Esta representaci\u00f3n *no es \u00fanica*.\n",
      "\n",
      "Llevar los reales a la computadora obviamente involucra hacer dos concesiones:  en primer lugar, uno debe considerar conjuntos *finitos* de n\u00fameros como modelo de los reales, y en segundo t\u00e9rmino, que la representaci\u00f3n sea *\u00fanica*.\n",
      "\n",
      "En particular, pedimos que el primer d\u00edgito $b_0$ no sea cero para todo $x$ distinto de cero; los n\u00fameros de punto flotante que satisfacen esta condici\u00f3n se llaman *normales* o *normalizados*."
     ]
    },
    {
     "cell_type": "markdown",
     "metadata": {},
     "source": [
      "Hacer que el n\u00famero de *bits* (o sea, la base es $\\beta=2$) sea finito no es suficiente considerar\n",
      "que la mantisa consista de un n\u00famero finito de entradas, sino adem\u00e1s que el rango de $e$ sea *finito*. Esto es:\n",
      "\n",
      "\\begin{eqnarray}\n",
      "m & = & (b_0.b_1\\,b_2\\,\\dots b_p),\\\\\n",
      "e & \\in & [ e_{min}, e_{max} ].\\\\\n",
      "\\end{eqnarray}\n",
      "\n",
      "Aqu\u00ed, $p$ se conoce como el n\u00famero de *d\u00edgitos significativos* (*precision* en ingl\u00e9s), que **no** hay que confundir con la precisi\u00f3n (*accuracy*).\n",
      "\n",
      "En el caso de la representaci\u00f3n binaria, dado que $b_0=1$, entonces uno *puede* obviar esto, lo que significa que el bit $b_0$ **no** se guarda. A esta convenci\u00f3n se le llama la *regla del bit escondido* (*hidden bit rule*). "
     ]
    },
    {
     "cell_type": "markdown",
     "metadata": {},
     "source": [
      "-----\n",
      "\n",
      "**Ejercicio 1** \n",
      "\n",
      "Dados $p$, $e_{min}$ y $e_{max}$, usando el sistema binario, \u00bfde cu\u00e1ntos n\u00fameros *normales* consiste el conjunto? \u00bfY si se trata de otra base $\\beta$? \u00bfEst\u00e1n uniformemente distribuidos los n\u00fameros normales? \u00bfCu\u00e1l es la distancia entre el 0 y el primer n\u00famero positivo distinto de cero?\n",
      "*NOTA* Para guiar la respuesta, uno puede jugar con $\\beta=2$, $p=2$,  $e_{min} = -1$ y $e_{max} = 2$, pero la idea es obtener expresiones generales.\n",
      "\n",
      "(Entre par\u00e9ntesis, a estas alturas del partido deben haber escrito funciones que permiten pasar de un entero a una cadena binaria equivalente, y viceversa, y de un n\u00famero de punto flotante en base 10 al equivalente en binario, y viceversa. No s\u00f3lo se trata de que estas funciones est\u00e9n escritas, sino de que nos sean *\u00fatiles*, o sea, de que den resultados que podemos confiar y usar.)\n"
     ]
    },
    {
     "cell_type": "markdown",
     "metadata": {},
     "source": [
      "El conjunto contiene $\\beta^p$ elementos normales, en binario es $2^p$, etc. Los numeros estan uniformemente distribuidos. la distancia entre los n\u00fameros depende de la e. Con distintas e, podemos generar nuevos conjuntos con el mismo n\u00famero de elementos.\n"
     ]
    },
    {
     "cell_type": "code",
     "collapsed": false,
     "input": [
      "include(\"from_to_binary.jl\")"
     ],
     "language": "python",
     "metadata": {},
     "outputs": [
      {
       "metadata": {},
       "output_type": "pyout",
       "prompt_number": 6,
       "text": [
        "to_binary2 (generic function with 1 method)"
       ]
      }
     ],
     "prompt_number": 6
    },
    {
     "cell_type": "code",
     "collapsed": false,
     "input": [
      "function count_normals(p,emin, emax)\n",
      "     \n",
      "    count=0\n",
      "    num=\".\"\n",
      "    set = ASCIIString[]\n",
      "    \n",
      "    for i = 1:2.0^p #Primero genero el conjunto de n\u00fameros que necesito, de acuerdo a e minimo\n",
      "         \n",
      "        num =  to_binary(i-1)\n",
      "        \n",
      "        for j = length(num):p-1\n",
      "            num=\"0\"*num\n",
      "        end\n",
      "        \n",
      "        if emin==0\n",
      "            \n",
      "            num=\"1.\"*num\n",
      "        \n",
      "        end\n",
      "        \n",
      "        \n",
      "        if emin==-1\n",
      "            \n",
      "            num=\".1\"*num\n",
      "        \n",
      "        end\n",
      "                \n",
      "        if emin < -1\n",
      "            \n",
      "            num=\"1\"*num\n",
      "            \n",
      "            for j = emin:-1\n",
      "                \n",
      "                num = \"0\"*num\n",
      "            end\n",
      "            \n",
      "            num = \".\"*num\n",
      "                \n",
      "        end\n",
      "                \n",
      "        push!(set,num)\n",
      "\n",
      "        count=count+1\n",
      "    end\n",
      "    \n",
      "    #Esta parte ahora va moviendo el punto decimal a la derecha hasta llegar al numero que corresponde a emax\n",
      "\n",
      "        \n",
      "    for j = emin:emax-1\n",
      "        \n",
      "        dot=search(set[1],'.')\n",
      "        \n",
      "        println(\"---------------------\")\n",
      "        println(\"Exponente: 2^$(j+1)\")\n",
      "        println(\"---------------------\")\n",
      "        \n",
      "        \n",
      "        for i = 1:2.0^p\n",
      "               \n",
      "            set[i] = replace(set[i],set[i][dot:dot+1], reverse(set[i][dot:dot+1]))\n",
      "            println(from_binary2(set[i]))\n",
      "        \n",
      "        end\n",
      "        \n",
      "\n",
      "    end\n",
      "\n",
      "\n",
      "end\n",
      "\n",
      "count_normals(5,-6,2)\n",
      "        \n",
      "    \n",
      "    "
     ],
     "language": "python",
     "metadata": {},
     "outputs": [
      {
       "output_type": "stream",
       "stream": "stdout",
       "text": [
        "---------------------\n"
       ]
      },
      {
       "output_type": "stream",
       "stream": "stdout",
       "text": [
        "Exponente: 2^-5\n",
        "---------------------\n",
        "0.015625\n",
        "0.01611328125\n",
        "0.0166015625\n",
        "0.01708984375\n",
        "0.017578125\n",
        "0.01806640625\n",
        "0.0185546875\n",
        "0.01904296875\n",
        "0.01953125\n",
        "0.02001953125\n",
        "0.0205078125\n",
        "0.02099609375\n",
        "0.021484375\n",
        "0.02197265625\n",
        "0.0224609375\n",
        "0.02294921875\n",
        "0.0234375\n",
        "0.02392578125\n",
        "0.0244140625\n",
        "0.02490234375\n",
        "0.025390625\n",
        "0.02587890625\n",
        "0.0263671875\n",
        "0.02685546875\n",
        "0.02734375\n",
        "0.02783203125\n",
        "0.0283203125\n",
        "0.02880859375\n",
        "0.029296875\n",
        "0.02978515625\n",
        "0.0302734375\n",
        "0.03076171875\n",
        "---------------------\n",
        "Exponente: 2^-4\n",
        "---------------------\n",
        "0.03125\n",
        "0.0322265625\n",
        "0.033203125\n",
        "0.0341796875\n",
        "0.03515625\n",
        "0.0361328125\n",
        "0.037109375\n",
        "0.0380859375\n",
        "0.0390625\n",
        "0.0400390625\n",
        "0.041015625\n",
        "0.0419921875\n",
        "0.04296875\n",
        "0.0439453125\n",
        "0.044921875\n",
        "0.0458984375\n",
        "0.046875\n",
        "0.0478515625\n",
        "0.048828125\n",
        "0.0498046875\n",
        "0.05078125\n",
        "0.0517578125\n",
        "0.052734375\n",
        "0.0537109375\n",
        "0.0546875\n",
        "0.0556640625\n",
        "0.056640625\n",
        "0.0576171875\n",
        "0.05859375\n",
        "0.0595703125\n",
        "0.060546875\n",
        "0.0615234375\n",
        "---------------------\n",
        "Exponente: 2^-3\n",
        "---------------------\n",
        "0.0625\n",
        "0.064453125\n",
        "0.06640625\n",
        "0.068359375\n",
        "0.0703125\n",
        "0.072265625\n",
        "0.07421875\n",
        "0.076171875\n",
        "0.078125\n",
        "0.080078125\n",
        "0.08203125\n",
        "0.083984375\n",
        "0.0859375\n",
        "0.087890625\n",
        "0.08984375\n",
        "0.091796875\n",
        "0.09375\n",
        "0.095703125\n",
        "0.09765625\n",
        "0.099609375\n",
        "0.1015625\n",
        "0.103515625\n",
        "0.10546875\n",
        "0.107421875\n",
        "0.109375\n",
        "0.111328125\n",
        "0.11328125\n",
        "0.115234375\n",
        "0.1171875\n",
        "0.119140625\n",
        "0.12109375\n",
        "0.123046875\n",
        "---------------------\n",
        "Exponente: 2^-2\n",
        "---------------------\n",
        "0.125\n",
        "0.12890625\n",
        "0.1328125\n",
        "0.13671875\n",
        "0.140625\n",
        "0.14453125\n",
        "0.1484375\n",
        "0.15234375\n",
        "0.15625\n",
        "0.16015625\n",
        "0.1640625\n",
        "0.16796875\n",
        "0.171875\n",
        "0.17578125\n",
        "0.1796875\n",
        "0.18359375\n",
        "0.1875\n",
        "0.19140625\n",
        "0.1953125\n",
        "0.19921875\n",
        "0.203125\n",
        "0.20703125\n",
        "0.2109375\n",
        "0.21484375\n",
        "0.21875\n",
        "0.22265625\n",
        "0.2265625\n",
        "0.23046875\n",
        "0.234375\n",
        "0.23828125\n",
        "0.2421875\n",
        "0.24609375\n",
        "---------------------\n",
        "Exponente: 2^-1\n",
        "---------------------\n",
        "0.25\n",
        "0.2578125\n",
        "0.265625\n",
        "0.2734375\n",
        "0.28125\n",
        "0.2890625\n",
        "0.296875\n",
        "0.3046875\n",
        "0.3125\n",
        "0.3203125\n",
        "0.328125\n",
        "0.3359375\n",
        "0.34375\n",
        "0.3515625\n",
        "0.359375\n",
        "0.3671875\n",
        "0.375\n",
        "0.3828125\n",
        "0.390625\n",
        "0.3984375\n",
        "0.40625\n",
        "0.4140625\n",
        "0.421875\n",
        "0.4296875\n",
        "0.4375\n",
        "0.4453125\n",
        "0.453125\n",
        "0.4609375\n",
        "0.46875\n",
        "0.4765625\n",
        "0.484375\n",
        "0.4921875\n",
        "---------------------\n",
        "Exponente: 2^0\n",
        "---------------------\n",
        "0.5\n",
        "0.515625\n",
        "0.53125\n",
        "0.546875\n",
        "0.5625\n",
        "0.578125\n",
        "0.59375\n",
        "0.609375\n",
        "0.625\n",
        "0.640625\n",
        "0.65625\n",
        "0.671875\n",
        "0.6875\n",
        "0.703125\n",
        "0.71875\n",
        "0.734375\n",
        "0.75\n",
        "0.765625\n",
        "0.78125\n",
        "0.796875\n",
        "0.8125\n",
        "0.828125\n",
        "0.84375\n",
        "0.859375\n",
        "0.875\n",
        "0.890625\n",
        "0.90625\n",
        "0.921875\n",
        "0.9375\n",
        "0.953125\n",
        "0.96875\n",
        "0.984375\n",
        "---------------------\n",
        "Exponente: 2^1\n",
        "---------------------\n",
        "1\n",
        "1.03125\n",
        "1.0625\n",
        "1.09375\n",
        "1.125\n",
        "1.15625\n",
        "1.1875\n",
        "1.21875\n",
        "1.25\n",
        "1.28125\n",
        "1.3125\n",
        "1.34375\n",
        "1.375\n",
        "1.40625\n",
        "1.4375\n",
        "1.46875\n",
        "1.5\n",
        "1.53125\n",
        "1.5625\n",
        "1.59375\n",
        "1.625\n",
        "1.65625\n",
        "1.6875\n",
        "1.71875\n",
        "1.75\n",
        "1.78125\n",
        "1.8125\n",
        "1.84375\n",
        "1.875\n",
        "1.90625\n",
        "1.9375\n",
        "1.96875\n",
        "---------------------\n",
        "Exponente: 2^2\n",
        "---------------------\n",
        "2\n",
        "2.0625\n",
        "2.125\n",
        "2.1875\n",
        "2.25\n",
        "2.3125\n",
        "2.375\n",
        "2.4375\n",
        "2.5\n",
        "2.5625\n",
        "2.625\n",
        "2.6875\n",
        "2.75\n",
        "2.8125\n",
        "2.875\n",
        "2.9375\n",
        "3\n",
        "3.0625\n",
        "3.125\n",
        "3.1875\n",
        "3.25\n",
        "3.3125\n",
        "3.375\n",
        "3.4375\n",
        "3.5\n",
        "3.5625\n",
        "3.625\n",
        "3.6875\n",
        "3.75\n",
        "3.8125\n",
        "3.875\n",
        "3.9375\n"
       ]
      }
     ],
     "prompt_number": 11
    },
    {
     "cell_type": "markdown",
     "metadata": {},
     "source": [
      "Estos son los n\u00fameros que se pueden generar, ajustando el exponente para una p dada."
     ]
    },
    {
     "cell_type": "markdown",
     "metadata": {},
     "source": [
      "---\n",
      "\n",
      "**Ejercicio 2** \n",
      "\n",
      "\u00bfC\u00f3mo se representa al $x=0$ en el conjunto anterior? \u00bfFunciona la regla del bit escondido para una base $\\beta>3$?"
     ]
    },
    {
     "cell_type": "markdown",
     "metadata": {},
     "source": [
      "2) El cero se representa por todos los bits iguales a cero. Si $\\beta$ es mayor a 2, tenemos m\u00e1s posibilidades para el \"bit escondido\" y ya no podemos utilizarlo."
     ]
    },
    {
     "cell_type": "markdown",
     "metadata": {},
     "source": [
      "Del ejercicio 1 arriba, uno se da cuenta de que hay una distancia an\u00f3malamente grande entre 0 y el primer n\u00famero positivo. Esto trae problemas pr\u00e1cticos relacionados con la p\u00e9rdida de precisi\u00f3n cuando se tienen cantidades cercanas a cero. La manera de evitar esto es permitir que haya ciertos n\u00fameros que no son normales; a \u00e9stos se les llama *subnormales*. Un n\u00famero distinto de cero es subnormal si $b_0=0$. Esto permite llegar a cero de manera gradual al incorporar estos n\u00fameros al conjunto de n\u00fameros representables.\n"
     ]
    },
    {
     "cell_type": "markdown",
     "metadata": {},
     "source": [
      "---\n",
      "\n",
      "**Ejercicio 3**\n",
      "\n",
      "En el ejemplo de juguete anterior ($\\beta=2$, $p=2$,  $e_{min} = -1$ y $e_{max} = 2$) enumera los posibles n\u00fameros subnormales. \u00bfC\u00f3mo cambia la distancia de 0 al n\u00famero positivo m\u00e1s pr\u00f3ximo? \u00bfEl espaciamiento entre los n\u00fameros subnormales, es uniforme?\n"
     ]
    },
    {
     "cell_type": "markdown",
     "metadata": {},
     "source": [
      "Los n\u00fameros que agregamos al conjunto, para $e=0$ son el 0.01, 0.10 y 0.11, esto nos da los siguientes n\u00fameros:"
     ]
    },
    {
     "cell_type": "code",
     "collapsed": false,
     "input": [
      "println(from_binary2(\".01\"))\n",
      "println(from_binary2(\".10\"))\n",
      "println(from_binary2(\".11\"))"
     ],
     "language": "python",
     "metadata": {},
     "outputs": [
      {
       "output_type": "stream",
       "stream": "stdout",
       "text": [
        "0.25"
       ]
      },
      {
       "output_type": "stream",
       "stream": "stdout",
       "text": [
        "\n",
        "0.5\n",
        "0.75\n"
       ]
      }
     ],
     "prompt_number": 83
    },
    {
     "cell_type": "markdown",
     "metadata": {},
     "source": [
      "Para  $e=0$, en el caso de $e=-1$ obtengo:"
     ]
    },
    {
     "cell_type": "code",
     "collapsed": false,
     "input": [
      "println(from_binary2(\".001\"))\n",
      "println(from_binary2(\".010\"))\n",
      "println(from_binary2(\".011\"))"
     ],
     "language": "python",
     "metadata": {},
     "outputs": [
      {
       "output_type": "stream",
       "stream": "stdout",
       "text": [
        "0.125"
       ]
      },
      {
       "output_type": "stream",
       "stream": "stdout",
       "text": [
        "\n",
        "0.25\n",
        "0.375\n"
       ]
      }
     ],
     "prompt_number": 12
    },
    {
     "cell_type": "code",
     "collapsed": false,
     "input": [
      "println(from_binary2(\".0001\"))\n",
      "println(from_binary2(\".0010\"))\n",
      "println(from_binary2(\".0011\"))"
     ],
     "language": "python",
     "metadata": {},
     "outputs": [
      {
       "output_type": "stream",
       "stream": "stdout",
       "text": [
        "0.0"
       ]
      },
      {
       "output_type": "stream",
       "stream": "stdout",
       "text": [
        "625\n",
        "0.125\n",
        "0.1875\n"
       ]
      }
     ],
     "prompt_number": 14
    },
    {
     "cell_type": "markdown",
     "metadata": {},
     "source": [
      "Podemos crear n\u00fameros muy peque\u00f1os simplemente utilizando un exponente cada v\u00e9z m\u00e1s peque\u00f1o."
     ]
    },
    {
     "cell_type": "markdown",
     "metadata": {},
     "source": [
      "El espaciamiento se mantiene uniforme y ahora voy acercandome a n\u00fameros cuyo valor absoluto es muy chico."
     ]
    },
    {
     "cell_type": "markdown",
     "metadata": {},
     "source": [
      "---\n",
      "\n",
      "**Ejercicio 4**\n",
      "\n",
      "\u00bfQu\u00e9 expresiones definen a $N_{min}$ y $N_{max}$, los n\u00fameros de punto flotante (positivos) m\u00ednimo y m\u00e1ximo? Obt\u00e9n los resultados para los n\u00fameros normales y los subnormales."
     ]
    },
    {
     "cell_type": "markdown",
     "metadata": {},
     "source": [
      "Evidentemente, esto depende de los valores de $\\beta$, $p$, etc. Tomando $e=0, p=4$, mis numeros normales m\u00e1ximos y m\u00ednimos son 1.1111 y 1.0000 y de all\u00ed solo se juega a recorrer el punto decimal. Para el caso de n\u00fameros subnormales tenemos el 0.1111 y el 0.0001 (si nos interesan los n\u00fameros estrictamente positivos). Sus valores son:"
     ]
    },
    {
     "cell_type": "code",
     "collapsed": false,
     "input": [
      "println(from_binary2(\"1.1111\"))\n",
      "println(from_binary2(\"1.0000\"))\n",
      "println(from_binary2(\".1111\"))\n",
      "println(from_binary2(\".0001\"))\n"
     ],
     "language": "python",
     "metadata": {},
     "outputs": [
      {
       "output_type": "stream",
       "stream": "stdout",
       "text": [
        "1."
       ]
      },
      {
       "output_type": "stream",
       "stream": "stdout",
       "text": [
        "9375\n",
        "1\n",
        "0.9375\n",
        "0.0625\n"
       ]
      }
     ],
     "prompt_number": 87
    },
    {
     "cell_type": "markdown",
     "metadata": {},
     "source": [
      "En general, los n\u00fameros m\u00e1ximos son de la forma $b.bbb...bbb$ con $b=\\beta-1$ y los m\u00ednimos son $a.aaa...aab$ con $a=0$ ignorando la regla del bit escondido. Con esta regla los partimos en normales y subnormales donde en el primer caso el primer bit es 1 y en el segundo es 0 "
     ]
    },
    {
     "cell_type": "markdown",
     "metadata": {},
     "source": [
      "La norma [IEEE 754](http://en.wikipedia.org/wiki/IEEE_floating_point) define el est\u00e1ndar de la representaci\u00f3n de los n\u00fameros de punto flotante en las computadoras. En particular, aqu\u00ed nos interesar\u00e1 la representaci\u00f3n *en doble precisi\u00f3n* o de 64-bits, que consiste en el primer bit que contiene el signo $\\sigma$, de un exponente $e$ de 11-bits que tiene un *sesgo* (*bias*) $B_*$ y de la mantisa que consta de $p=52$ bits (de facto, $p=53$, si se incluye la regla del bit escondido). El resultado claramente son los 64 bits de almacenamiento.\n",
      "\n",
      "El sesgo se introduce por la siguiente raz\u00f3n. Sin sesgo, el exponente $e$ var\u00eda entre 0 y $2^{E_*} - 1$, donde $E_*$ son el n\u00famero de bits asignados al exponente. Entonces, el sesgo se introduce *restando* $B_* = 2^{E_*-1} - 1$ del exponente, lo que de facto hace que el rango del exponente sea $e \\in [-2^{E_*-1} + 1, 2^{E_*-1}]$.\n",
      "\n"
     ]
    },
    {
     "cell_type": "markdown",
     "metadata": {},
     "source": [
      "\n",
      "---\n",
      "\n",
      "**Ejercicio 5**\n",
      "\n",
      "Usando `bits` y un poco de imaginaci\u00f3n, cu\u00e1les son las reglas para representar\n",
      "- $x=$`NaN`\n",
      "\n",
      "- $x=$`Inf`\n",
      "\n",
      "- un n\u00famero $x>0$ *normal*\n",
      "\n",
      "- un n\u00famero $x$ *subnormal*\n",
      "\n",
      "- $x=0.0$ y $x = -0.0$"
     ]
    },
    {
     "cell_type": "code",
     "collapsed": false,
     "input": [
      "bits(1/0) #Inf"
     ],
     "language": "python",
     "metadata": {},
     "outputs": [
      {
       "metadata": {},
       "output_type": "pyout",
       "prompt_number": 32,
       "text": [
        "\"0111111111110000000000000000000000000000000000000000000000000000\""
       ]
      }
     ],
     "prompt_number": 32
    },
    {
     "cell_type": "code",
     "collapsed": false,
     "input": [
      "2.0^1023"
     ],
     "language": "python",
     "metadata": {},
     "outputs": [
      {
       "metadata": {},
       "output_type": "pyout",
       "prompt_number": 59,
       "text": [
        "8.98846567431158e307"
       ]
      }
     ],
     "prompt_number": 59
    },
    {
     "cell_type": "code",
     "collapsed": false,
     "input": [
      "bits(NaN)"
     ],
     "language": "python",
     "metadata": {},
     "outputs": [
      {
       "metadata": {},
       "output_type": "pyout",
       "prompt_number": 95,
       "text": [
        "\"0111111111111000000000000000000000000000000000000000000000000000\""
       ]
      }
     ],
     "prompt_number": 95
    },
    {
     "cell_type": "code",
     "collapsed": false,
     "input": [
      "bits(1.5)"
     ],
     "language": "python",
     "metadata": {},
     "outputs": [
      {
       "metadata": {},
       "output_type": "pyout",
       "prompt_number": 97,
       "text": [
        "\"0011111111111000000000000000000000000000000000000000000000000000\""
       ]
      }
     ],
     "prompt_number": 97
    },
    {
     "cell_type": "code",
     "collapsed": false,
     "input": [
      "bits(.125)"
     ],
     "language": "python",
     "metadata": {},
     "outputs": [
      {
       "metadata": {},
       "output_type": "pyout",
       "prompt_number": 99,
       "text": [
        "\"0011111111000000000000000000000000000000000000000000000000000000\""
       ]
      }
     ],
     "prompt_number": 99
    },
    {
     "cell_type": "code",
     "collapsed": false,
     "input": [
      "bits(0.0)"
     ],
     "language": "python",
     "metadata": {},
     "outputs": [
      {
       "metadata": {},
       "output_type": "pyout",
       "prompt_number": 101,
       "text": [
        "\"0000000000000000000000000000000000000000000000000000000000000000\""
       ]
      }
     ],
     "prompt_number": 101
    },
    {
     "cell_type": "code",
     "collapsed": false,
     "input": [
      "bits(-0.0)"
     ],
     "language": "python",
     "metadata": {},
     "outputs": [
      {
       "metadata": {},
       "output_type": "pyout",
       "prompt_number": 15,
       "text": [
        "\"1000000000000000000000000000000000000000000000000000000000000000\""
       ]
      }
     ],
     "prompt_number": 15
    },
    {
     "cell_type": "code",
     "collapsed": false,
     "input": [
      "function BitCompare(x,y)\n",
      "    \n",
      "    a = bits(x)\n",
      "    b = bits(y)\n",
      "    c = \"\"\n",
      "    \n",
      "    for i = 1:length(a)\n",
      "        \n",
      "        if a[i] !=  b[i]\n",
      "        \n",
      "            c=c*\"$i\"\n",
      "            \n",
      "        end\n",
      "        \n",
      "        if a[i] == b[i]\n",
      "            \n",
      "            c=c*\"_\"\n",
      "            \n",
      "        end\n",
      "      \n",
      "    end\n",
      "    \n",
      "    println(a)\n",
      "    println(b)\n",
      "    println(c)\n",
      "    \n",
      "end\n",
      "\n",
      "  \n",
      "BitCompare(2.0^1023,Inf)           \n",
      "    \n",
      "    \n",
      "    \n",
      "    "
     ],
     "language": "python",
     "metadata": {},
     "outputs": [
      {
       "output_type": "stream",
       "stream": "stdout",
       "text": [
        "0111111111100000000000000000000000000000000000000000000000000000\n"
       ]
      },
      {
       "output_type": "stream",
       "stream": "stdout",
       "text": [
        "0111111111110000000000000000000000000000000000000000000000000000\n",
        "___________12____________________________________________________\n"
       ]
      }
     ],
     "prompt_number": 60
    },
    {
     "cell_type": "code",
     "collapsed": false,
     "input": [
      "BitCompare(from_binary2(\"1.1\"),from_binary2(\"1.11\"))"
     ],
     "language": "python",
     "metadata": {},
     "outputs": [
      {
       "output_type": "stream",
       "stream": "stdout",
       "text": [
        "0011111111111000000000000000000000000000000000000000000000000000\n"
       ]
      },
      {
       "output_type": "stream",
       "stream": "stdout",
       "text": [
        "0011111111111100000000000000000000000000000000000000000000000000\n",
        "_____________14__________________________________________________\n"
       ]
      }
     ],
     "prompt_number": 67
    },
    {
     "cell_type": "markdown",
     "metadata": {},
     "source": [
      "La diferencia entre ambos es el primer bit que no corresponde al exponente. NaN es 0.0 pero con el m\u00e1ximo valor del exponente. 2.0^1023 es la potencia de 2 m\u00e1s grande que puedo calcular sin obtener Inf. Veo que difiere en el \u00faltimo bit del exponente, lo que me dice que la computadora considera Inf como 2^1024. Claramente el primer bit solo marca el signo. Los n\u00fameros subnormales comienzan a diferir despu\u00e9s del exponente. Si checco .1 y .01 veo que solo difiere el exponente.Es lo mismo para los n\u00fameros normales."
     ]
    },
    {
     "cell_type": "markdown",
     "metadata": {},
     "source": [
      "---\n",
      "\n",
      "**Ejercicio 6**\n",
      "\n",
      "- Dado que los n\u00fameros de punto flotante son *finitos*, construye la representaci\u00f3n decimal de dos n\u00fameros normales de punto flotante *consecutivos*, y dos subnormales consecutivos.\n",
      "\n",
      "- \u00bfCu\u00e1l es la representaci\u00f3n binaria del promedio de esos dos n\u00fameros? \u00bfQu\u00e9 obtienes a partir de tus programas?\n",
      "\n",
      "- \u00bfCu\u00e1l es la representaci\u00f3n binaria de la diferencia?"
     ]
    },
    {
     "cell_type": "code",
     "collapsed": false,
     "input": [
      "println(from_binary2(\"1.01\"))\n",
      "println(from_binary2(\"1.00\"))"
     ],
     "language": "python",
     "metadata": {},
     "outputs": [
      {
       "output_type": "stream",
       "stream": "stdout",
       "text": [
        "1."
       ]
      },
      {
       "output_type": "stream",
       "stream": "stdout",
       "text": [
        "25\n",
        "1\n"
       ]
      }
     ],
     "prompt_number": 104
    },
    {
     "cell_type": "code",
     "collapsed": false,
     "input": [
      "function NumCompare(a,b)\n",
      "    \n",
      "    x = from_binary2(a)\n",
      "    y = from_binary2(b)\n",
      "    \n",
      "    avg = (x+y)*.5\n",
      "    dif = abs(x-y)\n",
      "    \n",
      "    println(\"El promedio de los dos n\u00fameros es $avg y su representaci\u00f3n en binario es:\")\n",
      "    bin_avg = to_binary2(avg)\n",
      "    println(\"La diferencia de los dos n\u00fameros es $dif y su representaci\u00f3n en binario es:\")\n",
      "    bin_dif = to_binary2(dif)\n",
      "    \n",
      "\n",
      "end\n",
      "\n",
      "NumCompare(\".0011\",\".0010\")\n",
      "    "
     ],
     "language": "python",
     "metadata": {},
     "outputs": [
      {
       "output_type": "stream",
       "stream": "stdout",
       "text": [
        "El promedio de los dos n\u00fameros es 0.15625 y su representaci\u00f3n en binario es:\n"
       ]
      },
      {
       "output_type": "stream",
       "stream": "stdout",
       "text": [
        ".00101\n",
        "La diferencia de los dos n\u00fameros es 0.0625 y su representaci\u00f3n en binario es:\n",
        ".0001\n"
       ]
      }
     ],
     "prompt_number": 119
    },
    {
     "cell_type": "markdown",
     "metadata": {},
     "source": [
      "La representaci\u00f3n de la diferencia de dos n\u00fameros consecutivos subnormales es otro n\u00famero subnormal, su promedio igual, pero su promedio me pide mas presici\u00f3n, ya que no est\u00e1 en el conjunto para una p dada. En el caso de los n\u00fameros normales:"
     ]
    },
    {
     "cell_type": "code",
     "collapsed": false,
     "input": [
      "NumCompare(\"1.11\",\"1.10\")"
     ],
     "language": "python",
     "metadata": {},
     "outputs": [
      {
       "output_type": "stream",
       "stream": "stdout",
       "text": [
        "El promedio de los dos n\u00fameros es 1.625 y su representaci\u00f3n en binario es:\n"
       ]
      },
      {
       "output_type": "stream",
       "stream": "stdout",
       "text": [
        "1.101\n",
        "La diferencia de los dos n\u00fameros es 0.25 y su representaci\u00f3n en binario es:\n",
        ".01\n"
       ]
      }
     ],
     "prompt_number": 121
    },
    {
     "cell_type": "markdown",
     "metadata": {},
     "source": [
      "De nuevo el promedio se sale del conjunto pero sigue siendo normal, pero la diferencia es un n\u00famero subnormal de la misma presici\u00f3n"
     ]
    },
    {
     "cell_type": "markdown",
     "metadata": {},
     "source": [
      "---\n",
      "\n",
      "**Ejercicio 7** Donde *todo esto*, y mucho m\u00e1s, puede ser importante...\n",
      "\n",
      "Escribe una funci\u00f3n que eval\u00fae\n",
      "\n",
      "\\begin{equation}\n",
      "f(x,y) = 333.75 y^6 + x^2 (11 x^2 y^2 - y^6 - 121 y^4 - 2) + 5.5 y^8 + \\frac{x}{2y}\n",
      "\\end{equation}\n",
      "\n",
      "Usando esta funci\u00f3n, *demuestra* que $f(x=77617, y=33096) = -0.8273960599468214$.\n",
      "\n",
      "**NOTA** Los n\u00fameros han sido verificados y *son correctos* :-)"
     ]
    },
    {
     "cell_type": "code",
     "collapsed": false,
     "input": [
      "function F(x,y)\n",
      "    \n",
      "    x=BigFloat(x)\n",
      "    y=BigFloat(y)\n",
      "     \n",
      "    a=  11*x^2*x^2*y^2-121*y^4*x^2 + 333.75*y^6 + 5.5*y^8 - x^2*y^6 +x/(2*y) - 2*x^2\n",
      "   \n",
      "    \n",
      "end\n",
      "   \n",
      "f(77617.0,33096.0)"
     ],
     "language": "python",
     "metadata": {},
     "outputs": [
      {
       "metadata": {},
       "output_type": "pyout",
       "prompt_number": 68,
       "text": [
        "-8.273960599468213681411650954798162919990331157843848199178148416726751921071602e-01 with 256 bits of precision"
       ]
      }
     ],
     "prompt_number": 68
    },
    {
     "cell_type": "markdown",
     "metadata": {},
     "source": [
      "---\n",
      "\n",
      "**Ejercicio 8**\n",
      "\n",
      "Pensando en que vas a generar datos para hacer una gr\u00e1fica (con suficientes puntos), genera dichos datos para los *polinomios* $f(x) = (1-x)^6$ y $g(x) = x^6 -6x^5 + 15x^4 -20 x^3 + 15x^2 - 6 x + 1$, en el dominio $0.995 \\leq x \\leq 1.005$. \u00bfHay algo sorprendente en esto?"
     ]
    },
    {
     "cell_type": "code",
     "collapsed": false,
     "input": [
      "f(x) = (1-x)^6\n",
      "g(x) = x^6-6x^5+15x^4-20x^3+15x^2-6x + 1\n",
      "    \n",
      "    "
     ],
     "language": "python",
     "metadata": {},
     "outputs": [
      {
       "metadata": {},
       "output_type": "pyout",
       "prompt_number": 70,
       "text": [
        "g (generic function with 1 method)"
       ]
      }
     ],
     "prompt_number": 70
    },
    {
     "cell_type": "code",
     "collapsed": false,
     "input": [
      "\n",
      "\n",
      "for i = BigFloat(0.995):BigFloat(2.0)^-12:BigFloat(1.005)\n",
      "    println(\"$(f(i)-g(i))\")\n",
      "end"
     ],
     "language": "python",
     "metadata": {},
     "outputs": [
      {
       "output_type": "stream",
       "stream": "stdout",
       "text": [
        "7.219027189322127047587373590486929593844353341833827024265417113487685807112469e-77\n"
       ]
      },
      {
       "output_type": "stream",
       "stream": "stdout",
       "text": [
        "1.823513797155470565303827653420842589768024799376165137066487930222461090055645e-78\n",
        "-6.85432442989103293452660805980276107589074838195859399685211952744319358910134e-77\n",
        "-7.313055134650152496543590446696709697269866075675429137296229563888640214836035e-79\n",
        "6.708063327198029884595736250868826881945351060445085414106194936165420784804619e-77\n",
        "-3.286124824085470382778387631969227680647279350288482369428780721440407185840869e-78\n",
        "-7.365288292015127029334829588341768102932278796925058747501646392609480416690991e-77\n",
        "-5.840944134705956197736574330059741240142290757232190420224891608051732297380117e-78\n",
        "6.197099465073935789787514722329819854903820645478620663456668070999133957214968e-77\n",
        "-8.395763445326442012694761028150254799637302164175898471021002494663057408919365e-78\n",
        "-7.876252154139224192326466927959870814831281078313800357660868569931745438998841e-77\n",
        "-1.095058275594692782765294772624076835913231357111960652181711338127438252045861e-77\n",
        "5.686135602949838530915145638615495402853022368264182901437767915171994616322174e-77\n",
        "-1.350540206656741412201479314481239061938630495719179533191161416041007922492258e-77\n",
        "-8.387216016263321427228653075650139831844130356571814081714849231132666200245398e-77\n",
        "-1.606022137718790005682389452302318135407106135891762357253232252015249723469301e-77\n",
        "5.175171740825741400882509836030468914131199960440524343480310042960780141027899e-77\n",
        "-1.861504068780838590174480989114376420736350901455686167078458277504659557079005e-77\n",
        "-8.898179878387418581044204760071533822517667786797549614840625664418331922532423e-77\n",
        "-2.116985999842887171483032604735739843599618065595709909361468432614024735579444e-77\n",
        "4.664207878701644238078139550600054135318431655606129796117688799190282451373536e-77\n",
        "-2.372467930904935752978851274544791199549119206290080714441079521275157246733368e-77\n",
        "-9.409143740511515744035842099689636534416670068186291224999847841740596944840272e-77\n",
        "-2.627949861966984334474669944353842555498620346984451519520690609936289757887293e-77\n",
        "4.1532440165775470748992351567942634903331953976630411231618656883162500964122e-77\n",
        "-2.883431793029032916157755668350581844534355464233169387396902632149189601694704e-77\n",
        "-9.920107602635612904218473626492420250022162701259826893210056015786351977345829e-77\n",
        "-3.138913724091081506642392939168653988623087479536199206713358531295154080215968e-77\n",
        "3.642280154453449926888962152191195425332911240622064536730718195135371686383248e-77\n",
        "-3.394395655153130112108394545001760779610537619186994049757889114582505171016128e-77\n",
        "-1.043107146475971000728465362605038437432629248525750840845697945654307055053809e-76\n",
        "-3.649877586215178597723481470714590395408242764055668702977822224738763363585109e-77\n",
        "3.13131629232935281183769068462120358350980695714617100250133500706554382336787e-77\n",
        "-3.905359517277227179219300140523641751357743904750039508057433313399895874739034e-77\n",
        "-1.094203532688380717027629096566848708622529476664625001861620163386533557284594e-76\n",
        "-4.160841448339275760715118810332693107307245045444410313137044402061028385892959e-77\n",
        "2.62035243020525564884605334500310087161080467575742939234211282974327880106002e-77\n",
        "-4.416323379401327410394353291220840148114218052561057977726350802878139091765082e-77\n",
        "2.364870499143203999166818864114953830803831668640781727752806428926168095187897e-77\n",
        "-4.671805310463375991890171961029891504063719193255428782805961891539271602919007e-77\n",
        "2.109388568081155417671000194305902474854330527946410922673195340265035584033972e-77\n"
       ]
      }
     ],
     "prompt_number": 74
    },
    {
     "cell_type": "code",
     "collapsed": false,
     "input": [
      "for i = 0.995:2.0^-12:1.005\n",
      "    println(\"$(f(i)-g(i))\")\n",
      "end"
     ],
     "language": "python",
     "metadata": {},
     "outputs": [
      {
       "output_type": "stream",
       "stream": "stdout",
       "text": [
        "5.259668650979528e-16\n"
       ]
      },
      {
       "output_type": "stream",
       "stream": "stdout",
       "text": [
        "2.476404038245406e-17\n",
        "2.217110666440475e-15\n",
        "-3.729240165264252e-15\n",
        "-1.9876617141886788e-16\n",
        "2.4930708549984814e-16\n",
        "1.0636951501320084e-15\n",
        "3.8233619586212627e-16\n",
        "1.688248121581644e-15\n",
        "-4.034576372215438e-16\n",
        "-6.07629882838298e-16\n",
        "-2.5108294305884503e-15\n",
        "9.669220486649986e-16\n",
        "-8.510890118745757e-16\n",
        "9.038564084118963e-16\n",
        "8.939132908289831e-16\n",
        "-8.864664014254231e-16\n",
        "-8.878023089247807e-16\n",
        "-8.88129153349071e-16\n",
        "-8.881761942872079e-16\n",
        "2.664535261690304e-15\n",
        "4.186589443199157e-24\n",
        "-3.552711067229486e-15\n",
        "-1.7763026089067092e-15\n",
        "1.7767596457360926e-15\n",
        "-3.550907873509949e-15\n",
        "-5.3230798567293595e-15\n",
        "3.568981368754304e-15\n",
        "-1.7380613736541627e-15\n",
        "1.8573555080913012e-15\n",
        "1.5763839429815304e-16\n",
        "2.8703493050616664e-16\n",
        "4.949430003763371e-16\n",
        "4.368293149516552e-15\n",
        "3.069660366033262e-15\n",
        "-5.120978045581088e-15\n",
        "1.1829541965693856e-15\n",
        "2.5279237057206737e-15\n",
        "7.95066843733843e-16\n",
        "-2.1136498475012712e-15\n",
        "4.608949521072398e-15\n"
       ]
      }
     ],
     "prompt_number": 75
    },
    {
     "cell_type": "markdown",
     "metadata": {},
     "source": [
      "\u00a1Las respuestas deber\u00edan ser iguales para cada paso! El error seguramente se debe a que al estar tomando datos cerca de un cero $(x=1)$ los n\u00fameros son muy chicos y el redondeo afecta mucho la respuesta. A\u00fan si cambio todo a big float lo que hago es reducir el error considerablemente, pero no lo elimino. Las cantidades en la computadora no necesariamente cumplen con todas las propiedades algebr\u00e1icas correctas. Utilizar BigFloat mejora el c\u00e1lculo en cerca de 60 ordenes de magnitud. "
     ]
    },
    {
     "cell_type": "markdown",
     "metadata": {},
     "source": [
      "---\n",
      "\n",
      "**Ejercicio 9**\n",
      "\n",
      "Explica por qu\u00e9 es mala idea usar como paso de integraci\u00f3n $0.1$ o $0.01$, u otros valores de este estilo. \u00bfQu\u00e9 pasa con el tiempo que vas calculando en cada paso de la integraci\u00f3n?"
     ]
    },
    {
     "cell_type": "markdown",
     "metadata": {},
     "source": [
      "La representaci\u00f3n binaria de 0.1, 0.01, etc es complicada lo cual lleva a errores que pueden acumularse. Es mejor utilizar pasos que sean potencias de 2, ya que su representaci\u00f3n en la m\u00e1quina es mucho m\u00e1s sencilla."
     ]
    },
    {
     "cell_type": "code",
     "collapsed": false,
     "input": [
      "sum = 0\n",
      "\n",
      "for i = 1:100\n",
      "    sum=sum+.01\n",
      "    println(sum)\n",
      "end"
     ],
     "language": "python",
     "metadata": {},
     "outputs": [
      {
       "output_type": "stream",
       "stream": "stdout",
       "text": [
        "0.0"
       ]
      },
      {
       "output_type": "stream",
       "stream": "stdout",
       "text": [
        "1\n",
        "0.02\n",
        "0.03\n",
        "0.04\n",
        "0.05\n",
        "0.060000000000000005\n",
        "0.07\n",
        "0.08\n",
        "0.09\n",
        "0.09999999999999999\n",
        "0.10999999999999999\n",
        "0.11999999999999998\n",
        "0.12999999999999998\n",
        "0.13999999999999999\n",
        "0.15\n",
        "0.16\n",
        "0.17\n",
        "0.18000000000000002\n",
        "0.19000000000000003\n",
        "0.20000000000000004\n",
        "0.21000000000000005\n",
        "0.22000000000000006\n",
        "0.23000000000000007\n",
        "0.24000000000000007\n",
        "0.25000000000000006\n",
        "0.26000000000000006\n",
        "0.2700000000000001\n",
        "0.2800000000000001\n",
        "0.2900000000000001\n",
        "0.3000000000000001\n",
        "0.3100000000000001\n",
        "0.3200000000000001\n",
        "0.3300000000000001\n",
        "0.34000000000000014\n",
        "0.35000000000000014\n",
        "0.36000000000000015\n",
        "0.37000000000000016\n",
        "0.38000000000000017\n",
        "0.3900000000000002\n",
        "0.4000000000000002\n",
        "0.4100000000000002\n",
        "0.4200000000000002\n",
        "0.4300000000000002\n",
        "0.4400000000000002\n",
        "0.45000000000000023\n",
        "0.46000000000000024\n",
        "0.47000000000000025\n",
        "0.48000000000000026\n",
        "0.49000000000000027\n",
        "0.5000000000000002\n",
        "0.5100000000000002\n",
        "0.5200000000000002\n",
        "0.5300000000000002\n",
        "0.5400000000000003\n",
        "0.5500000000000003\n",
        "0.5600000000000003\n",
        "0.5700000000000003\n",
        "0.5800000000000003\n",
        "0.5900000000000003\n",
        "0.6000000000000003\n",
        "0.6100000000000003\n",
        "0.6200000000000003\n",
        "0.6300000000000003\n",
        "0.6400000000000003\n",
        "0.6500000000000004\n",
        "0.6600000000000004\n",
        "0.6700000000000004\n",
        "0.6800000000000004\n",
        "0.6900000000000004\n",
        "0.7000000000000004\n",
        "0.7100000000000004\n",
        "0.7200000000000004\n",
        "0.7300000000000004\n",
        "0.7400000000000004\n",
        "0.7500000000000004\n",
        "0.7600000000000005\n",
        "0.7700000000000005\n",
        "0.7800000000000005\n",
        "0.7900000000000005\n",
        "0.8000000000000005\n",
        "0.8100000000000005\n",
        "0.8200000000000005\n",
        "0.8300000000000005\n",
        "0.8400000000000005\n",
        "0.8500000000000005\n",
        "0.8600000000000005\n",
        "0.8700000000000006\n",
        "0.8800000000000006\n",
        "0.8900000000000006\n",
        "0.9000000000000006\n",
        "0.9100000000000006\n",
        "0.9200000000000006\n",
        "0.9300000000000006\n",
        "0.9400000000000006\n",
        "0.9500000000000006\n",
        "0.9600000000000006\n",
        "0.9700000000000006\n",
        "0.9800000000000006\n",
        "0.9900000000000007\n",
        "1.0000000000000007\n"
       ]
      }
     ],
     "prompt_number": 80
    },
    {
     "cell_type": "markdown",
     "metadata": {},
     "source": [
      "\u00a1Se genera un error de redondeo! Ahora vemos que sucede con un paso que sea potencia de 2"
     ]
    },
    {
     "cell_type": "code",
     "collapsed": false,
     "input": [
      "sum = 0\n",
      "\n",
      "for i = 1:100\n",
      "    sum=sum+.125\n",
      "    println(sum)\n",
      "end"
     ],
     "language": "python",
     "metadata": {},
     "outputs": [
      {
       "output_type": "stream",
       "stream": "stdout",
       "text": [
        "0.125"
       ]
      },
      {
       "output_type": "stream",
       "stream": "stdout",
       "text": [
        "\n",
        "0.25\n",
        "0.375\n",
        "0.5\n",
        "0.625\n",
        "0.75\n",
        "0.875\n",
        "1.0\n",
        "1.125\n",
        "1.25\n",
        "1.375\n",
        "1.5\n",
        "1.625\n",
        "1.75\n",
        "1.875\n",
        "2.0\n",
        "2.125\n",
        "2.25\n",
        "2.375\n",
        "2.5\n",
        "2.625\n",
        "2.75\n",
        "2.875\n",
        "3.0\n",
        "3.125\n",
        "3.25\n",
        "3.375\n",
        "3.5\n",
        "3.625\n",
        "3.75\n",
        "3.875\n",
        "4.0\n",
        "4.125\n",
        "4.25\n",
        "4.375\n",
        "4.5\n",
        "4.625\n",
        "4.75\n",
        "4.875\n",
        "5.0\n",
        "5.125\n",
        "5.25\n",
        "5.375\n",
        "5.5\n",
        "5.625\n",
        "5.75\n",
        "5.875\n",
        "6.0\n",
        "6.125\n",
        "6.25\n",
        "6.375\n",
        "6.5\n",
        "6.625\n",
        "6.75\n",
        "6.875\n",
        "7.0\n",
        "7.125\n",
        "7.25\n",
        "7.375\n",
        "7.5\n",
        "7.625\n",
        "7.75\n",
        "7.875\n",
        "8.0\n",
        "8.125\n",
        "8.25\n",
        "8.375\n",
        "8.5\n",
        "8.625\n",
        "8.75\n",
        "8.875\n",
        "9.0\n",
        "9.125\n",
        "9.25\n",
        "9.375\n",
        "9.5\n",
        "9.625\n",
        "9.75\n",
        "9.875\n",
        "10.0\n",
        "10.125\n",
        "10.25\n",
        "10.375\n",
        "10.5\n",
        "10.625\n",
        "10.75\n",
        "10.875\n",
        "11.0\n",
        "11.125\n",
        "11.25\n",
        "11.375\n",
        "11.5\n",
        "11.625\n",
        "11.75\n",
        "11.875\n",
        "12.0\n",
        "12.125\n",
        "12.25\n",
        "12.375\n",
        "12.5\n"
       ]
      }
     ],
     "prompt_number": 81
    },
    {
     "cell_type": "markdown",
     "metadata": {},
     "source": [
      "\u00a1No hay error!"
     ]
    }
   ],
   "metadata": {}
  }
 ]
}