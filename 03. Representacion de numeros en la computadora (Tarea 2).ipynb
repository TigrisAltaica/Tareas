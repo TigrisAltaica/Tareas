{
 "metadata": {
  "language": "Julia",
  "name": "",
  "signature": "sha256:61a7d5cedeea25efe866fe8e2c079fa0703b51bce3594e4bf7c6ac667c6c3d6c"
 },
 "nbformat": 3,
 "nbformat_minor": 0,
 "worksheets": [
  {
   "cells": [
    {
     "cell_type": "markdown",
     "metadata": {},
     "source": [
      "En este notebook, investigaremos c\u00f3mo se representan los n\u00fameros enteros y reales en la computadora."
     ]
    },
    {
     "cell_type": "heading",
     "level": 1,
     "metadata": {},
     "source": [
      "N\u00fameros enteros"
     ]
    },
    {
     "cell_type": "markdown",
     "metadata": {},
     "source": [
      "Los humanos solemos utilizar base 10 para representar los n\u00fameros."
     ]
    },
    {
     "cell_type": "markdown",
     "metadata": {},
     "source": [
      "[1] Pensemos en el entero $n = 314159$. Sus d\u00edgitos son $a_5 = 3$, $a_4 = 1$, ..., $a_0 = 9$. \n",
      "Escribe $n$ en t\u00e9rminos de potencias de $10$.  Podemos escribir $314159_{10}$ para enfatizar la base."
     ]
    },
    {
     "cell_type": "code",
     "collapsed": false,
     "input": [
      "n=3*10^5+1*10^4+4*10^3+1*10^2+5*10^1+9*10^0"
     ],
     "language": "python",
     "metadata": {},
     "outputs": [
      {
       "metadata": {},
       "output_type": "pyout",
       "prompt_number": 1,
       "text": [
        "314159"
       ]
      }
     ],
     "prompt_number": 1
    },
    {
     "cell_type": "markdown",
     "metadata": {},
     "source": [
      "[2] La computadora trabaja en t\u00e9rminos de *d\u00edgitos binarios*, o bits, que pueden tomar s\u00f3lo el valor 0 o 1, y por lo tanto representa los n\u00fameros en base 2. Cu\u00e1l es la representaci\u00f3n en base 2 (*binario*) del n\u00famero $n = 50_{10}$?"
     ]
    },
    {
     "cell_type": "code",
     "collapsed": false,
     "input": [
      "bits(50)"
     ],
     "language": "python",
     "metadata": {},
     "outputs": [
      {
       "metadata": {},
       "output_type": "pyout",
       "prompt_number": 2,
       "text": [
        "\"0000000000000000000000000000000000000000000000000000000000110010\""
       ]
      }
     ],
     "prompt_number": 2
    },
    {
     "cell_type": "markdown",
     "metadata": {},
     "source": [
      "[3] (i) Escribe una funci\u00f3n que acepta una cadena en binario y regresa el entero correspondiente.\n",
      "\n",
      "(ii) Escribe una funci\u00f3n que acepta un entero y regresa su representaci\u00f3n en binario como una cadena. Comprueba tu respuesta usando la funci\u00f3n `bits` de Julia."
     ]
    },
    {
     "cell_type": "heading",
     "level": 3,
     "metadata": {},
     "source": [
      "La primera funci\u00f3n lee cada digito y suma 2 a la potencia correspondiente al total"
     ]
    },
    {
     "cell_type": "code",
     "collapsed": false,
     "input": [
      "function from_binary(x)\n",
      "    \n",
      "    l=length(x)\n",
      "    num=0\n",
      "    \n",
      "    for(i = 1:l)\n",
      "        \n",
      "        if(x[i]=='1')\n",
      "            num=num+2^(l-i)\n",
      "        end\n",
      "    end\n",
      "    \n",
      "    num\n",
      "    \n",
      "end\n",
      "\n",
      "\n",
      "from_binary(ans)\n",
      "    \n",
      "    "
     ],
     "language": "python",
     "metadata": {},
     "outputs": [
      {
       "metadata": {},
       "output_type": "pyout",
       "prompt_number": 26,
       "text": [
        "5648"
       ]
      }
     ],
     "prompt_number": 26
    },
    {
     "cell_type": "heading",
     "level": 3,
     "metadata": {},
     "source": [
      "La segunda funci\u00f3n va dividiendo el entero por dos y generando el uno o cero correspondiente. Siempre lo regreso a ser entero y resto el rem para tomar en cuenta que julia redondea hacia arriba los n\u00fameros como 1.5"
     ]
    },
    {
     "cell_type": "code",
     "collapsed": false,
     "input": [
      "function to_binary(x)\n",
      "    \n",
      "    str=\"\"\n",
      "    i=0\n",
      "    \n",
      "    while(x>0)\n",
      "    \n",
      "        if(mod(x,2)==0)\n",
      "            str=str*\"0\"\n",
      "        end\n",
      "        \n",
      "        if(mod(x,2)==1)\n",
      "            str=str*\"1\"\n",
      "        end\n",
      "        \n",
      "        x=int(x/2-rem(x,2))\n",
      "        \n",
      "        i=i+1\n",
      "        \n",
      "        if(i==100)\n",
      "            break\n",
      "        end\n",
      "        \n",
      "    end\n",
      "    \n",
      "    reverse(str)\n",
      "end\n",
      "   \n",
      "to_binary(13)\n",
      "    "
     ],
     "language": "python",
     "metadata": {},
     "outputs": [
      {
       "metadata": {},
       "output_type": "pyout",
       "prompt_number": 52,
       "text": [
        "\"1101\""
       ]
      }
     ],
     "prompt_number": 52
    },
    {
     "cell_type": "heading",
     "level": 1,
     "metadata": {},
     "source": [
      "N\u00fameros reales"
     ]
    },
    {
     "cell_type": "markdown",
     "metadata": {},
     "source": [
      "De igual manera, nosotros solemos representar los n\u00fameros reales con expresiones en base 10 utilizando un *punto decimal* para separar la parte entera y la parte fraccionaria. "
     ]
    },
    {
     "cell_type": "markdown",
     "metadata": {},
     "source": [
      "[4] Escribe el n\u00famero $p = 31.4159$ en t\u00e9rminos de potencias de $10$. \u00bfC\u00f3mo podemos llamar a los d\u00edgitos para que la expresi\u00f3n quede bonita?"
     ]
    },
    {
     "cell_type": "markdown",
     "metadata": {},
     "source": [
      "[5] La computadora trabaja en t\u00e9rminos de potencias de 2. \n",
      "\n",
      "(i) \u00bfCu\u00e1l es el valor del n\u00famero $101.0101_{2}$? Aqu\u00ed hemos utilizado un \"punto binario\".\n",
      "\n",
      "(ii) Escribe una funci\u00f3n que toma una cadena en binario que incluya un punto y regresa el n\u00famero correspondiente.\n",
      "\n",
      "(iii) Escribe una funci\u00f3n que toma un n\u00famero real y regresa la cadena en binario correspondiente."
     ]
    },
    {
     "cell_type": "heading",
     "level": 3,
     "metadata": {},
     "source": [
      "La primera funci\u00f3n efectivamente parte la cadena en dos partes, antes y despu\u00e9s del punto decimal. Simplemente calculo cada contribuci\u00f3n por separado y el total se suma."
     ]
    },
    {
     "cell_type": "code",
     "collapsed": false,
     "input": [
      "function from_binary2(x)\n",
      "    \n",
      "    l=length(x)\n",
      "    dot=0\n",
      "    num=0\n",
      "    \n",
      "    for(i = 1:l)\n",
      "        x[i]=='.'? dot=i : dot=dot  #Localizo el punto decimal\n",
      "    end\n",
      "    \n",
      "    for(i = 1:dot-1)\n",
      "        x[i]=='1' ? num = num + 2^(dot-i-1) : num=num\n",
      "    end\n",
      "\n",
      "    for(i = dot+1:l)\n",
      "        x[i]=='1' ? num = num + 2.0^(dot-i) : num=num\n",
      "    end    \n",
      "    \n",
      "    \n",
      "    num\n",
      "end\n",
      "    \n",
      "from_binary2(\"101.0101\")   "
     ],
     "language": "python",
     "metadata": {},
     "outputs": [
      {
       "metadata": {},
       "output_type": "pyout",
       "prompt_number": 44,
       "text": [
        "5.3125"
       ]
      }
     ],
     "prompt_number": 44
    },
    {
     "cell_type": "code",
     "collapsed": false,
     "input": [
      "function to_binary2(x)\n",
      "    \n",
      "    a=\"\"\n",
      "    b=\"\"\n",
      "    j=0\n",
      "    i=0\n",
      "    \n",
      "    for(i=1:99)\n",
      "        if(x*(10^i)==int(x*(10^i)))\n",
      "            j=i\n",
      "            break\n",
      "        end\n",
      "    end\n",
      "    \n",
      "    y=(x*(10.0^j)-int(x-0.5)*10.0^j) # y guarda el valor de solo la parte a la derecha del punto\n",
      "    \n",
      "    a=to_binary(int(x-0.5)) #primero calculo la parte que corresponde a antes del punto decimal, utilizo mi funcion anterior\n",
      "    \n",
      "\n",
      "     \n",
      "    print(y)\n",
      "    \n",
      "end\n",
      "\n",
      "to_binary2(12.5)\n",
      "\n",
      "    "
     ],
     "language": "python",
     "metadata": {},
     "outputs": [
      {
       "output_type": "stream",
       "stream": "stdout",
       "text": [
        "5.0"
       ]
      }
     ],
     "prompt_number": 119
    },
    {
     "cell_type": "code",
     "collapsed": false,
     "input": [
      "5/5]"
     ],
     "language": "python",
     "metadata": {},
     "outputs": [
      {
       "metadata": {},
       "output_type": "pyout",
       "prompt_number": 100,
       "text": [
        "125.0"
       ]
      }
     ],
     "prompt_number": 100
    },
    {
     "cell_type": "code",
     "collapsed": false,
     "input": [
      "round()"
     ],
     "language": "python",
     "metadata": {},
     "outputs": [
      {
       "ename": "LoadError",
       "evalue": "no method found for the specified argument types\nwhile loading In[110], in expression starting on line 1",
       "output_type": "pyerr",
       "traceback": [
        "no method found for the specified argument types\nwhile loading In[110], in expression starting on line 1",
        "",
        " in which at interactiveutil.jl:205"
       ]
      }
     ],
     "prompt_number": 110
    },
    {
     "cell_type": "markdown",
     "metadata": {},
     "source": [
      "[6] \u00bfC\u00f3mo se representa $0.1_{10}$ en binario? \u00bfQu\u00e9 notas? \u00bfEs sorprendente?"
     ]
    },
    {
     "cell_type": "heading",
     "level": 1,
     "metadata": {},
     "source": [
      "La representaci\u00f3n \"punto flotante\""
     ]
    },
    {
     "cell_type": "markdown",
     "metadata": {},
     "source": [
      "El conjunto de n\u00fameros reales es no-numerable. El conjunto de los n\u00fameros que se pueden representar en la computadora usando un espacio finito es finito, sea la que sea la representaci\u00f3n que se utilice. \n",
      "La representaci\u00f3n que se ha adoptado se llama \"punto flotante\". En Julia, los n\u00fameros flotantes por defecto se representan con 64 bits. Investiguemos qu\u00e9 representan los distintos bits."
     ]
    },
    {
     "cell_type": "markdown",
     "metadata": {},
     "source": [
      "[6] Utiliza la funci\u00f3n `bits` para investigar c\u00f3mo se representan los siguientes n\u00fameros *flotantes*. [Para comprobar si el n\u00famero es flotante, se utiliza la funci\u00f3n `typeof`.]\n",
      "\n",
      "$1$, $\\frac{1}{2}$, $\\frac{1}{4}$, $2$, $-2$, $0.1$, $0.2$, $0.4$, $3.14159$, $31.4159$,  etc.\n",
      "\n",
      "Ser\u00e1 \u00fatil escribir una funci\u00f3n que compara dos cadenas y te indica en d\u00f3nde difieren. \n",
      "\n",
      "[Una manera interesante de hacerlo es utilizar la funci\u00f3n `html` del paquete `Interact`, que regresa una versi\u00f3n renderizada en HTML de una cadena, o `Base.Markdown` en la versi\u00f3n 0.4 de Julia, que permite escribir `md\"...\"` para renderizar la cadena en Markdown.]\n",
      "\n"
     ]
    }
   ],
   "metadata": {}
  }
 ]
}