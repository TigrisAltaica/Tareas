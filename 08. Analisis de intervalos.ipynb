{
 "cells": [
  {
   "cell_type": "markdown",
   "metadata": {},
   "source": [
    "# Análisis de intervalos\n",
    "\n",
    "En el notebook anterior, entre otras cosas, hicieron su módulo para desarrollar la aritmética de intervalos, incluyendo además algunas pruebas. El módulo permite hacer las operaciones básicas de intervalos, incluyendo las potencias. Además, vimos que la manera en que uno opera los intervalos influye en la respuesta. Importante es notar que lo que se ha hecho hasta el momento sirve para funciones racionales de la forma $f(x) = p(x) / q(x)$, donde $p(x)$ y $q(x)$ son polinomios en $x$."
   ]
  },
  {
   "cell_type": "markdown",
   "metadata": {},
   "source": [
    "El propósito de este notebook es extender lo ya hecho a las *funciones estándares*, que son $\\exp(x)$ $\\log(x)$, las funciones trigonométricas ($\\sin(x)$, $\\cos(x)$, $\\tan(x)$, etc.), sus inversas ($\\arcsin(x)$, etc), y las hiperbólicas ($\\sinh(x)$, etc). Combinaciones utilizando las operaciones aritméticas que involucran las funciones estándares (y los polinomios) es lo que constituye a las *funciones elementales*."
   ]
  },
  {
   "cell_type": "markdown",
   "metadata": {},
   "source": [
    "## Extensión de funciones a intervalos\n",
    "\n",
    "Si $f(x)$ es una función elemental *monótona*, su extensión a intervalos intuitivamente es: \n",
    "$F([a,b]) = [F(a),F(b)]$. \n",
    "\n",
    "Para las funciones monótonas estándares, el intervalo $F([a,b])$ que define la extensión de $f(x)$ al intervalo $[a,b]$ es lo que se llama la *extensión natural a intervalos*, ya que  corresponde a una *cota estrecha* del rango de $f(x)$ para $x\\in [a,b]$, que denotaremos $R(f; [a,b])$."
   ]
  },
  {
   "cell_type": "code",
   "execution_count": 164,
   "metadata": {
    "collapsed": false
   },
   "outputs": [
    {
     "name": "stderr",
     "output_type": "stream",
     "text": [
      "Warning: Method definition IPv4(String,) in module Compat at /home/estudiante/.julia/v0.3/Compat/src/Compat.jl:31 overwritten in module Compat at /home/estudiante/.julia/v0.3/Compat/src/Compat.jl:31.\n",
      "Warning: Method definition IPv6(String,) in module Compat at /home/estudiante/.julia/v0.3/Compat/src/Compat.jl:32 overwritten in module Compat at /home/estudiante/.julia/v0.3/Compat/src/Compat.jl:32.\n",
      "Warning: Method definition isless(T<:IpAddr,T<:IpAddr) in module Compat at /home/estudiante/.julia/v0.3/Compat/src/Compat.jl:37 overwritten in module Compat at /home/estudiante/.julia/v0.3/Compat/src/Compat.jl:37.\n",
      "Warning: Method definition Dict(Any,) in module Compat at /home/estudiante/.julia/v0.3/Compat/src/Compat.jl:49 overwritten in module Compat at /home/estudiante/.julia/v0.3/Compat/src/Compat.jl:49.\n",
      "Warning: Method definition round(Type{T<:Integer},Integer) in module Compat at /home/estudiante/.julia/v0.3/Compat/src/Compat.jl:65 overwritten in module Compat at /home/estudiante/.julia/v0.3/Compat/src/Compat.jl:65.\n",
      "Warning: Method definition round(Type{T<:Integer},Any) in module Compat at /home/estudiante/.julia/v0.3/Compat/src/Compat.jl:66 overwritten in module Compat at /home/estudiante/.julia/v0.3/Compat/src/Compat.jl:66.\n",
      "Warning: Method definition round(Type{T<:Integer},Rational{T<:Integer}) in module Compat at /home/estudiante/.julia/v0.3/Compat/src/Compat.jl:67 overwritten in module Compat at /home/estudiante/.julia/v0.3/Compat/src/Compat.jl:67.\n",
      "Warning: Method definition ceil(Type{T<:Integer},Integer) in module Compat at /home/estudiante/.julia/v0.3/Compat/src/Compat.jl:65 overwritten in module Compat at /home/estudiante/.julia/v0.3/Compat/src/Compat.jl:65.\n",
      "Warning: Method definition ceil(Type{T<:Integer},Any) in module Compat at /home/estudiante/.julia/v0.3/Compat/src/Compat.jl:66 overwritten in module Compat at /home/estudiante/.julia/v0.3/Compat/src/Compat.jl:66.\n",
      "Warning: Method definition ceil(Type{T<:Integer},Rational{T<:Integer}) in module Compat at /home/estudiante/.julia/v0.3/Compat/src/Compat.jl:67 overwritten in module Compat at /home/estudiante/.julia/v0.3/Compat/src/Compat.jl:67.\n",
      "Warning: Method definition floor(Type{T<:Integer},Integer) in module Compat at /home/estudiante/.julia/v0.3/Compat/src/Compat.jl:65 overwritten in module Compat at /home/estudiante/.julia/v0.3/Compat/src/Compat.jl:65.\n",
      "Warning: Method definition floor(Type{T<:Integer},Any) in module Compat at /home/estudiante/.julia/v0.3/Compat/src/Compat.jl:66 overwritten in module Compat at /home/estudiante/.julia/v0.3/Compat/src/Compat.jl:66.\n",
      "Warning: Method definition floor(Type{T<:Integer},Rational{T<:Integer}) in module Compat at /home/estudiante/.julia/v0.3/Compat/src/Compat.jl:67 overwritten in module Compat at /home/estudiante/.julia/v0.3/Compat/src/Compat.jl:67.\n",
      "Warning: Method definition trunc(Type{T<:Integer},Integer) in module Compat at /home/estudiante/.julia/v0.3/Compat/src/Compat.jl:65 overwritten in module Compat at /home/estudiante/.julia/v0.3/Compat/src/Compat.jl:65.\n",
      "Warning: Method definition trunc(Type{T<:Integer},Any) in module Compat at /home/estudiante/.julia/v0.3/Compat/src/Compat.jl:66 overwritten in module Compat at /home/estudiante/.julia/v0.3/Compat/src/Compat.jl:66.\n",
      "Warning: Method definition trunc(Type{T<:Integer},Rational{T<:Integer}) in module Compat at /home/estudiante/.julia/v0.3/Compat/src/Compat.jl:67 overwritten in module Compat at /home/estudiante/.julia/v0.3/Compat/src/Compat.jl:67.\n",
      "Warning: Method definition rand(Type{Bool},) in module Compat at /home/estudiante/.julia/v0.3/Compat/src/Compat.jl:173 overwritten in module Compat at /home/estudiante/.julia/v0.3/Compat/src/Compat.jl:173.\n",
      "Warning: Method definition parse(Type{T<:Integer},Char) in module Compat at /home/estudiante/.julia/v0.3/Compat/src/Compat.jl:194 overwritten in module Compat at /home/estudiante/.julia/v0.3/Compat/src/Compat.jl:194.\n",
      "Warning: Method definition parse(Type{T<:Integer},Char,Integer) in module Compat at /home/estudiante/.julia/v0.3/Compat/src/Compat.jl:195 overwritten in module Compat at /home/estudiante/.julia/v0.3/Compat/src/Compat.jl:195.\n",
      "Warning: Method definition parse(Type{T<:Integer},String) in module Compat at /home/estudiante/.julia/v0.3/Compat/src/Compat.jl:196 overwritten in module Compat at /home/estudiante/.julia/v0.3/Compat/src/Compat.jl:196.\n",
      "Warning: Method definition parse(Type{T<:Integer},String,Integer) in module Compat at /home/estudiante/.julia/v0.3/Compat/src/Compat.jl:197 overwritten in module Compat at /home/estudiante/.julia/v0.3/Compat/src/Compat.jl:197.\n",
      "Warning: Method definition parse(Type{T<:Union(Float64,Float32)},String) in module Compat at /home/estudiante/.julia/v0.3/Compat/src/Compat.jl:198 overwritten in module Compat at /home/estudiante/.julia/v0.3/Compat/src/Compat.jl:198.\n"
     ]
    }
   ],
   "source": [
    "workspace()\n",
    "using Intervals\n",
    "using FactCheck"
   ]
  },
  {
   "cell_type": "code",
   "execution_count": 148,
   "metadata": {
    "collapsed": false
   },
   "outputs": [
    {
     "data": {
      "text/plain": [
       "IntCos (generic function with 1 method)"
      ]
     },
     "execution_count": 148,
     "metadata": {},
     "output_type": "execute_result"
    }
   ],
   "source": [
    "\n",
    "    \n",
    "    \n"
   ]
  },
  {
   "cell_type": "code",
   "execution_count": 165,
   "metadata": {
    "collapsed": false
   },
   "outputs": [
    {
     "data": {
      "text/plain": [
       "Interval(-1.0,-0.4161468365471424)"
      ]
     },
     "execution_count": 165,
     "metadata": {},
     "output_type": "execute_result"
    }
   ],
   "source": [
    "A=Interval(2,pi)\n",
    "cos(A)"
   ]
  },
  {
   "cell_type": "code",
   "execution_count": 125,
   "metadata": {
    "collapsed": false
   },
   "outputs": [
    {
     "data": {
      "text/plain": [
       "-1.0"
      ]
     },
     "execution_count": 125,
     "metadata": {},
     "output_type": "execute_result"
    }
   ],
   "source": [
    "cos(pi)"
   ]
  },
  {
   "cell_type": "code",
   "execution_count": 167,
   "metadata": {
    "collapsed": false
   },
   "outputs": [
    {
     "name": "stdout",
     "output_type": "stream",
     "text": [
      "Pruebas Básicas\n",
      "Solo se utilizó la parte no negativa del intervalo\n",
      "22 facts verified.\n"
     ]
    },
    {
     "data": {
      "text/plain": [
       "delayed_handler (generic function with 4 methods)"
      ]
     },
     "execution_count": 167,
     "metadata": {},
     "output_type": "execute_result"
    }
   ],
   "source": [
    "facts(\"Pruebas Básicas\") do\n",
    "    A = Interval(1,2)\n",
    "    B = Interval(3,4)\n",
    "    C = Interval(4.0,6.0)\n",
    "    D = Interval(-1,1)\n",
    "    E = Interval(-2,-1)\n",
    "    \n",
    "    @fact A + B => C\n",
    "    @fact A - B => Interval(-3.0,-1.0)\n",
    "    @fact A*B => Interval(3,8)\n",
    "    @fact A/B => Interval(.25,0.6666666666666667)\n",
    "    @fact midpoint(C) => 5\n",
    "    @fact contains(B, 1.0) => false\n",
    "    @fact contains(B, midpoint(B)) => true\n",
    "    @fact D^2 => Interval(0,1)\n",
    "    @fact D^3 => Interval(-1,1)\n",
    "    @fact A+2.0 => Interval(3,4)\n",
    "    @fact 2.0B => Interval(6,8)\n",
    "    @fact contains(Interval(0.1,.1),0.1) => true\n",
    "    @fact Interval(2,1) => Interval(1,2)\n",
    "    @fact -1.0A => Interval(-2,-1)\n",
    "    @fact exp(A) => Interval(exp(A.a),exp(A.b))\n",
    "    @fact log(A) => Interval(log(A.a),log(A.b))\n",
    "    @fact log(exp(B)) => B\n",
    "    @fact exp(log(C)) => C\n",
    "    @fact D^2.3 => Interval(0,1)\n",
    "    @fact_throws E^1.3\n",
    "    @fact contains(cos(A),cos(A.a)) => true\n",
    "    @fact contains(cos(A),cos(A.b)) => true\n",
    "    \n",
    "end\n"
   ]
  },
  {
   "cell_type": "markdown",
   "metadata": {},
   "source": [
    "[1] Amplía tu módulo de intervalos para que incluya la extensión de las funciones estándres monótonas a intervalos. En el caso de las potencias, extiénde lo que ya hayas hecho para que incluya potencias reales. Incluye algunas pruebas en `pruebas.jl` que muestren que lo que has hecho funciona *bien*."
   ]
  },
  {
   "cell_type": "markdown",
   "metadata": {},
   "source": [
    "[2] ¿Cómo definirías la extensión a intervalos para funciones no monótonas? Repite [1] para este caso."
   ]
  },
  {
   "cell_type": "markdown",
   "metadata": {},
   "source": [
    "[3] La extensión natural del intervalo para $f(x)=x/(1+x^2)$ es $F(\\mathbf{x})=\\mathbf{x}/(1+\\mathbf{x}^2)$. ¿Cuál es la extensión natural del intervalo para $\\mathbf{x}=[1,2]$? ¿Cómo se compara con el rango $R(f; [1,2])$. Ilustra los resultados con una gráfica."
   ]
  },
  {
   "cell_type": "markdown",
   "metadata": {},
   "source": [
    "El **Teorema Fundamental del Análisis de Intervalos** afirma que dada una función *elemental* $f(x)$ y una extensión natural a intervalos $F$, tal que $F(\\mathbf{x})$ está bien definida para algún intervalo $\\mathbf{x}$, entonces:\n",
    "\n",
    "1. Si $\\mathbf{z} \\subseteq \\mathbf{z'} \\subseteq \\mathbf{x} \\Longrightarrow F(\\mathbf{z}) \\subseteq F(\\mathbf{z'}),\\quad$ \"inclusión isotónica\" (*inclusion isotonicity*)\n",
    "\n",
    "2. $R(f;\\mathbf{x}) \\subseteq F(\\mathbf{x}),\\quad$ \"acotamiento del rango\" (*range enclosure*)\n"
   ]
  },
  {
   "cell_type": "markdown",
   "metadata": {},
   "source": [
    "La segunda propiedad afirma que la extensión natural $F(\\mathbf{x})$ contiene al rango, lo que entonces acota el rango de $f(x)$ con $F(\\mathbf{x})$. \n",
    "\n",
    "De aquí, dado que si $y\\notin F(\\mathbf{x}) \\Longrightarrow y\\notin R(f;\\mathbf{x})$, entonces podemos usar este resultado cuando se buscan las raíces de alguna función $f(x)$ en un intervalo: Si $ 0 \\notin F(\\mathbf{x})$ entonces $f(x)$ **no** tiene raíces en $\\mathbf{x}$."
   ]
  },
  {
   "cell_type": "markdown",
   "metadata": {},
   "source": [
    "[4] Demuestra que $f(x) = (\\sin(x)-x^2+1)\\cos(x)$ no tiene raíces en $\\mathbf{x}=[0,1/2]$. Ilustra que el argumento es correcto gráficamente."
   ]
  },
  {
   "cell_type": "markdown",
   "metadata": {
    "collapsed": true
   },
   "source": [
    "## Rutina para encontrar raíces de una función"
   ]
  },
  {
   "cell_type": "markdown",
   "metadata": {},
   "source": [
    "Ya hemos llegado al punto de poder resolver el siguiente problema:\n",
    "\n",
    "> Dada una función $f(x)$ y un intervalo $X$, encuentra las raíces de $f$ dentro de $X$."
   ]
  },
  {
   "cell_type": "markdown",
   "metadata": {},
   "source": [
    "[5] Escribe un código quer utiliza la propiedad de los ceros para encontrar los intervalos donde *podría haber* un cero."
   ]
  },
  {
   "cell_type": "markdown",
   "metadata": {},
   "source": [
    "[6] Extiende tu código para utilizar la derivada $f'$, dada a mano, para demostrar (cuando se puede) que el cero es *único* en el intervalo."
   ]
  },
  {
   "cell_type": "markdown",
   "metadata": {},
   "source": [
    "[7] Utiliza la *diferenciación automática* del notebook 6 para que no tengas que especificar la derivada a mano."
   ]
  }
 ],
 "metadata": {
  "kernelspec": {
   "display_name": "Julia 0.3.6",
   "language": "julia",
   "name": "julia 0.3"
  },
  "language_info": {
   "name": "julia",
   "version": "0.3.6"
  }
 },
 "nbformat": 4,
 "nbformat_minor": 0
}
