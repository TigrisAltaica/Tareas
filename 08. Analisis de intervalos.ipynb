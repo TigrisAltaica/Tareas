{
 "cells": [
  {
   "cell_type": "markdown",
   "metadata": {},
   "source": [
    "# Análisis de intervalos\n",
    "\n",
    "En el notebook anterior, entre otras cosas, hicieron su módulo para desarrollar la aritmética de intervalos, incluyendo además algunas pruebas. El módulo permite hacer las operaciones básicas de intervalos, incluyendo las potencias. Además, vimos que la manera en que uno opera los intervalos influye en la respuesta. Importante es notar que lo que se ha hecho hasta el momento sirve para funciones racionales de la forma $f(x) = p(x) / q(x)$, donde $p(x)$ y $q(x)$ son polinomios en $x$."
   ]
  },
  {
   "cell_type": "markdown",
   "metadata": {},
   "source": [
    "El propósito de este notebook es extender lo ya hecho a las *funciones estándares*, que son $\\exp(x)$ $\\log(x)$, las funciones trigonométricas ($\\sin(x)$, $\\cos(x)$, $\\tan(x)$, etc.), sus inversas ($\\arcsin(x)$, etc), y las hiperbólicas ($\\sinh(x)$, etc). Combinaciones utilizando las operaciones aritméticas que involucran las funciones estándares (y los polinomios) es lo que constituye a las *funciones elementales*."
   ]
  },
  {
   "cell_type": "markdown",
   "metadata": {},
   "source": [
    "## Extensión de funciones a intervalos\n",
    "\n",
    "Si $f(x)$ es una función elemental *monótona*, su extensión a intervalos intuitivamente es: \n",
    "$F([a,b]) = [F(a),F(b)]$. \n",
    "\n",
    "Para las funciones monótonas estándares, el intervalo $F([a,b])$ que define la extensión de $f(x)$ al intervalo $[a,b]$ es lo que se llama la *extensión natural a intervalos*, ya que  corresponde a una *cota estrecha* del rango de $f(x)$ para $x\\in [a,b]$, que denotaremos $R(f; [a,b])$."
   ]
  },
  {
   "cell_type": "code",
   "execution_count": 3,
   "metadata": {
    "collapsed": false
   },
   "outputs": [
    {
     "name": "stderr",
     "output_type": "stream",
     "text": [
      "Warning: Method definition IPv4(String,) in module Compat at /home/pablo1/.julia/v0.3/Compat/src/Compat.jl:31 overwritten in module Compat at /home/pablo1/.julia/v0.3/Compat/src/Compat.jl:31.\n",
      "Warning: Method definition IPv6(String,) in module Compat at /home/pablo1/.julia/v0.3/Compat/src/Compat.jl:32 overwritten in module Compat at /home/pablo1/.julia/v0.3/Compat/src/Compat.jl:32.\n",
      "Warning: Method definition isless(T<:IpAddr,T<:IpAddr) in module Compat at /home/pablo1/.julia/v0.3/Compat/src/Compat.jl:37 overwritten in module Compat at /home/pablo1/.julia/v0.3/Compat/src/Compat.jl:37.\n",
      "Warning: Method definition Dict(Any,) in module Compat at /home/pablo1/.julia/v0.3/Compat/src/Compat.jl:49 overwritten in module Compat at /home/pablo1/.julia/v0.3/Compat/src/Compat.jl:49.\n",
      "Warning: Method definition round(Type{T<:Integer},Integer) in module Compat at /home/pablo1/.julia/v0.3/Compat/src/Compat.jl:65 overwritten in module Compat at /home/pablo1/.julia/v0.3/Compat/src/Compat.jl:65.\n",
      "Warning: Method definition round(Type{T<:Integer},Real) in module Compat at /home/pablo1/.julia/v0.3/Compat/src/Compat.jl:66 overwritten in module Compat at /home/pablo1/.julia/v0.3/Compat/src/Compat.jl:66.\n",
      "Warning: Method definition round(Type{T<:Integer},Rational{T<:Integer}) in module Compat at /home/pablo1/.julia/v0.3/Compat/src/Compat.jl:67 overwritten in module Compat at /home/pablo1/.julia/v0.3/Compat/src/Compat.jl:67.\n",
      "Warning: Method definition round(Type{T},AbstractArray{R,1}) in module Compat at /home/pablo1/.julia/v0.3/Compat/src/Compat.jl:69 overwritten in module Compat at /home/pablo1/.julia/v0.3/Compat/src/Compat.jl:69.\n",
      "Warning: Method definition round(Type{T},AbstractArray{R,2}) in module Compat at /home/pablo1/.julia/v0.3/Compat/src/Compat.jl:72 overwritten in module Compat at /home/pablo1/.julia/v0.3/Compat/src/Compat.jl:72.\n",
      "Warning: Method definition round(Type{T},AbstractArray{T,N}) in module Compat at /home/pablo1/.julia/v0.3/Compat/src/Compat.jl:75 overwritten in module Compat at /home/pablo1/.julia/v0.3/Compat/src/Compat.jl:75.\n",
      "Warning: Method definition ceil(Type{T<:Integer},Integer) in module Compat at /home/pablo1/.julia/v0.3/Compat/src/Compat.jl:65 overwritten in module Compat at /home/pablo1/.julia/v0.3/Compat/src/Compat.jl:65.\n",
      "Warning: Method definition ceil(Type{T<:Integer},Real) in module Compat at /home/pablo1/.julia/v0.3/Compat/src/Compat.jl:66 overwritten in module Compat at /home/pablo1/.julia/v0.3/Compat/src/Compat.jl:66.\n",
      "Warning: Method definition ceil(Type{T<:Integer},Rational{T<:Integer}) in module Compat at /home/pablo1/.julia/v0.3/Compat/src/Compat.jl:67 overwritten in module Compat at /home/pablo1/.julia/v0.3/Compat/src/Compat.jl:67.\n",
      "Warning: Method definition ceil(Type{T},AbstractArray{R,1}) in module Compat at /home/pablo1/.julia/v0.3/Compat/src/Compat.jl:69 overwritten in module Compat at /home/pablo1/.julia/v0.3/Compat/src/Compat.jl:69.\n",
      "Warning: Method definition ceil(Type{T},AbstractArray{R,2}) in module Compat at /home/pablo1/.julia/v0.3/Compat/src/Compat.jl:72 overwritten in module Compat at /home/pablo1/.julia/v0.3/Compat/src/Compat.jl:72.\n",
      "Warning: Method definition ceil(Type{T},AbstractArray{T,N}) in module Compat at /home/pablo1/.julia/v0.3/Compat/src/Compat.jl:75 overwritten in module Compat at /home/pablo1/.julia/v0.3/Compat/src/Compat.jl:75.\n",
      "Warning: Method definition floor(Type{T<:Integer},Integer) in module Compat at /home/pablo1/.julia/v0.3/Compat/src/Compat.jl:65 overwritten in module Compat at /home/pablo1/.julia/v0.3/Compat/src/Compat.jl:65.\n",
      "Warning: Method definition floor(Type{T<:Integer},Real) in module Compat at /home/pablo1/.julia/v0.3/Compat/src/Compat.jl:66 overwritten in module Compat at /home/pablo1/.julia/v0.3/Compat/src/Compat.jl:66.\n",
      "Warning: Method definition floor(Type{T<:Integer},Rational{T<:Integer}) in module Compat at /home/pablo1/.julia/v0.3/Compat/src/Compat.jl:67 overwritten in module Compat at /home/pablo1/.julia/v0.3/Compat/src/Compat.jl:67.\n",
      "Warning: Method definition floor(Type{T},AbstractArray{R,1}) in module Compat at /home/pablo1/.julia/v0.3/Compat/src/Compat.jl:69 overwritten in module Compat at /home/pablo1/.julia/v0.3/Compat/src/Compat.jl:69.\n",
      "Warning: Method definition floor(Type{T},AbstractArray{R,2}) in module Compat at /home/pablo1/.julia/v0.3/Compat/src/Compat.jl:72 overwritten in module Compat at /home/pablo1/.julia/v0.3/Compat/src/Compat.jl:72.\n",
      "Warning: Method definition floor(Type{T},AbstractArray{T,N}) in module Compat at /home/pablo1/.julia/v0.3/Compat/src/Compat.jl:75 overwritten in module Compat at /home/pablo1/.julia/v0.3/Compat/src/Compat.jl:75.\n",
      "Warning: Method definition trunc(Type{T<:Integer},Integer) in module Compat at /home/pablo1/.julia/v0.3/Compat/src/Compat.jl:65 overwritten in module Compat at /home/pablo1/.julia/v0.3/Compat/src/Compat.jl:65.\n",
      "Warning: Method definition trunc(Type{T<:Integer},Real) in module Compat at /home/pablo1/.julia/v0.3/Compat/src/Compat.jl:66 overwritten in module Compat at /home/pablo1/.julia/v0.3/Compat/src/Compat.jl:66.\n",
      "Warning: Method definition trunc(Type{T<:Integer},Rational{T<:Integer}) in module Compat at /home/pablo1/.julia/v0.3/Compat/src/Compat.jl:67 overwritten in module Compat at /home/pablo1/.julia/v0.3/Compat/src/Compat.jl:67.\n",
      "Warning: Method definition trunc(Type{T},AbstractArray{R,1}) in module Compat at /home/pablo1/.julia/v0.3/Compat/src/Compat.jl:69 overwritten in module Compat at /home/pablo1/.julia/v0.3/Compat/src/Compat.jl:69.\n",
      "Warning: Method definition trunc(Type{T},AbstractArray{R,2}) in module Compat at /home/pablo1/.julia/v0.3/Compat/src/Compat.jl:72 overwritten in module Compat at /home/pablo1/.julia/v0.3/Compat/src/Compat.jl:72.\n",
      "Warning: Method definition trunc(Type{T},AbstractArray{T,N}) in module Compat at /home/pablo1/.julia/v0.3/Compat/src/Compat.jl:75 overwritten in module Compat at /home/pablo1/.julia/v0.3/Compat/src/Compat.jl:75.\n",
      "Warning: Method definition rand(Type{Bool},) in module Compat at /home/pablo1/.julia/v0.3/Compat/src/Compat.jl:182 overwritten in module Compat at /home/pablo1/.julia/v0.3/Compat/src/Compat.jl:182.\n",
      "Warning: Method definition parse(Type{T<:Integer},Char) in module Compat at /home/pablo1/.julia/v0.3/Compat/src/Compat.jl:203 overwritten in module Compat at /home/pablo1/.julia/v0.3/Compat/src/Compat.jl:203.\n",
      "Warning: Method definition parse(Type{T<:Integer},Char,Integer) in module Compat at /home/pablo1/.julia/v0.3/Compat/src/Compat.jl:204 overwritten in module Compat at /home/pablo1/.julia/v0.3/Compat/src/Compat.jl:204.\n",
      "Warning: Method definition parse(Type{T<:Integer},String) in module Compat at /home/pablo1/.julia/v0.3/Compat/src/Compat.jl:205 overwritten in module Compat at /home/pablo1/.julia/v0.3/Compat/src/Compat.jl:205.\n",
      "Warning: Method definition parse(Type{T<:Integer},String,Integer) in module Compat at /home/pablo1/.julia/v0.3/Compat/src/Compat.jl:206 overwritten in module Compat at /home/pablo1/.julia/v0.3/Compat/src/Compat.jl:206.\n",
      "Warning: Method definition parse(Type{T<:Union(Float64,Float32)},String) in module Compat at /home/pablo1/.julia/v0.3/Compat/src/Compat.jl:207 overwritten in module Compat at /home/pablo1/.julia/v0.3/Compat/src/Compat.jl:207.\n",
      "INFO: Loading help data...\n",
      "Warning: New definition \n",
      "    ^(Derive,Real) at /home/pablo1/Documents/Tareas/TareasMetodosNumericosAvanzados/Derivatives.jl:127\n",
      "is ambiguous with: \n",
      "    ^(Any,Integer) at intfuncs.jl:86.\n",
      "To fix, define \n",
      "    ^(Derive,Integer)\n",
      "before the new definition.\n"
     ]
    }
   ],
   "source": [
    "workspace()\n",
    "using Intervals\n",
    "using FactCheck\n",
    "using PyPlot\n",
    "using Derivatives\n"
   ]
  },
  {
   "cell_type": "code",
   "execution_count": 13,
   "metadata": {
    "collapsed": false
   },
   "outputs": [
    {
     "name": "stderr",
     "output_type": "stream",
     "text": [
      "Warning: New definition \n",
      "    ^(Derive,Real) at /home/pablo1/Documents/Tareas/TareasMetodosNumericosAvanzados/Derivatives.jl:127\n",
      "is ambiguous with: \n",
      "    ^(Any,Integer) at intfuncs.jl:86.\n",
      "To fix, define \n",
      "    ^(Derive,Integer)\n",
      "before the new definition.\n"
     ]
    }
   ],
   "source": [
    "workspace()\n",
    "using Intervals\n",
    "using Derivatives"
   ]
  },
  {
   "cell_type": "code",
   "execution_count": 5,
   "metadata": {
    "collapsed": false
   },
   "outputs": [
    {
     "data": {
      "text/plain": [
       "Interval(3.749399456654644e-33,2.0)"
      ]
     },
     "execution_count": 5,
     "metadata": {},
     "output_type": "execute_result"
    }
   ],
   "source": [
    "A=Interval(0,pi)\n"
   ]
  },
  {
   "cell_type": "code",
   "execution_count": 26,
   "metadata": {
    "collapsed": false
   },
   "outputs": [
    {
     "data": {
      "text/plain": [
       "Derive(6.0,1.0)"
      ]
     },
     "execution_count": 26,
     "metadata": {},
     "output_type": "execute_result"
    }
   ],
   "source": [
    "x=Derive(6,1)"
   ]
  },
  {
   "cell_type": "code",
   "execution_count": 27,
   "metadata": {
    "collapsed": false
   },
   "outputs": [
    {
     "data": {
      "text/plain": [
       "Derive(54.0,9.0)"
      ]
     },
     "execution_count": 27,
     "metadata": {},
     "output_type": "execute_result"
    }
   ],
   "source": [
    "6x+3x"
   ]
  },
  {
   "cell_type": "code",
   "execution_count": 20,
   "metadata": {
    "collapsed": false
   },
   "outputs": [
    {
     "name": "stdout",
     "output_type": "stream",
     "text": [
      "Pruebas Básicas\n",
      "Solo se utilizó la parte no negativa del intervalo\n",
      "  Failure   :: (line:-1) :: got Derive(1.0,0.0)\n",
      "    Derive(1.0) => Derive(1.0,0.0)\n",
      "Out of 23 total facts:\n",
      "  Verified: 22\n",
      "  Failed:   1\n"
     ]
    },
    {
     "data": {
      "text/plain": [
       "delayed_handler (generic function with 4 methods)"
      ]
     },
     "execution_count": 20,
     "metadata": {},
     "output_type": "execute_result"
    }
   ],
   "source": [
    "facts(\"Pruebas Básicas\") do\n",
    "    A = Interval(1,2)\n",
    "    B = Interval(3,4)\n",
    "    C = Interval(4.0,6.0)\n",
    "    D = Interval(-1,1)\n",
    "    E = Interval(-2,-1)\n",
    "    \n",
    "    @fact A + B => C\n",
    "    @fact A - B => Interval(-3.0,-1.0)\n",
    "    @fact A*B => Interval(3,8)\n",
    "    @fact A/B => Interval(.25,0.6666666666666667)\n",
    "    @fact midpoint(C) => 5\n",
    "    @fact contains(B, 1.0) => false\n",
    "    @fact contains(B, midpoint(B)) => true\n",
    "    @fact D^2 => Interval(0,1)\n",
    "    @fact D^3 => Interval(-1,1)\n",
    "    @fact A+2.0 => Interval(3,4)\n",
    "    @fact 2.0B => Interval(6,8)\n",
    "    @fact contains(Interval(0.1,.1),0.1) => true\n",
    "    @fact Interval(2,1) => Interval(1,2)\n",
    "    @fact -1.0A => Interval(-2,-1)\n",
    "    @fact exp(A) => Interval(exp(A.a),exp(A.b))\n",
    "    @fact log(A) => Interval(log(A.a),log(A.b))\n",
    "    @fact log(exp(B)) => B\n",
    "    @fact exp(log(C)) => C\n",
    "    @fact D^2.3 => Interval(0,1)\n",
    "    @fact_throws E^1.3\n",
    "    @fact contains(cos(A),cos(A.a)) => true\n",
    "    @fact contains(cos(A),cos(A.b)) => true\n",
    "    \n",
    "    \n",
    "end\n"
   ]
  },
  {
   "cell_type": "markdown",
   "metadata": {},
   "source": [
    "[1] Amplía tu módulo de intervalos para que incluya la extensión de las funciones estándres monótonas a intervalos. En el caso de las potencias, extiénde lo que ya hayas hecho para que incluya potencias reales. Incluye algunas pruebas en `pruebas.jl` que muestren que lo que has hecho funciona *bien*."
   ]
  },
  {
   "cell_type": "markdown",
   "metadata": {},
   "source": [
    "[2] ¿Cómo definirías la extensión a intervalos para funciones no monótonas? Repite [1] para este caso."
   ]
  },
  {
   "cell_type": "markdown",
   "metadata": {},
   "source": [
    "Para las funciones periódicas hay que tratar con puntos críticos. Por ejemplo, en el caso de coseno, si el intervalo que se utiliza como dominio contiene un número de la forma $n\\pi$, sabemos que el intervalo que obtenemos necesariamente tiene como extremo superior el valor 1 o -1 como extremo inferior dependiendo de la paridad de $n$. Basta fuera de eso con evaluar los extremos en caso de no encontrar un punto crítico. "
   ]
  },
  {
   "cell_type": "markdown",
   "metadata": {},
   "source": [
    "[3] La extensión natural del intervalo para $f(x)=x/(1+x^2)$ es $F(\\mathbf{x})=\\mathbf{x}/(1+\\mathbf{x}^2)$. ¿Cuál es la extensión natural del intervalo para $\\mathbf{x}=[1,2]$? ¿Cómo se compara con el rango $R(f; [1,2])$. Ilustra los resultados con una gráfica."
   ]
  },
  {
   "cell_type": "code",
   "execution_count": 36,
   "metadata": {
    "collapsed": false
   },
   "outputs": [
    {
     "data": {
      "text/plain": [
       "Interval(0.19999999999999998,1.0)"
      ]
     },
     "execution_count": 36,
     "metadata": {},
     "output_type": "execute_result"
    }
   ],
   "source": [
    "function f(x::Interval)\n",
    "    \n",
    "    return(x/(x^2+1.0))\n",
    "end\n",
    "    \n",
    "f(Interval(1,2))"
   ]
  },
  {
   "cell_type": "code",
   "execution_count": 60,
   "metadata": {
    "collapsed": false
   },
   "outputs": [
    {
     "data": {
      "image/png": "[encoded data removed]",
      "text/plain": [
       "Figure(PyObject <matplotlib.figure.Figure object at 0x7fa0247f0e90>)"
      ]
     },
     "metadata": {},
     "output_type": "display_data"
    },
    {
     "data": {
      "text/plain": [
       "3-element Array{Any,1}:\n",
       " PyObject <matplotlib.lines.Line2D object at 0x7fa02e3ae0d0>\n",
       " PyObject <matplotlib.lines.Line2D object at 0x7fa02e347410>\n",
       " PyObject <matplotlib.lines.Line2D object at 0x7fa02e350310>"
      ]
     },
     "execution_count": 60,
     "metadata": {},
     "output_type": "execute_result"
    }
   ],
   "source": [
    "x1 = [1:+.05:2]\n",
    "y1 = [x/(1+x^2) for x in x1]\n",
    "ysup = [1 for x in x1]\n",
    "ysub = [.2 for x in x1]\n",
    "\n",
    "plot(x1,y1,x1,ysup,x1,ysub)"
   ]
  },
  {
   "cell_type": "markdown",
   "metadata": {},
   "source": [
    "Claramente, el intervalo obtenido mediante la extensión natural contiene el rango de la función. Sin embargo, es claramente más amplio que el rango de la función. Existen muchos valores en nuestro intervalo que no se encuentran en el rango."
   ]
  },
  {
   "cell_type": "markdown",
   "metadata": {},
   "source": [
    "El **Teorema Fundamental del Análisis de Intervalos** afirma que dada una función *elemental* $f(x)$ y una extensión natural a intervalos $F$, tal que $F(\\mathbf{x})$ está bien definida para algún intervalo $\\mathbf{x}$, entonces:\n",
    "\n",
    "1. Si $\\mathbf{z} \\subseteq \\mathbf{z'} \\subseteq \\mathbf{x} \\Longrightarrow F(\\mathbf{z}) \\subseteq F(\\mathbf{z'}),\\quad$ \"inclusión isotónica\" (*inclusion isotonicity*)\n",
    "\n",
    "2. $R(f;\\mathbf{x}) \\subseteq F(\\mathbf{x}),\\quad$ \"acotamiento del rango\" (*range enclosure*)\n"
   ]
  },
  {
   "cell_type": "markdown",
   "metadata": {},
   "source": [
    "La segunda propiedad afirma que la extensión natural $F(\\mathbf{x})$ contiene al rango, lo que entonces acota el rango de $f(x)$ con $F(\\mathbf{x})$. \n",
    "\n",
    "De aquí, dado que si $y\\notin F(\\mathbf{x}) \\Longrightarrow y\\notin R(f;\\mathbf{x})$, entonces podemos usar este resultado cuando se buscan las raíces de alguna función $f(x)$ en un intervalo: Si $ 0 \\notin F(\\mathbf{x})$ entonces $f(x)$ **no** tiene raíces en $\\mathbf{x}$."
   ]
  },
  {
   "cell_type": "markdown",
   "metadata": {},
   "source": [
    "[4] Demuestra que $f(x) = (\\sin(x)-x^2+1)\\cos(x)$ no tiene raíces en $\\mathbf{x}=[0,1/2]$. Ilustra que el argumento es correcto gráficamente."
   ]
  },
  {
   "cell_type": "code",
   "execution_count": 63,
   "metadata": {
    "collapsed": false
   },
   "outputs": [
    {
     "data": {
      "text/plain": [
       "false"
      ]
     },
     "execution_count": 63,
     "metadata": {},
     "output_type": "execute_result"
    }
   ],
   "source": [
    "s = Interval(0,.5)\n",
    "\n",
    "contains((sin(s)-s^2+1.0)*cos(s),0)\n",
    "\n",
    "#Contains revisa si el intervalo proporcionado como primer argumento contiene el flotante proporcionado como segundo\n",
    "#argumento. Como el cero no está en el intervalo no puede estar en el rango de la función f"
   ]
  },
  {
   "cell_type": "code",
   "execution_count": 6,
   "metadata": {
    "collapsed": false
   },
   "outputs": [
    {
     "data": {
      "image/png": "[encoded data removed]",
      "text/plain": [
       "Figure(PyObject <matplotlib.figure.Figure object at 0x7f869c060050>)"
      ]
     },
     "metadata": {},
     "output_type": "display_data"
    },
    {
     "data": {
      "text/plain": [
       "1-element Array{Any,1}:\n",
       " PyObject <matplotlib.lines.Line2D object at 0x7f86ad093950>"
      ]
     },
     "execution_count": 6,
     "metadata": {},
     "output_type": "execute_result"
    }
   ],
   "source": [
    " x3 = [0:.025:.5]\n",
    "y3 = [(sin(x)-x^2+1.0)*cos(x) for x in x3]\n",
    "\n",
    "plot(x3,y3)"
   ]
  },
  {
   "cell_type": "markdown",
   "metadata": {
    "collapsed": true
   },
   "source": [
    "## Rutina para encontrar raíces de una función"
   ]
  },
  {
   "cell_type": "markdown",
   "metadata": {},
   "source": [
    "Ya hemos llegado al punto de poder resolver el siguiente problema:\n",
    "\n",
    "> Dada una función $f(x)$ y un intervalo $X$, encuentra las raíces de $f$ dentro de $X$."
   ]
  },
  {
   "cell_type": "markdown",
   "metadata": {},
   "source": [
    "[5] Escribe un código quer utiliza la propiedad de los ceros para encontrar los intervalos donde *podría haber* un cero."
   ]
  },
  {
   "cell_type": "code",
   "execution_count": 26,
   "metadata": {
    "collapsed": false
   },
   "outputs": [
    {
     "name": "stdout",
     "output_type": "stream",
     "text": [
      "Solo se utilizó la parte no negativa del intervalo\n"
     ]
    },
    {
     "ename": "LoadError",
     "evalue": "Intervalo completamente negativo, al menos parte del intervalo debe ser no negativo\nwhile loading In[26], in expression starting on line 75",
     "output_type": "error",
     "traceback": [
      "Intervalo completamente negativo, al menos parte del intervalo debe ser no negativo\nwhile loading In[26], in expression starting on line 75",
      "",
      " in ^ at /home/pablo1/Documents/Tareas/TareasMetodosNumericosAvanzados/Intervals.jl:167",
      " in RemoveUnwanted at In[26]:18"
     ]
    }
   ],
   "source": [
    "#La funcion cuyas raices se desean calcular\n",
    "\n",
    "function F(x)\n",
    "    \n",
    "    return(sin(x)*(x^-1.0))\n",
    "    \n",
    "end\n",
    "\n",
    "\n",
    "#Toma un arreglo de intervalos y quita todos los intervalos que no contienen val\n",
    "    \n",
    "\n",
    "function RemoveUnwanted(x,val::Float64) \n",
    "    temp = Interval[]\n",
    "    \n",
    "    for i=1:length(x)\n",
    "        \n",
    "        if (contains(F(x[i]),val) == true)\n",
    "            push!(temp,x[i])\n",
    "        end\n",
    "    end\n",
    "    \n",
    "    temp\n",
    "end\n",
    "\n",
    "#Toma un intervalo y regresa un array que contiene los dos intervalos obtenidos de dividir el intervalo de entrada\n",
    "\n",
    "function BisectInterval(x::Interval)\n",
    "    \n",
    "    return([Interval(x.a,midpoint(x)),Interval(midpoint(x),x.b)])\n",
    "    \n",
    "end\n",
    "\n",
    "#Toma un arreglo de intervalos y regresa aplica la función anterior a cada uno\n",
    "\n",
    "function SplitIntervals(x)\n",
    "    \n",
    "    temp = Interval[]\n",
    "    \n",
    "    for i=1:length(x)\n",
    "        append!(temp,BisectInterval(x[i]))\n",
    "    end\n",
    "    \n",
    "    temp\n",
    "    \n",
    "end\n",
    "\n",
    "\n",
    "function IntervalRootFinder(x::Interval)\n",
    "    \n",
    "    ab=Interval[]\n",
    "\n",
    "    push!(ab,x)\n",
    "    \n",
    "    if contains(ab[1],0)==false\n",
    "        return(\"El intervalo proporcionado no contiene raíces\")\n",
    "    end\n",
    "    \n",
    "    for i = 1:25\n",
    "        \n",
    "        ab=SplitIntervals(ab)\n",
    "        ab=RemoveUnwanted(ab,0.0)\n",
    "    end\n",
    "    \n",
    "    for i = 1:length(ab)\n",
    "        \n",
    "        if contains(d(ab[i]),0) == false\n",
    "            println(ab[i])\n",
    "        end\n",
    "    end  \n",
    "end\n",
    "\n",
    "test = [Interval(-1,1),Interval(-1,-2),Interval(pi,12),Interval(11,12)]\n",
    "\n",
    "RemoveUnwanted(test,0.0)"
   ]
  },
  {
   "cell_type": "code",
   "execution_count": 66,
   "metadata": {
    "collapsed": false
   },
   "outputs": [
    {
     "data": {
      "text/plain": [
       "2-element Array{Interval,1}:\n",
       " Interval(-1.0,0.0)\n",
       " Interval(0.0,1.0) "
      ]
     },
     "execution_count": 66,
     "metadata": {},
     "output_type": "execute_result"
    }
   ],
   "source": [
    "\n",
    "\n",
    "BisectInterval(Interval(-1,1))"
   ]
  },
  {
   "cell_type": "code",
   "execution_count": 69,
   "metadata": {
    "collapsed": false
   },
   "outputs": [
    {
     "data": {
      "text/plain": [
       "7-element Array{Interval,1}:\n",
       " Interval(-1.0,1.0) \n",
       " Interval(-2.0,-1.0)\n",
       " Interval(1.0,12.0) \n",
       " Interval(-1.0,11.0)\n",
       " Interval(0.0,0.0)  \n",
       " Interval(0.0,0.0)  \n",
       " Interval(1.0,1.0)  "
      ]
     },
     "execution_count": 69,
     "metadata": {},
     "output_type": "execute_result"
    }
   ],
   "source": [
    "append!(test,[Interval(0,0),Interval(1,1)])"
   ]
  },
  {
   "cell_type": "markdown",
   "metadata": {},
   "source": [
    "[6] Extiende tu código para utilizar la derivada $f'$, dada a mano, para demostrar (cuando se puede) que el cero es *único* en el intervalo."
   ]
  },
  {
   "cell_type": "markdown",
   "metadata": {},
   "source": [
    "Lo importante es revisar que la derivada no se haga ceron dentro de nuestros intervalos respuesta. Esto se hace arriba. Solo reviso al final, ya que hay que esperar hasta que los intervalos sean pequeños antes de revisar para no atrapar falsos positivos.\n"
   ]
  },
  {
   "cell_type": "code",
   "execution_count": 39,
   "metadata": {
    "collapsed": false
   },
   "outputs": [
    {
     "data": {
      "text/plain": [
       "3//2"
      ]
     },
     "execution_count": 39,
     "metadata": {},
     "output_type": "execute_result"
    }
   ],
   "source": [
    "3//2"
   ]
  },
  {
   "cell_type": "markdown",
   "metadata": {},
   "source": [
    "[7] Utiliza la *diferenciación automática* del notebook 6 para que no tengas que especificar la derivada a mano."
   ]
  },
  {
   "cell_type": "code",
   "execution_count": 27,
   "metadata": {
    "collapsed": false
   },
   "outputs": [
    {
     "name": "stdout",
     "output_type": "stream",
     "text": [
      "Solo se utilizó la parte no negativa del intervalo\n",
      "Posible raíz en el intervalo [3.1415926534682512,3.1415926536137704]\n",
      "En x = 3.141592653541011 la función vale aproximadamente 1.5527911520322325e-11 \n",
      "\n"
     ]
    }
   ],
   "source": [
    "function IntervalRootFinder(x::Interval)\n",
    "    \n",
    "    ab=Interval[]\n",
    "\n",
    "    push!(ab,x)\n",
    "    \n",
    "    if contains(ab[1],0)==false\n",
    "        return(\"El intervalo proporcionado no contiene raíces\")\n",
    "    end\n",
    "    \n",
    "    for i = 1:35\n",
    "        \n",
    "        ab=SplitIntervals(ab)\n",
    "        ab=RemoveUnwanted(ab,0.0)\n",
    "    end\n",
    "    \n",
    "    for i = 1:length(ab)\n",
    "        \n",
    "        x=Derive(midpoint(ab[i]),1)\n",
    "        \n",
    "        if F(x) != 0.0\n",
    "            println(\"Posible raíz en el intervalo [$(ab[i].a),$(ab[i].b)]\")\n",
    "            println(\"En x = $(midpoint(ab[i])) la función vale aproximadamente $(midpoint(F(ab[i]))) \")\n",
    "            println()\n",
    "        end\n",
    "    end  \n",
    "end\n",
    "\n",
    "IntervalRootFinder(Interval(-1,4))"
   ]
  },
  {
   "cell_type": "code",
   "execution_count": null,
   "metadata": {
    "collapsed": true
   },
   "outputs": [],
   "source": []
  }
 ],
 "metadata": {
  "kernelspec": {
   "display_name": "Julia 0.3.7",
   "language": "julia",
   "name": "julia 0.3"
  },
  "language_info": {
   "name": "julia",
   "version": "0.3.7"
  }
 },
 "nbformat": 4,
 "nbformat_minor": 0
}
