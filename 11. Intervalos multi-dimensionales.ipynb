{
 "cells": [
  {
   "cell_type": "markdown",
   "metadata": {},
   "source": [
    "# Intervalos multi-dimensionales "
   ]
  },
  {
   "cell_type": "markdown",
   "metadata": {},
   "source": [
    "Para resolver problemas en más que una dimensión, será necesario poder calcular un *enclosure* (\"encierro\") de la imagen de una función sobre un conjunto en varias dimensiones.\n",
    "Para ello, podemos definir **intervalos multi-dimensionales**, de manera análoga a los intervalos uni-dimensionales que ya conocemos."
   ]
  },
  {
   "cell_type": "code",
   "execution_count": 2,
   "metadata": {
    "collapsed": false
   },
   "outputs": [
    {
     "name": "stderr",
     "output_type": "stream",
     "text": [
      "Warning: Method definition IPv4(String,) in module Compat at /home/estudiante/.julia/v0.3/Compat/src/Compat.jl:36 overwritten in module Compat at /home/estudiante/.julia/v0.3/Compat/src/Compat.jl:36.\n",
      "Warning: Method definition IPv6(String,) in module Compat at /home/estudiante/.julia/v0.3/Compat/src/Compat.jl:37 overwritten in module Compat at /home/estudiante/.julia/v0.3/Compat/src/Compat.jl:37.\n",
      "Warning: Method definition isless(T<:IpAddr,T<:IpAddr) in module Compat at /home/estudiante/.julia/v0.3/Compat/src/Compat.jl:42 overwritten in module Compat at /home/estudiante/.julia/v0.3/Compat/src/Compat.jl:42.\n",
      "Warning: Method definition Dict(Any,) in module Compat at /home/estudiante/.julia/v0.3/Compat/src/Compat.jl:54 overwritten in module Compat at /home/estudiante/.julia/v0.3/Compat/src/Compat.jl:54.\n",
      "Warning: Method definition round(Type{T<:Integer},Integer) in module Compat at /home/estudiante/.julia/v0.3/Compat/src/Compat.jl:70 overwritten in module Compat at /home/estudiante/.julia/v0.3/Compat/src/Compat.jl:70.\n",
      "Warning: Method definition round(Type{T<:Integer},Real) in module Compat at /home/estudiante/.julia/v0.3/Compat/src/Compat.jl:71 overwritten in module Compat at /home/estudiante/.julia/v0.3/Compat/src/Compat.jl:71.\n",
      "Warning: Method definition round(Type{T<:Integer},Rational{T<:Integer}) in module Compat at /home/estudiante/.julia/v0.3/Compat/src/Compat.jl:72 overwritten in module Compat at /home/estudiante/.julia/v0.3/Compat/src/Compat.jl:72.\n",
      "Warning: Method definition round(Type{T},AbstractArray{R,1}) in module Compat at /home/estudiante/.julia/v0.3/Compat/src/Compat.jl:74 overwritten in module Compat at /home/estudiante/.julia/v0.3/Compat/src/Compat.jl:74.\n",
      "Warning: Method definition round(Type{T},AbstractArray{R,2}) in module Compat at /home/estudiante/.julia/v0.3/Compat/src/Compat.jl:77 overwritten in module Compat at /home/estudiante/.julia/v0.3/Compat/src/Compat.jl:77.\n",
      "Warning: Method definition round(Type{T},AbstractArray{T,N}) in module Compat at /home/estudiante/.julia/v0.3/Compat/src/Compat.jl:80 overwritten in module Compat at /home/estudiante/.julia/v0.3/Compat/src/Compat.jl:80.\n",
      "Warning: Method definition ceil(Type{T<:Integer},Integer) in module Compat at /home/estudiante/.julia/v0.3/Compat/src/Compat.jl:70 overwritten in module Compat at /home/estudiante/.julia/v0.3/Compat/src/Compat.jl:70.\n",
      "Warning: Method definition ceil(Type{T<:Integer},Real) in module Compat at /home/estudiante/.julia/v0.3/Compat/src/Compat.jl:71 overwritten in module Compat at /home/estudiante/.julia/v0.3/Compat/src/Compat.jl:71.\n",
      "Warning: Method definition ceil(Type{T<:Integer},Rational{T<:Integer}) in module Compat at /home/estudiante/.julia/v0.3/Compat/src/Compat.jl:72 overwritten in module Compat at /home/estudiante/.julia/v0.3/Compat/src/Compat.jl:72.\n",
      "Warning: Method definition ceil(Type{T},AbstractArray{R,1}) in module Compat at /home/estudiante/.julia/v0.3/Compat/src/Compat.jl:74 overwritten in module Compat at /home/estudiante/.julia/v0.3/Compat/src/Compat.jl:74.\n",
      "Warning: Method definition ceil(Type{T},AbstractArray{R,2}) in module Compat at /home/estudiante/.julia/v0.3/Compat/src/Compat.jl:77 overwritten in module Compat at /home/estudiante/.julia/v0.3/Compat/src/Compat.jl:77.\n",
      "Warning: Method definition ceil(Type{T},AbstractArray{T,N}) in module Compat at /home/estudiante/.julia/v0.3/Compat/src/Compat.jl:80 overwritten in module Compat at /home/estudiante/.julia/v0.3/Compat/src/Compat.jl:80.\n",
      "Warning: Method definition floor(Type{T<:Integer},Integer) in module Compat at /home/estudiante/.julia/v0.3/Compat/src/Compat.jl:70 overwritten in module Compat at /home/estudiante/.julia/v0.3/Compat/src/Compat.jl:70.\n",
      "Warning: Method definition floor(Type{T<:Integer},Real) in module Compat at /home/estudiante/.julia/v0.3/Compat/src/Compat.jl:71 overwritten in module Compat at /home/estudiante/.julia/v0.3/Compat/src/Compat.jl:71.\n",
      "Warning: Method definition floor(Type{T<:Integer},Rational{T<:Integer}) in module Compat at /home/estudiante/.julia/v0.3/Compat/src/Compat.jl:72 overwritten in module Compat at /home/estudiante/.julia/v0.3/Compat/src/Compat.jl:72.\n",
      "Warning: Method definition floor(Type{T},AbstractArray{R,1}) in module Compat at /home/estudiante/.julia/v0.3/Compat/src/Compat.jl:74 overwritten in module Compat at /home/estudiante/.julia/v0.3/Compat/src/Compat.jl:74.\n",
      "Warning: Method definition floor(Type{T},AbstractArray{R,2}) in module Compat at /home/estudiante/.julia/v0.3/Compat/src/Compat.jl:77 overwritten in module Compat at /home/estudiante/.julia/v0.3/Compat/src/Compat.jl:77.\n",
      "Warning: Method definition floor(Type{T},AbstractArray{T,N}) in module Compat at /home/estudiante/.julia/v0.3/Compat/src/Compat.jl:80 overwritten in module Compat at /home/estudiante/.julia/v0.3/Compat/src/Compat.jl:80.\n",
      "Warning: Method definition trunc(Type{T<:Integer},Integer) in module Compat at /home/estudiante/.julia/v0.3/Compat/src/Compat.jl:70 overwritten in module Compat at /home/estudiante/.julia/v0.3/Compat/src/Compat.jl:70.\n",
      "Warning: Method definition trunc(Type{T<:Integer},Real) in module Compat at /home/estudiante/.julia/v0.3/Compat/src/Compat.jl:71 overwritten in module Compat at /home/estudiante/.julia/v0.3/Compat/src/Compat.jl:71.\n",
      "Warning: Method definition trunc(Type{T<:Integer},Rational{T<:Integer}) in module Compat at /home/estudiante/.julia/v0.3/Compat/src/Compat.jl:72 overwritten in module Compat at /home/estudiante/.julia/v0.3/Compat/src/Compat.jl:72.\n",
      "Warning: Method definition trunc(Type{T},AbstractArray{R,1}) in module Compat at /home/estudiante/.julia/v0.3/Compat/src/Compat.jl:74 overwritten in module Compat at /home/estudiante/.julia/v0.3/Compat/src/Compat.jl:74.\n",
      "Warning: Method definition trunc(Type{T},AbstractArray{R,2}) in module Compat at /home/estudiante/.julia/v0.3/Compat/src/Compat.jl:77 overwritten in module Compat at /home/estudiante/.julia/v0.3/Compat/src/Compat.jl:77.\n",
      "Warning: Method definition trunc(Type{T},AbstractArray{T,N}) in module Compat at /home/estudiante/.julia/v0.3/Compat/src/Compat.jl:80 overwritten in module Compat at /home/estudiante/.julia/v0.3/Compat/src/Compat.jl:80.\n",
      "Warning: Method definition rand(Type{Bool},) in module Compat at /home/estudiante/.julia/v0.3/Compat/src/Compat.jl:187 overwritten in module Compat at /home/estudiante/.julia/v0.3/Compat/src/Compat.jl:187.\n",
      "Warning: Method definition parse(Type{T<:Integer},Char) in module Compat at /home/estudiante/.julia/v0.3/Compat/src/Compat.jl:208 overwritten in module Compat at /home/estudiante/.julia/v0.3/Compat/src/Compat.jl:208.\n",
      "Warning: Method definition parse(Type{T<:Integer},Char,Integer) in module Compat at /home/estudiante/.julia/v0.3/Compat/src/Compat.jl:209 overwritten in module Compat at /home/estudiante/.julia/v0.3/Compat/src/Compat.jl:209.\n",
      "Warning: Method definition parse(Type{T<:Integer},String) in module Compat at /home/estudiante/.julia/v0.3/Compat/src/Compat.jl:210 overwritten in module Compat at /home/estudiante/.julia/v0.3/Compat/src/Compat.jl:210.\n",
      "Warning: Method definition parse(Type{T<:Integer},String,Integer) in module Compat at /home/estudiante/.julia/v0.3/Compat/src/Compat.jl:211 overwritten in module Compat at /home/estudiante/.julia/v0.3/Compat/src/Compat.jl:211.\n",
      "Warning: Method definition parse(Type{T<:Union(Float32,Float64)},String) in module Compat at /home/estudiante/.julia/v0.3/Compat/src/Compat.jl:212 overwritten in module Compat at /home/estudiante/.julia/v0.3/Compat/src/Compat.jl:212.\n"
     ]
    },
    {
     "name": "stdout",
     "output_type": "stream",
     "text": [
      "Prueba básicas de Intervalos:\n",
      "Solo se utilizó la parte no negativa del intervalo\n",
      "26 facts verified.\n"
     ]
    }
   ],
   "source": [
    "workspace()\n",
    "using Intervals\n",
    "using IntervalsTest"
   ]
  },
  {
   "cell_type": "markdown",
   "metadata": {},
   "source": [
    "[1] ¿Cuál sería una definición matemática razonable de un intervalo multi-dimensional?"
   ]
  },
  {
   "cell_type": "markdown",
   "metadata": {},
   "source": [
    "La idea es generalizar el concepto usual de intervalo a varias dimensiones:\n",
    "\n",
    "$\\rightarrow\\qquad[\\overline{a},\\overline{b}] := \\{\\overline{x} \\in \\mathbb{R}^n : \\overline{a} \\le \\overline{x} \\le \\overline{b} \\}$\n",
    "\n",
    "Sin embargo en más de una definición no es trivial definir las desigualdades. Una forma de generalizar el concepto es cajas de $n$ dimensiones. En este concepto, cada componente de $\\overline{x}$ debe de cumplir con ambas desigualdades respecto a las componentes correspondientes de $\\overline{a},\\overline{b}$:\n",
    "\n",
    "$\\rightarrow\\qquad[\\overline{a},\\overline{b}] := \\{\\overline{x} \\in \\mathbb{R}^n : a_i \\le x_i \\le b_i \\quad \\forall \\quad i \\in {1,2,...,n} \\}$\n",
    "\n",
    "Otra opción, la cual no necesariamente es tan análoga a la unidimensional, sería definir un punto en el espacio de n dimensiones como el centro de una bola y luego proporcionar un radio."
   ]
  },
  {
   "cell_type": "markdown",
   "metadata": {},
   "source": [
    "[2] ¿Cómo podríamos expresar esto en Julia? Da dos posibilidades.\n",
    "\n",
    "[Pista: Checa `typealias`]"
   ]
  },
  {
   "cell_type": "code",
   "execution_count": 3,
   "metadata": {
    "collapsed": false
   },
   "outputs": [
    {
     "data": {
      "text/plain": [
       "2-element Array{Interval,1}:\n",
       " Interval(1.0,2.0)\n",
       " Interval(2.0,3.0)"
      ]
     },
     "execution_count": 3,
     "metadata": {},
     "output_type": "execute_result"
    }
   ],
   "source": [
    "type MultiDimInterval\n",
    "    \n",
    "    N::Int\n",
    "    I::Vector{Interval}\n",
    "    \n",
    "end\n",
    "\n",
    "function MakeMultiDimInterval(N,L)\n",
    "\n",
    "    I=Interval[]\n",
    "    \n",
    "    for i=1:N\n",
    "        push!(I,Interval(-L,L))\n",
    "    end\n",
    "    \n",
    "    return(MultiDimInterval(N,I))\n",
    "\n",
    "end\n",
    "\n",
    "function +(A::MultiDimInterval, B::MultiDimInterval)\n",
    "    \n",
    "    if A.N != B.N\n",
    "        error(\"Las dimensiones de los intervalos no son iguales\")\n",
    "    end\n",
    "    \n",
    "    temp = Interval[]\n",
    "    \n",
    "    for i = 1:A.N\n",
    "        push!(temp,A.I[i]+B.I[i])\n",
    "    end\n",
    "    \n",
    "    return(MultiDimInterval(A.N,temp))\n",
    "end\n",
    "\n",
    "function +(A::Real, B::MultiDimInterval)\n",
    "\n",
    "    \n",
    "    temp = Interval[]\n",
    "    \n",
    "    for i = 1:B.N\n",
    "        push!(temp,A+B.I[i])\n",
    "    end\n",
    "    \n",
    "    return(MultiDimInterval(B.N,temp))\n",
    "end\n",
    "\n",
    "function +(A::MultiDimInterval, B::Real)\n",
    "    \n",
    "    temp = Interval[]\n",
    "    \n",
    "    for i = 1:A.N\n",
    "        push!(temp,A.I[i]+B)\n",
    "    end\n",
    "    \n",
    "    return(MultiDimInterval(A.N,temp))\n",
    "end\n",
    "\n",
    "function -(A::MultiDimInterval, B::MultiDimInterval)\n",
    "    \n",
    "    if A.N != B.N\n",
    "        error(\"Las dimensiones de los intervalos no son iguales\")\n",
    "    end\n",
    "    \n",
    "    temp = Interval[]\n",
    "    \n",
    "    for i = 1:A.N\n",
    "        push!(temp,A.I[i]-B.I[i])\n",
    "    end\n",
    "    \n",
    "    return(MultiDimInterval(A.N,temp))\n",
    "end\n",
    "\n",
    "function -(A::Real, B::MultiDimInterval)\n",
    "\n",
    "    \n",
    "    temp = Interval[]\n",
    "    \n",
    "    for i = 1:B.N\n",
    "        push!(temp,A-B.I[i])\n",
    "    end\n",
    "    \n",
    "    return(MultiDimInterval(B.N,temp))\n",
    "end\n",
    "\n",
    "function -(A::MultiDimInterval, B::Real)\n",
    "    \n",
    "    temp = Interval[]\n",
    "    \n",
    "    for i = 1:A.N\n",
    "        push!(temp,A.I[i]-B)\n",
    "    end\n",
    "    \n",
    "    return(MultiDimInterval(A.N,temp))\n",
    "end\n",
    "\n",
    "function *(A::Real, B::MultiDimInterval)\n",
    "    \n",
    "    temp = Interval[]\n",
    "    \n",
    "    for i = 1:B.N\n",
    "        push!(temp,A*B.I[i])\n",
    "    end\n",
    "    \n",
    "    return(MultiDimInterval(B.N,temp))\n",
    "end\n",
    "\n",
    "function *(B::MultiDimInterval,A::Real)\n",
    "    \n",
    "    temp = Interval[]\n",
    "    \n",
    "    for i = 1:B.N\n",
    "        push!(temp,A*B.I[i])\n",
    "    end\n",
    "    \n",
    "    return(MultiDimInterval(B.N,temp))\n",
    "end\n",
    "\n",
    "\n",
    "    \n",
    "A=MakeMultiDimInterval(2,2) \n",
    "B=MakeMultiDimInterval(2,1) \n",
    "\n",
    "M=[1. 0; 0 1]\n",
    "C=[Interval(1,2),Interval(2,3)]"
   ]
  },
  {
   "cell_type": "code",
   "execution_count": 6,
   "metadata": {
    "collapsed": false
   },
   "outputs": [
    {
     "data": {
      "text/plain": [
       "zero (generic function with 13 methods)"
      ]
     },
     "execution_count": 6,
     "metadata": {},
     "output_type": "execute_result"
    }
   ],
   "source": [
    "Base.promote_type{T<:Number}(::Type{T}, ::Type{Interval}) = Interval\n",
    "#Base.promote_type(::Type{Interval}, ::Type{Number}) = Interval\n",
    "#Base.promote(x::Number, y::Interval) = Interval(x, x\n",
    "\n",
    "Base.convert(::Type{Interval}, x::Real) = Interval(x, x)\n",
    "Base.convert(::Type{Interval}, x::Interval) = x\n",
    "\n",
    "Base.zero(::Type{Interval}) = Interval(0,0)"
   ]
  },
  {
   "cell_type": "code",
   "execution_count": 7,
   "metadata": {
    "collapsed": false
   },
   "outputs": [
    {
     "data": {
      "text/plain": [
       "2-element Array{Interval,1}:\n",
       " Interval(1.0,2.0)\n",
       " Interval(2.0,3.0)"
      ]
     },
     "execution_count": 7,
     "metadata": {},
     "output_type": "execute_result"
    }
   ],
   "source": [
    "M*C"
   ]
  },
  {
   "cell_type": "code",
   "execution_count": 19,
   "metadata": {
    "collapsed": false
   },
   "outputs": [
    {
     "data": {
      "text/plain": [
       "Interval (constructor with 1 method)"
      ]
     },
     "execution_count": 19,
     "metadata": {},
     "output_type": "execute_result"
    }
   ],
   "source": [
    "promote_type(Int, Interval)"
   ]
  },
  {
   "cell_type": "code",
   "execution_count": 8,
   "metadata": {
    "collapsed": false
   },
   "outputs": [
    {
     "data": {
      "text/plain": [
       "(Interval(1.0,1.0),Interval(1.0,2.0))"
      ]
     },
     "execution_count": 8,
     "metadata": {},
     "output_type": "execute_result"
    }
   ],
   "source": [
    "promote(1, Interval(1,2))"
   ]
  },
  {
   "cell_type": "code",
   "execution_count": 22,
   "metadata": {
    "collapsed": false
   },
   "outputs": [
    {
     "data": {
      "text/plain": [
       "Interval(1.0,2.0)"
      ]
     },
     "execution_count": 22,
     "metadata": {},
     "output_type": "execute_result"
    }
   ],
   "source": [
    "convert(Interval, Interval(1,2))"
   ]
  },
  {
   "cell_type": "code",
   "execution_count": 16,
   "metadata": {
    "collapsed": false
   },
   "outputs": [
    {
     "data": {
      "text/html": [
       "promote<i>{T,S}</i>(x::<b>T</b>,y::<b>S</b>) at <a href=\"https://github.com/JuliaLang/julia/tree/a05f87b79ad62beb033817fdfdefa270c9557aaf/base/promotion.jl#L123\" target=\"_blank\">promotion.jl:123</a>"
      ],
      "text/plain": [
       "promote{T,S}(x::T,y::S) at promotion.jl:123"
      ]
     },
     "execution_count": 16,
     "metadata": {},
     "output_type": "execute_result"
    }
   ],
   "source": [
    "@which promote(1, Interval(1,2))"
   ]
  },
  {
   "cell_type": "code",
   "execution_count": null,
   "metadata": {
    "collapsed": true
   },
   "outputs": [],
   "source": [
    "\"which"
   ]
  },
  {
   "cell_type": "code",
   "execution_count": 74,
   "metadata": {
    "collapsed": false
   },
   "outputs": [
    {
     "data": {
      "text/plain": [
       "zero (generic function with 14 methods)"
      ]
     },
     "execution_count": 74,
     "metadata": {},
     "output_type": "execute_result"
    }
   ],
   "source": [
    "Base.zero(x::Interval) = Interval(0, 0)\n",
    "Base.zero(x::Any) = 0"
   ]
  },
  {
   "cell_type": "code",
   "execution_count": 85,
   "metadata": {
    "collapsed": false
   },
   "outputs": [
    {
     "ename": "LoadError",
     "evalue": "error in method definition: function Base.promote must be explicitly imported to be extended\nwhile loading In[85], in expression starting on line 1",
     "output_type": "error",
     "traceback": [
      "error in method definition: function Base.promote must be explicitly imported to be extended\nwhile loading In[85], in expression starting on line 1",
      ""
     ]
    }
   ],
   "source": [
    "promote(x::Real, y::Interval) = Interval"
   ]
  },
  {
   "cell_type": "code",
   "execution_count": 75,
   "metadata": {
    "collapsed": false
   },
   "outputs": [
    {
     "data": {
      "text/plain": [
       "2x2 Array{Float64,2}:\n",
       " 1.0  0.0\n",
       " 0.0  1.0"
      ]
     },
     "execution_count": 75,
     "metadata": {},
     "output_type": "execute_result"
    }
   ],
   "source": [
    "M"
   ]
  },
  {
   "cell_type": "code",
   "execution_count": 82,
   "metadata": {
    "collapsed": false
   },
   "outputs": [
    {
     "data": {
      "text/plain": [
       "(Int64,Interval)"
      ]
     },
     "execution_count": 82,
     "metadata": {},
     "output_type": "execute_result"
    }
   ],
   "source": [
    "typeof(promote(1, Interval(3,4)))"
   ]
  },
  {
   "cell_type": "code",
   "execution_count": 81,
   "metadata": {
    "collapsed": false
   },
   "outputs": [
    {
     "ename": "LoadError",
     "evalue": "ans not defined\nwhile loading In[81], in expression starting on line 1",
     "output_type": "error",
     "traceback": [
      "ans not defined\nwhile loading In[81], in expression starting on line 1",
      ""
     ]
    }
   ],
   "source": [
    "typeof(ans)"
   ]
  },
  {
   "cell_type": "code",
   "execution_count": 77,
   "metadata": {
    "collapsed": false
   },
   "outputs": [
    {
     "name": "stdout",
     "output_type": "stream",
     "text": [
      "Base.zero(x)\n",
      "\n",
      "   Get the additive identity element for the type of x (x can also\n",
      "   specify the type itself).\n"
     ]
    }
   ],
   "source": [
    "? zero"
   ]
  },
  {
   "cell_type": "code",
   "execution_count": null,
   "metadata": {
    "collapsed": true
   },
   "outputs": [],
   "source": [
    "? zero"
   ]
  },
  {
   "cell_type": "code",
   "execution_count": 46,
   "metadata": {
    "collapsed": false
   },
   "outputs": [
    {
     "data": {
      "text/plain": [
       "2-element Array{Interval,1}:\n",
       " Interval(-2.0,1.0)\n",
       " Interval(5.0,6.0) "
      ]
     },
     "execution_count": 46,
     "metadata": {},
     "output_type": "execute_result"
    }
   ],
   "source": [
    "push!([Interval(1,-2)],Interval(6,5))"
   ]
  },
  {
   "cell_type": "markdown",
   "metadata": {},
   "source": [
    " Dos formas posibles serían un arreglo de intervalos para formar la caja. Otra manera viable sería un intervalo donde cada extremo es un arreglo de números."
   ]
  },
  {
   "cell_type": "markdown",
   "metadata": {},
   "source": [
    "[3] ¿Cuáles operaciones matemáticas necesitaremos definir sobre los intervalos multi-dimensionales? Impleméntalos en un módulo. ¿Cuál de las dos definiciones resulta más útil en ese respecto?"
   ]
  },
  {
   "cell_type": "markdown",
   "metadata": {},
   "source": [
    "[4] Considera la función $f: \\mathbb{R}^2 \\to \\mathbb{R}^2$, dada por $f(x,y) = \\mathsf{M} \\cdot \\mathbf{x}$, con $\\mathsf{M} = \\begin{pmatrix} 2 & 1 \\\\ 1 & 1 \\end{pmatrix}$.\n",
    "\n",
    "(i) Encuentra a mano la imagen del cuadrado unitario. Encuentra el intervalo multi-dimensional más pequeño que contiene este conjunto.\n",
    "\n",
    "(ii) Verifica el resultado con tu código.\n",
    "\n",
    "(iii) ¿Cuál es el problema que ocurre? ¿Cómo lo podríamos resolver? Impleméntalo."
   ]
  },
  {
   "cell_type": "markdown",
   "metadata": {},
   "source": [
    "[5] Haz lo mismo para la imagen del cuadrado unitario bajo la función \n",
    "\n",
    "$$ \\begin{pmatrix} x \\\\ y \\end{pmatrix} \\mapsto \n",
    "\\begin{pmatrix} 1 - ax^2 + y \\\\ b x \\end{pmatrix},$$\n",
    "\n",
    "con $a = 1.4$ y $b=0.3$ (el famoso \"mapeo de Hénon\")."
   ]
  }
 ],
 "metadata": {
  "kernelspec": {
   "display_name": "Julia 0.3.6",
   "language": "julia",
   "name": "julia 0.3"
  },
  "language_info": {
   "name": "julia",
   "version": "0.3.6"
  }
 },
 "nbformat": 4,
 "nbformat_minor": 0
}
