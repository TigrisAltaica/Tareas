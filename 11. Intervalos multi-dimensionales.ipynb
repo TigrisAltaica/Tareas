{
 "cells": [
  {
   "cell_type": "markdown",
   "metadata": {},
   "source": [
    "# Intervalos multi-dimensionales "
   ]
  },
  {
   "cell_type": "markdown",
   "metadata": {},
   "source": [
    "Para resolver problemas en más que una dimensión, será necesario poder calcular un *enclosure* (\"encierro\") de la imagen de una función sobre un conjunto en varias dimensiones.\n",
    "Para ello, podemos definir **intervalos multi-dimensionales**, de manera análoga a los intervalos uni-dimensionales que ya conocemos."
   ]
  },
  {
   "cell_type": "code",
   "execution_count": 1,
   "metadata": {
    "collapsed": false
   },
   "outputs": [
    {
     "name": "stderr",
     "output_type": "stream",
     "text": [
      "Warning: New definition \n",
      "    promote_type(Type{T<:Number},Type{Interval}) at /home/pablo1/Documents/Tareas/TareasMetodosNumericosAvanzados/Intervals.jl:467\n",
      "is ambiguous with: \n",
      "    promote_type(Type{None},Type{T}) at promotion.jl:103.\n",
      "To fix, define \n",
      "    promote_type(Type{None},Type{Interval})\n",
      "before the new definition.\n",
      "Warning: New definition \n",
      "    promote_type(Type{T<:Number},Type{Interval}) at /home/pablo1/Documents/Tareas/TareasMetodosNumericosAvanzados/Intervals.jl:467\n",
      "is ambiguous with: \n",
      "    promote_type(Type{T},Type{T}) at promotion.jl:101.\n",
      "To fix, define \n",
      "    promote_type(Type{_<:Number},Type{_<:Number})\n",
      "before the new definition.\n"
     ]
    },
    {
     "name": "stdout",
     "output_type": "stream",
     "text": [
      "Prueba básicas de Intervalos:\n",
      "Solo se utilizó la parte no negativa del intervalo\n",
      "26 facts verified.\n"
     ]
    },
    {
     "name": "stderr",
     "output_type": "stream",
     "text": [
      "INFO: Loading help data...\n"
     ]
    }
   ],
   "source": [
    "\n",
    "using Intervals\n",
    "using IntervalsTest\n",
    "using PyPlot\n",
    "\n"
   ]
  },
  {
   "cell_type": "markdown",
   "metadata": {},
   "source": [
    "[1] ¿Cuál sería una definición matemática razonable de un intervalo multi-dimensional?"
   ]
  },
  {
   "cell_type": "markdown",
   "metadata": {},
   "source": [
    "La idea es generalizar el concepto usual de intervalo a varias dimensiones:\n",
    "\n",
    "$\\rightarrow\\qquad[\\overline{a},\\overline{b}] := \\{\\overline{x} \\in \\mathbb{R}^n : \\overline{a} \\le \\overline{x} \\le \\overline{b} \\}$\n",
    "\n",
    "Sin embargo en más de una definición no es trivial definir las desigualdades. Una forma de generalizar el concepto es cajas de $n$ dimensiones. En este concepto, cada componente de $\\overline{x}$ debe de cumplir con ambas desigualdades respecto a las componentes correspondientes de $\\overline{a},\\overline{b}$:\n",
    "\n",
    "$\\rightarrow\\qquad[\\overline{a},\\overline{b}] := \\{\\overline{x} \\in \\mathbb{R}^n : a_i \\le x_i \\le b_i \\quad \\forall \\quad i \\in {1,2,...,n} \\}$\n",
    "\n",
    "Otra opción, la cual no necesariamente es tan análoga a la unidimensional, sería definir un punto en el espacio de n dimensiones como el centro de una bola y luego proporcionar un radio."
   ]
  },
  {
   "cell_type": "markdown",
   "metadata": {},
   "source": [
    "[2] ¿Cómo podríamos expresar esto en Julia? Da dos posibilidades.\n",
    "\n",
    "[Pista: Checa `typealias`]"
   ]
  },
  {
   "cell_type": "markdown",
   "metadata": {},
   "source": [
    " Dos formas posibles serían un arreglo de intervalos para formar la caja. Otra manera viable sería un intervalo donde cada extremo es un arreglo de números."
   ]
  },
  {
   "cell_type": "markdown",
   "metadata": {},
   "source": [
    "[3] ¿Cuáles operaciones matemáticas necesitaremos definir sobre los intervalos multi-dimensionales? Impleméntalos en un módulo. ¿Cuál de las dos definiciones resulta más útil en ese respecto?"
   ]
  },
  {
   "cell_type": "markdown",
   "metadata": {},
   "source": [
    "La de un arreglo de intervalos! Coloco todas mis definiciones en mi modulo actual de intervalos y actualizo los tests."
   ]
  },
  {
   "cell_type": "markdown",
   "metadata": {},
   "source": [
    "[4] Considera la función $f: \\mathbb{R}^2 \\to \\mathbb{R}^2$, dada por $f(x,y) = \\mathsf{M} \\cdot \\mathbf{x}$, con $\\mathsf{M} = \\begin{pmatrix} 2 & 1 \\\\ 1 & 1 \\end{pmatrix}$.\n",
    "\n",
    "(i) Encuentra a mano la imagen del cuadrado unitario. Encuentra el intervalo multi-dimensional más pequeño que contiene este conjunto.\n",
    "\n",
    "(ii) Verifica el resultado con tu código.\n",
    "\n",
    "(iii) ¿Cuál es el problema que ocurre? ¿Cómo lo podríamos resolver? Impleméntalo."
   ]
  },
  {
   "cell_type": "markdown",
   "metadata": {},
   "source": [
    "Defino el Intervalo multidimensional que corresponde al cuadrado unitario. La función MakeMultiDimInterval(N,X) me crea un intervalo multidimensional de N componentes, todas de la forma [-X,X]. Creo las cuatro esquinas como arreglos normales y simplemente aplico M a cada uno de ellos para ver la forma del cuadrado."
   ]
  },
  {
   "cell_type": "code",
   "execution_count": 2,
   "metadata": {
    "collapsed": false
   },
   "outputs": [
    {
     "data": {
      "text/plain": [
       "1.0"
      ]
     },
     "execution_count": 2,
     "metadata": {},
     "output_type": "execute_result"
    }
   ],
   "source": [
    "#Defino el Intervalo multidimensional que corresponde al cuadradu unitario\n",
    "\n",
    "A = MultiDimInterval(2,[Interval(0,3),Interval(0,2)])\n",
    "M = [2  1; 1 1]\n",
    "\n",
    "p1 = [0,0] \n",
    "p2 = [1,-0]\n",
    "p3 = [1,1]\n",
    "p4 = [0,.1]\n",
    "\n",
    "det(M)"
   ]
  },
  {
   "cell_type": "code",
   "execution_count": 3,
   "metadata": {
    "collapsed": false
   },
   "outputs": [
    {
     "data": {
      "text/plain": [
       "6.0"
      ]
     },
     "execution_count": 3,
     "metadata": {},
     "output_type": "execute_result"
    }
   ],
   "source": [
    "function MultiDimIntervalVolume(I::MultiDimInterval)\n",
    "    \n",
    "    a=1\n",
    "    \n",
    "    for i=1:I.N\n",
    "        a*=IntervalLength(I.I[i])\n",
    "    end\n",
    "    \n",
    "    return(a)\n",
    "end\n",
    "\n",
    "MultiDimIntervalVolume(A)"
   ]
  },
  {
   "cell_type": "code",
   "execution_count": 4,
   "metadata": {
    "collapsed": false
   },
   "outputs": [
    {
     "data": {
      "text/plain": [
       "f (generic function with 1 method)"
      ]
     },
     "execution_count": 4,
     "metadata": {},
     "output_type": "execute_result"
    }
   ],
   "source": [
    "f(x)=M*x    "
   ]
  },
  {
   "cell_type": "code",
   "execution_count": 5,
   "metadata": {
    "collapsed": false
   },
   "outputs": [
    {
     "data": {
      "text/plain": [
       "2-element Array{Int64,1}:\n",
       " 0\n",
       " 0"
      ]
     },
     "execution_count": 5,
     "metadata": {},
     "output_type": "execute_result"
    }
   ],
   "source": [
    "f(p1)"
   ]
  },
  {
   "cell_type": "code",
   "execution_count": 6,
   "metadata": {
    "collapsed": false
   },
   "outputs": [
    {
     "data": {
      "text/plain": [
       "2-element Array{Int64,1}:\n",
       " 3\n",
       " 2"
      ]
     },
     "execution_count": 6,
     "metadata": {},
     "output_type": "execute_result"
    }
   ],
   "source": [
    "f(p3)"
   ]
  },
  {
   "cell_type": "code",
   "execution_count": 7,
   "metadata": {
    "collapsed": false
   },
   "outputs": [
    {
     "data": {
      "text/plain": [
       "2-element Array{Float64,1}:\n",
       " 0.1\n",
       " 0.1"
      ]
     },
     "execution_count": 7,
     "metadata": {},
     "output_type": "execute_result"
    }
   ],
   "source": [
    "f(p4)"
   ]
  },
  {
   "cell_type": "code",
   "execution_count": 8,
   "metadata": {
    "collapsed": false
   },
   "outputs": [
    {
     "data": {
      "text/plain": [
       "2-element Array{Int64,1}:\n",
       " 2\n",
       " 1"
      ]
     },
     "execution_count": 8,
     "metadata": {},
     "output_type": "execute_result"
    }
   ],
   "source": [
    "f(p2)"
   ]
  },
  {
   "cell_type": "code",
   "execution_count": 9,
   "metadata": {
    "collapsed": false
   },
   "outputs": [
    {
     "data": {
      "text/plain": [
       "2-element Array{Interval,1}:\n",
       " Interval(0.0,8.0)\n",
       " Interval(0.0,5.0)"
      ]
     },
     "execution_count": 9,
     "metadata": {},
     "output_type": "execute_result"
    }
   ],
   "source": [
    "f(A.I)"
   ]
  },
  {
   "cell_type": "markdown",
   "metadata": {},
   "source": [
    "De nuevo, como en el caso de una dimensión, el problema resulta ser que el intervalo multidimensional obtenido contiene al rango de la función, pero también contiene muchos puntos que no se encuentran en el rango. El jacobiano de la transformación claramente es 1, sin embargo, el código toma un cuadrado de área 1 y lo mapea a un rectangulo de área 6! Una opción posible puede ser mapear el cuadrado unitario \"a cachos\" es decir, dividirlo en un cierto número de cuadrados más pequeños y generar una matriz de los mapeos resultantes:\n"
   ]
  },
  {
   "cell_type": "code",
   "execution_count": 54,
   "metadata": {
    "collapsed": false
   },
   "outputs": [
    {
     "data": {
      "text/plain": [
       "8x8 Array{MultiDimInterval,2}:\n",
       " MultiDimInterval(2,[Interval(0.0,0.375),Interval(0.0,0.25)])      …  MultiDimInterval(2,[Interval(0.875,1.25),Interval(0.875,1.125)])\n",
       " MultiDimInterval(2,[Interval(0.25,0.625),Interval(0.125,0.375)])     MultiDimInterval(2,[Interval(1.125,1.5),Interval(1.0,1.25)])    \n",
       " MultiDimInterval(2,[Interval(0.5,0.875),Interval(0.25,0.5)])         MultiDimInterval(2,[Interval(1.375,1.75),Interval(1.125,1.375)])\n",
       " MultiDimInterval(2,[Interval(0.75,1.125),Interval(0.375,0.625)])     MultiDimInterval(2,[Interval(1.625,2.0),Interval(1.25,1.5)])    \n",
       " MultiDimInterval(2,[Interval(1.0,1.375),Interval(0.5,0.75)])         MultiDimInterval(2,[Interval(1.875,2.25),Interval(1.375,1.625)])\n",
       " MultiDimInterval(2,[Interval(1.25,1.625),Interval(0.625,0.875)])  …  MultiDimInterval(2,[Interval(2.125,2.5),Interval(1.5,1.75)])    \n",
       " MultiDimInterval(2,[Interval(1.5,1.875),Interval(0.75,1.0)])         MultiDimInterval(2,[Interval(2.375,2.75),Interval(1.625,1.875)])\n",
       " MultiDimInterval(2,[Interval(1.75,2.125),Interval(0.875,1.125)])     MultiDimInterval(2,[Interval(2.625,3.0),Interval(1.75,2.0)])    "
      ]
     },
     "execution_count": 54,
     "metadata": {},
     "output_type": "execute_result"
    }
   ],
   "source": [
    "function unity_square_mapper(F::Function,N::Int)\n",
    "    \n",
    "    map=Array(MultiDimInterval,N,N)\n",
    "    vol=0\n",
    "    \n",
    "    \n",
    "    for i=1:N\n",
    "        for j=1:N\n",
    "            \n",
    "            A=MultiDimInterval(2,[Interval(0+(1/N)*(i-1),0+(1/N)*i),Interval(0+(1/N)*(j-1),0+(1/N)*j)])\n",
    "            map[i,j]=MultiDimInterval(2,f(A.I))\n",
    "            vol+=MultiDimIntervalVolume(map[i,j])  \n",
    "        end\n",
    "    end\n",
    "    \n",
    "    return(map)\n",
    "end\n",
    "                \n",
    "unity_square_mapper(f,8)   "
   ]
  },
  {
   "cell_type": "markdown",
   "metadata": {},
   "source": [
    "Esto no resuelve el problema, el área total de los intervalos del mapeo sigue siendo la misma. Parece ser más razonable mapear los cuatro puntos utilizando los intervalos para obtener un \"límite superior\" y un \"límite inferior para cada una de las esquinas."
   ]
  },
  {
   "cell_type": "code",
   "execution_count": 10,
   "metadata": {
    "collapsed": false
   },
   "outputs": [
    {
     "data": {
      "text/plain": [
       "MultiDimInterval(2,[Interval(0.0,0.0),Interval(0.75,1.15)])"
      ]
     },
     "execution_count": 10,
     "metadata": {},
     "output_type": "execute_result"
    }
   ],
   "source": [
    "P1 = MultiDimInterval(2,[Interval(0,0),Interval(0,0)])\n",
    "P2 = MultiDimInterval(2,[Interval(.75,1.15),Interval(0,0)])\n",
    "P3 = MultiDimInterval(2,[Interval(.75,1.15),Interval(.75,1.15)])\n",
    "P4 = MultiDimInterval(2,[Interval(0,0),Interval(.75,1.15)])\n"
   ]
  },
  {
   "cell_type": "code",
   "execution_count": 11,
   "metadata": {
    "collapsed": false
   },
   "outputs": [
    {
     "data": {
      "text/plain": [
       "2-element Array{Interval,1}:\n",
       " Interval(0.0,0.0)\n",
       " Interval(0.0,0.0)"
      ]
     },
     "execution_count": 11,
     "metadata": {},
     "output_type": "execute_result"
    }
   ],
   "source": [
    "f1=f(P1.I)"
   ]
  },
  {
   "cell_type": "code",
   "execution_count": 12,
   "metadata": {
    "collapsed": false
   },
   "outputs": [
    {
     "data": {
      "text/plain": [
       "2-element Array{Interval,1}:\n",
       " Interval(1.5,2.3)  \n",
       " Interval(0.75,1.15)"
      ]
     },
     "execution_count": 12,
     "metadata": {},
     "output_type": "execute_result"
    }
   ],
   "source": [
    "f2=f(P2.I)"
   ]
  },
  {
   "cell_type": "code",
   "execution_count": 13,
   "metadata": {
    "collapsed": false
   },
   "outputs": [
    {
     "data": {
      "text/plain": [
       "2-element Array{Interval,1}:\n",
       " Interval(2.25,3.4499999999999997)\n",
       " Interval(1.5,2.3)                "
      ]
     },
     "execution_count": 13,
     "metadata": {},
     "output_type": "execute_result"
    }
   ],
   "source": [
    "f3=f(P3.I)"
   ]
  },
  {
   "cell_type": "code",
   "execution_count": 14,
   "metadata": {
    "collapsed": false
   },
   "outputs": [
    {
     "data": {
      "text/plain": [
       "2-element Array{Interval,1}:\n",
       " Interval(0.75,1.15)\n",
       " Interval(0.75,1.15)"
      ]
     },
     "execution_count": 14,
     "metadata": {},
     "output_type": "execute_result"
    }
   ],
   "source": [
    "f4=f(P4.I)"
   ]
  },
  {
   "cell_type": "code",
   "execution_count": 15,
   "metadata": {
    "collapsed": false
   },
   "outputs": [
    {
     "data": {
      "text/plain": [
       "4-element Array{Float64,1}:\n",
       " 0.0 \n",
       " 1.15\n",
       " 2.3 \n",
       " 1.15"
      ]
     },
     "execution_count": 15,
     "metadata": {},
     "output_type": "execute_result"
    }
   ],
   "source": [
    "xmin=[f1[1].a,f2[1].a,f3[1].a,f4[1].a]\n",
    "ymin=[f1[2].a,f2[2].a,f3[2].a,f4[2].a]\n",
    "\n",
    "xmax=[f1[1].b,f2[1].b,f3[1].b,f4[1].b]\n",
    "ymax=[f1[2].b,f2[2].b,f3[2].b,f4[2].b]"
   ]
  },
  {
   "cell_type": "code",
   "execution_count": 16,
   "metadata": {
    "collapsed": false
   },
   "outputs": [
    {
     "ename": "LoadError",
     "evalue": "layer not defined\nwhile loading In[16], in expression starting on line 1",
     "output_type": "error",
     "traceback": [
      "layer not defined\nwhile loading In[16], in expression starting on line 1",
      ""
     ]
    }
   ],
   "source": [
    "plot(layer(x=xmin,y=ymin,Geom.point),layer(x=xmax,y=ymax,Geom.point))"
   ]
  },
  {
   "cell_type": "code",
   "execution_count": 143,
   "metadata": {
    "collapsed": false
   },
   "outputs": [
    {
     "data": {
      "image/png": "[encoded data removed]",
      "text/plain": [
       "Figure(PyObject <matplotlib.figure.Figure object at 0x7f42c1583e50>)"
      ]
     },
     "metadata": {},
     "output_type": "display_data"
    },
    {
     "data": {
      "text/plain": [
       "PyObject <matplotlib.collections.PathCollection object at 0x7f42c12e9cd0>"
      ]
     },
     "execution_count": 143,
     "metadata": {},
     "output_type": "execute_result"
    }
   ],
   "source": [
    "scatter(xmax,ymax)"
   ]
  },
  {
   "cell_type": "markdown",
   "metadata": {},
   "source": [
    "[5] Haz lo mismo para la imagen del cuadrado unitario bajo la función \n",
    "\n",
    "$$ \\begin{pmatrix} x \\\\ y \\end{pmatrix} \\mapsto \n",
    "\\begin{pmatrix} 1 - ax^2 + y \\\\ b x \\end{pmatrix},$$\n",
    "\n",
    "con $a = 1.4$ y $b=0.3$ (el famoso \"mapeo de Hénon\")."
   ]
  },
  {
   "cell_type": "code",
   "execution_count": 59,
   "metadata": {
    "collapsed": false
   },
   "outputs": [
    {
     "data": {
      "text/plain": [
       "Henon (generic function with 1 method)"
      ]
     },
     "execution_count": 59,
     "metadata": {},
     "output_type": "execute_result"
    }
   ],
   "source": [
    "function Henon(I)\n",
    "    return(MultiDimInterval(2,[1-1.4*I[1]+I[2],.3*I[1]]))\n",
    "end"
   ]
  },
  {
   "cell_type": "code",
   "execution_count": 58,
   "metadata": {
    "collapsed": false
   },
   "outputs": [
    {
     "data": {
      "text/plain": [
       "(Interval(-0.3999999999999999,2.0),Interval(0.0,0.3))"
      ]
     },
     "execution_count": 58,
     "metadata": {},
     "output_type": "execute_result"
    }
   ],
   "source": [
    "Henon(A.I)"
   ]
  },
  {
   "cell_type": "code",
   "execution_count": 59,
   "metadata": {
    "collapsed": false
   },
   "outputs": [
    {
     "data": {
      "text/plain": [
       "(1.0,0.0)"
      ]
     },
     "execution_count": 59,
     "metadata": {},
     "output_type": "execute_result"
    }
   ],
   "source": [
    "Henon(p1)"
   ]
  },
  {
   "cell_type": "code",
   "execution_count": 60,
   "metadata": {
    "collapsed": false
   },
   "outputs": [
    {
     "data": {
      "text/plain": [
       "(-0.3999999999999999,0.3)"
      ]
     },
     "execution_count": 60,
     "metadata": {},
     "output_type": "execute_result"
    }
   ],
   "source": [
    "Henon(p2)"
   ]
  },
  {
   "cell_type": "code",
   "execution_count": 61,
   "metadata": {
    "collapsed": false
   },
   "outputs": [
    {
     "data": {
      "text/plain": [
       "(0.6000000000000001,0.3)"
      ]
     },
     "execution_count": 61,
     "metadata": {},
     "output_type": "execute_result"
    }
   ],
   "source": [
    "Henon(p3)"
   ]
  },
  {
   "cell_type": "code",
   "execution_count": 62,
   "metadata": {
    "collapsed": false
   },
   "outputs": [
    {
     "data": {
      "text/plain": [
       "(2.0,0.0)"
      ]
     },
     "execution_count": 62,
     "metadata": {},
     "output_type": "execute_result"
    }
   ],
   "source": [
    "Henon(p4)"
   ]
  },
  {
   "cell_type": "markdown",
   "metadata": {
    "collapsed": true
   },
   "source": [
    "Ahora la matriz Jacobiana es más compleja, ya que no es consntante:\n",
    "\n",
    "$\\begin{pmatrix} -2ax & 1 \\\\ b & 0 \\end{pmatrix}$\n",
    "\n",
    "El jacobiano de la función es b."
   ]
  },
  {
   "cell_type": "code",
   "execution_count": 60,
   "metadata": {
    "collapsed": false
   },
   "outputs": [
    {
     "data": {
      "text/plain": [
       "5.58"
      ]
     },
     "execution_count": 60,
     "metadata": {},
     "output_type": "execute_result"
    }
   ],
   "source": [
    "MultiDimIntervalVolume(Henon(A.I))"
   ]
  },
  {
   "cell_type": "markdown",
   "metadata": {},
   "source": [
    "Pero esto cubre mucha más área de lo esperado!"
   ]
  },
  {
   "cell_type": "code",
   "execution_count": 149,
   "metadata": {
    "collapsed": false
   },
   "outputs": [
    {
     "data": {
      "text/plain": [
       "2-element Array{Interval,1}:\n",
       " Interval(1.0,1.0)\n",
       " Interval(0.0,0.0)"
      ]
     },
     "execution_count": 149,
     "metadata": {},
     "output_type": "execute_result"
    }
   ],
   "source": [
    "h1=Henon(P1.I).I"
   ]
  },
  {
   "cell_type": "code",
   "execution_count": 150,
   "metadata": {
    "collapsed": false
   },
   "outputs": [
    {
     "data": {
      "text/plain": [
       "2-element Array{Interval,1}:\n",
       " Interval(-0.6099999999999999,-0.04999999999999982)\n",
       " Interval(0.22499999999999998,0.345)               "
      ]
     },
     "execution_count": 150,
     "metadata": {},
     "output_type": "execute_result"
    }
   ],
   "source": [
    "h2=Henon(P2.I).I"
   ]
  },
  {
   "cell_type": "code",
   "execution_count": 151,
   "metadata": {
    "collapsed": false
   },
   "outputs": [
    {
     "data": {
      "text/plain": [
       "2-element Array{Interval,1}:\n",
       " Interval(0.14000000000000012,1.1)  \n",
       " Interval(0.22499999999999998,0.345)"
      ]
     },
     "execution_count": 151,
     "metadata": {},
     "output_type": "execute_result"
    }
   ],
   "source": [
    "h3=Henon(P3.I).I"
   ]
  },
  {
   "cell_type": "code",
   "execution_count": 152,
   "metadata": {
    "collapsed": false
   },
   "outputs": [
    {
     "data": {
      "text/plain": [
       "2-element Array{Interval,1}:\n",
       " Interval(1.75,2.15)\n",
       " Interval(0.0,0.0)  "
      ]
     },
     "execution_count": 152,
     "metadata": {},
     "output_type": "execute_result"
    }
   ],
   "source": [
    "h4=Henon(P4.I).I"
   ]
  },
  {
   "cell_type": "code",
   "execution_count": 158,
   "metadata": {
    "collapsed": false
   },
   "outputs": [
    {
     "data": {
      "text/plain": [
       "4-element Array{Float64,1}:\n",
       " 0.0  \n",
       " 0.345\n",
       " 0.345\n",
       " 0.0  "
      ]
     },
     "execution_count": 158,
     "metadata": {},
     "output_type": "execute_result"
    }
   ],
   "source": [
    "hxmin=[h1[1].a,h2[1].a,h3[1].a,h4[1].a]\n",
    "hymin=[h1[2].a,h2[2].a,h3[2].a,h4[2].a]\n",
    "\n",
    "hxmax=[h1[1].b,h2[1].b,h3[1].b,h4[1].b]\n",
    "hymax=[h1[2].b,h2[2].b,h3[2].b,h4[2].b]"
   ]
  },
  {
   "cell_type": "code",
   "execution_count": 17,
   "metadata": {
    "collapsed": false
   },
   "outputs": [
    {
     "ename": "LoadError",
     "evalue": "hxmin not defined\nwhile loading In[17], in expression starting on line 1",
     "output_type": "error",
     "traceback": [
      "hxmin not defined\nwhile loading In[17], in expression starting on line 1",
      ""
     ]
    }
   ],
   "source": [
    "scatter(hxmin,hymin)"
   ]
  },
  {
   "cell_type": "code",
   "execution_count": 159,
   "metadata": {
    "collapsed": false
   },
   "outputs": [
    {
     "data": {
      "image/png": "[encoded data removed]",
      "text/plain": [
       "Figure(PyObject <matplotlib.figure.Figure object at 0x7f42c1583e50>)"
      ]
     },
     "metadata": {},
     "output_type": "display_data"
    },
    {
     "data": {
      "text/plain": [
       "PyObject <matplotlib.collections.PathCollection object at 0x7f42c1612350>"
      ]
     },
     "execution_count": 159,
     "metadata": {},
     "output_type": "execute_result"
    }
   ],
   "source": [
    "scatter(hxmax,hymax)"
   ]
  },
  {
   "cell_type": "code",
   "execution_count": null,
   "metadata": {
    "collapsed": true
   },
   "outputs": [],
   "source": []
  }
 ],
 "metadata": {
  "kernelspec": {
   "display_name": "Julia 0.3.7",
   "language": "julia",
   "name": "julia 0.3"
  },
  "language_info": {
   "name": "julia",
   "version": "0.3.7"
  }
 },
 "nbformat": 4,
 "nbformat_minor": 0
}
